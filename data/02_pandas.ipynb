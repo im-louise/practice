{
 "cells": [
  {
   "cell_type": "markdown",
   "id": "54d69fa6",
   "metadata": {},
   "source": [
    "# Pandas\n",
    "`02_pandas.ipynb`\n",
    "\n",
    "## 특징\n",
    "- 표(테이블) 데이터를 다루는데 특화\n",
    "- 다양한 외부 소스에서 데이터 가져오기(csv,excel, SQL db)\n",
    "- 데이터 정제, 변환, 분석에 필요한 기능 다수\n",
    "- 결측치 처리, 그룹화, 병합 작업에 효율"
   ]
  },
  {
   "cell_type": "code",
   "execution_count": 1,
   "id": "ec1656e3",
   "metadata": {},
   "outputs": [
    {
     "name": "stdout",
     "output_type": "stream",
     "text": [
      "Collecting pandas\n",
      "  Downloading pandas-2.3.1-cp313-cp313-win_amd64.whl.metadata (19 kB)\n",
      "Requirement already satisfied: numpy>=1.26.0 in c:\\users\\samsung\\appdata\\local\\programs\\python\\python313\\lib\\site-packages (from pandas) (2.3.2)\n",
      "Requirement already satisfied: python-dateutil>=2.8.2 in c:\\users\\samsung\\appdata\\local\\programs\\python\\python313\\lib\\site-packages (from pandas) (2.9.0.post0)\n",
      "Collecting pytz>=2020.1 (from pandas)\n",
      "  Downloading pytz-2025.2-py2.py3-none-any.whl.metadata (22 kB)\n",
      "Collecting tzdata>=2022.7 (from pandas)\n",
      "  Downloading tzdata-2025.2-py2.py3-none-any.whl.metadata (1.4 kB)\n",
      "Requirement already satisfied: six>=1.5 in c:\\users\\samsung\\appdata\\local\\programs\\python\\python313\\lib\\site-packages (from python-dateutil>=2.8.2->pandas) (1.17.0)\n",
      "Downloading pandas-2.3.1-cp313-cp313-win_amd64.whl (11.0 MB)\n",
      "   ---------------------------------------- 0.0/11.0 MB ? eta -:--:--\n",
      "   ---------------------------------------  10.7/11.0 MB 24.0 MB/s eta 0:00:01\n",
      "   ---------------------------------------- 11.0/11.0 MB 11.8 MB/s eta 0:00:00\n",
      "Downloading pytz-2025.2-py2.py3-none-any.whl (509 kB)\n",
      "Downloading tzdata-2025.2-py2.py3-none-any.whl (347 kB)\n",
      "Installing collected packages: pytz, tzdata, pandas\n",
      "Successfully installed pandas-2.3.1 pytz-2025.2 tzdata-2025.2\n",
      "Note: you may need to restart the kernel to use updated packages.\n"
     ]
    },
    {
     "name": "stderr",
     "output_type": "stream",
     "text": [
      "\n",
      "[notice] A new release of pip is available: 24.3.1 -> 25.1.1\n",
      "[notice] To update, run: python.exe -m pip install --upgrade pip\n"
     ]
    }
   ],
   "source": [
    "%pip install pandas"
   ]
  },
  {
   "cell_type": "code",
   "execution_count": null,
   "id": "c0b1424f",
   "metadata": {},
   "outputs": [
    {
     "name": "stdout",
     "output_type": "stream",
     "text": [
      "[[1 2 3]\n",
      " [4 5 6]\n",
      " [7 8 9]]\n",
      "   A  B  C\n",
      "0  1  2  3\n",
      "1  4  5  6\n",
      "2  7  8  9\n"
     ]
    }
   ],
   "source": [
    "import numpy as np\n",
    "import pandas as pd\n",
    "\n",
    "# numpy 배열\n",
    "np_array = np.arange(1, 10).reshape(3, 3)\n",
    "print(np_array)\n",
    "\n",
    "# pandas 데이터프레임\n",
    "df = pd.DataFrame(np_array, columns=['A', 'B', 'C'])\n",
    "print(df)"
   ]
  },
  {
   "cell_type": "markdown",
   "id": "11d0777a",
   "metadata": {},
   "source": [
    "## Series\n",
    "- 1차원 배열(벡터) with 레이블"
   ]
  },
  {
   "cell_type": "code",
   "execution_count": 8,
   "metadata": {},
   "outputs": [
    {
     "name": "stdout",
     "output_type": "stream",
     "text": [
      "0    1\n",
      "1    3\n",
      "2    5\n",
      "3    7\n",
      "4    9\n",
      "dtype: int64\n",
      "a    1\n",
      "b    3\n",
      "c    5\n",
      "d    7\n",
      "e    9\n",
      "dtype: int64\n",
      "a    1\n",
      "b    2\n",
      "c    3\n",
      "dtype: int64\n",
      "a    5\n",
      "b    5\n",
      "c    5\n",
      "dtype: int64\n"
     ]
    }
   ],
   "source": [
    "import pandas as pd\n",
    "\n",
    "# 기본 Series 생성(별말 없으면 index)\n",
    "s1 = pd.Series([1, 3, 5, 7, 9])\n",
    "print(s1)\n",
    "\n",
    "# 인덱스 지정\n",
    "s2 = pd.Series([1, 3, 5, 7, 9], index=['a', 'b', 'c', 'd', 'e'])\n",
    "print(s2)\n",
    "\n",
    "# dict 로 생성\n",
    "d = {'a':1, 'b':2, 'c':3}\n",
    "s3 = pd.Series(d)\n",
    "print(s3)\n",
    "\n",
    "# 단일값(스칼라)으로 Series 생성\n",
    "s4 = pd.Series(5, index=['a', 'b', 'c'])\n",
    "print(s4)\n"
   ]
  },
  {
   "cell_type": "code",
   "execution_count": 10,
   "metadata": {},
   "outputs": [
    {
     "name": "stdout",
     "output_type": "stream",
     "text": [
      "a    1\n",
      "b    3\n",
      "c    5\n",
      "d    7\n",
      "e    9\n",
      "dtype: int64\n",
      "[1 3 5 7 9]\n",
      "Index(['a', 'b', 'c', 'd', 'e'], dtype='object')\n",
      "int64\n",
      "1\n",
      "5\n",
      "(5,)\n",
      "a    1\n",
      "b    3\n",
      "dtype: int64\n",
      "c    5\n",
      "d    7\n",
      "e    9\n",
      "dtype: int64\n",
      "count    5.000000\n",
      "mean     5.000000\n",
      "std      3.162278\n",
      "min      1.000000\n",
      "25%      3.000000\n",
      "50%      5.000000\n",
      "75%      7.000000\n",
      "max      9.000000\n",
      "dtype: float64\n"
     ]
    }
   ],
   "source": [
    "print(s2)\n",
    "\n",
    "# 변수들...\n",
    "\n",
    "# 값\n",
    "print(s2.values)\n",
    "# 인덱스\n",
    "print(s2.index)\n",
    "# 데이터타입\n",
    "print(s2.dtype)\n",
    "# 차원\n",
    "print(s2.ndim)\n",
    "# 크기\n",
    "print(s2.size)\n",
    "# 모양\n",
    "print(s2.shape)\n",
    "\n",
    "#매서드들...\n",
    "\n",
    "# 앞에 2개\n",
    "print(s2.head(2))\n",
    "# 뒤에 3개\n",
    "print(s2.tail(3))\n",
    "# 통계 요약\n",
    "print(s2.describe())"
   ]
  },
  {
   "cell_type": "markdown",
   "id": "d303c138",
   "metadata": {},
   "source": [
    "## DataFrame\n",
    "- 2차원(매트릭스) with Label.\n",
    "- 행(row)과 열(col) 모두에 Label 설정."
   ]
  },
  {
   "cell_type": "code",
   "execution_count": 12,
   "metadata": {},
   "outputs": [
    {
     "name": "stdout",
     "output_type": "stream",
     "text": [
      "딕셔너리로부터 DataFrame 생성:\n",
      "    이름  나이 성별  점수\n",
      "0  김철수  25  남  85\n",
      "1  이영희  28  여  92\n",
      "2  박민수  22  남  78\n",
      "3  정지영  30  여  90\n",
      "\n",
      "리스트로부터 DataFrame 생성:\n",
      "    이름  나이 성별  점수\n",
      "0  김철수  25  남  85\n",
      "1  이영희  28  여  92\n",
      "2  박민수  22  남  78\n",
      "3  정지영  30  여  90\n"
     ]
    }
   ],
   "source": [
    "# 딕셔너리로부터 DataFrame 생성\n",
    "data = {\n",
    "    '이름': ['김철수', '이영희', '박민수', '정지영'],\n",
    "    '나이': [25, 28, 22, 30],\n",
    "    '성별': ['남', '여', '남', '여'],\n",
    "    '점수': [85, 92, 78, 90]\n",
    "}\n",
    "df1 = pd.DataFrame(data)\n",
    "print(\"딕셔너리로부터 DataFrame 생성:\")\n",
    "print(df1)\n",
    "\n",
    "# 리스트의 리스트로부터 DataFrame 생성\n",
    "data_list = [\n",
    "    ['김철수', 25, '남', 85],\n",
    "    ['이영희', 28, '여', 92],\n",
    "    ['박민수', 22, '남', 78],\n",
    "    ['정지영', 30, '여', 90]\n",
    "]\n",
    "df2 = pd.DataFrame(data_list, columns=['이름', '나이', '성별', '점수'])\n",
    "print(\"\\n리스트로부터 DataFrame 생성:\")\n",
    "print(df2)\n"
   ]
  },
  {
   "cell_type": "code",
   "execution_count": 13,
   "id": "0a1fed82",
   "metadata": {},
   "outputs": [
    {
     "name": "stdout",
     "output_type": "stream",
     "text": [
      "Index(['이름', '나이', '성별', '점수'], dtype='object')\n",
      "RangeIndex(start=0, stop=4, step=1)\n",
      "[['김철수' 25 '남' 85]\n",
      " ['이영희' 28 '여' 92]\n",
      " ['박민수' 22 '남' 78]\n",
      " ['정지영' 30 '여' 90]]\n",
      "이름    object\n",
      "나이     int64\n",
      "성별    object\n",
      "점수     int64\n",
      "dtype: object\n",
      "16\n",
      "(4, 4)\n"
     ]
    }
   ],
   "source": [
    "# column 정보\n",
    "print(df1.columns)\n",
    "# 인덱스(row 정보)\n",
    "print(df1.index)\n",
    "# 값\n",
    "print(df1.values)\n",
    "# 데이터 타입\n",
    "print(df1.dtypes)\n",
    "# 크기\n",
    "print(df1.size)\n",
    "# 모양\n",
    "print(df1.shape)"
   ]
  },
  {
   "cell_type": "code",
   "execution_count": 15,
   "id": "af01ccbe",
   "metadata": {},
   "outputs": [
    {
     "name": "stdout",
     "output_type": "stream",
     "text": [
      "    이름  나이 성별  점수\n",
      "0  김철수  25  남  85\n",
      "1  이영희  28  여  92\n",
      "    이름  나이 성별  점수\n",
      "2  박민수  22  남  78\n",
      "3  정지영  30  여  90\n",
      "          나이         점수\n",
      "count   4.00   4.000000\n",
      "mean   26.25  86.250000\n",
      "std     3.50   6.238322\n",
      "min    22.00  78.000000\n",
      "25%    24.25  83.250000\n",
      "50%    26.50  87.500000\n",
      "75%    28.50  90.500000\n",
      "max    30.00  92.000000\n",
      "count     4.000000\n",
      "mean     86.250000\n",
      "std       6.238322\n",
      "min      78.000000\n",
      "25%      83.250000\n",
      "50%      87.500000\n",
      "75%      90.500000\n",
      "max      92.000000\n",
      "Name: 점수, dtype: float64\n"
     ]
    }
   ],
   "source": [
    "print(df1.head(2))\n",
    "\n",
    "print(df1.tail(2))\n",
    "\n",
    "print(df1.describe())\n",
    "\n",
    "print(df1['점수'].describe())"
   ]
  },
  {
   "cell_type": "code",
   "execution_count": 16,
   "id": "bb5d2da6",
   "metadata": {},
   "outputs": [
    {
     "data": {
      "text/html": [
       "<div>\n",
       "<style scoped>\n",
       "    .dataframe tbody tr th:only-of-type {\n",
       "        vertical-align: middle;\n",
       "    }\n",
       "\n",
       "    .dataframe tbody tr th {\n",
       "        vertical-align: top;\n",
       "    }\n",
       "\n",
       "    .dataframe thead th {\n",
       "        text-align: right;\n",
       "    }\n",
       "</style>\n",
       "<table border=\"1\" class=\"dataframe\">\n",
       "  <thead>\n",
       "    <tr style=\"text-align: right;\">\n",
       "      <th></th>\n",
       "      <th>이름</th>\n",
       "      <th>나이</th>\n",
       "      <th>성별</th>\n",
       "      <th>점수</th>\n",
       "    </tr>\n",
       "  </thead>\n",
       "  <tbody>\n",
       "    <tr>\n",
       "      <th>0</th>\n",
       "      <td>김철수</td>\n",
       "      <td>25</td>\n",
       "      <td>남</td>\n",
       "      <td>85</td>\n",
       "    </tr>\n",
       "    <tr>\n",
       "      <th>1</th>\n",
       "      <td>이영희</td>\n",
       "      <td>28</td>\n",
       "      <td>여</td>\n",
       "      <td>92</td>\n",
       "    </tr>\n",
       "    <tr>\n",
       "      <th>2</th>\n",
       "      <td>박민수</td>\n",
       "      <td>22</td>\n",
       "      <td>남</td>\n",
       "      <td>78</td>\n",
       "    </tr>\n",
       "    <tr>\n",
       "      <th>3</th>\n",
       "      <td>정지영</td>\n",
       "      <td>30</td>\n",
       "      <td>여</td>\n",
       "      <td>90</td>\n",
       "    </tr>\n",
       "  </tbody>\n",
       "</table>\n",
       "</div>"
      ],
      "text/plain": [
       "    이름  나이 성별  점수\n",
       "0  김철수  25  남  85\n",
       "1  이영희  28  여  92\n",
       "2  박민수  22  남  78\n",
       "3  정지영  30  여  90"
      ]
     },
     "execution_count": 16,
     "metadata": {},
     "output_type": "execute_result"
    }
   ],
   "source": [
    "df1"
   ]
  },
  {
   "cell_type": "code",
   "execution_count": 19,
   "id": "f6f392e6",
   "metadata": {},
   "outputs": [
    {
     "name": "stdout",
     "output_type": "stream",
     "text": [
      "     나이 성별  점수\n",
      "이름            \n",
      "김철수  25  남  85\n",
      "이영희  28  여  92\n",
      "박민수  22  남  78\n",
      "정지영  30  여  90\n",
      "        나이  점수\n",
      "성별 이름         \n",
      "남  김철수  25  85\n",
      "여  이영희  28  92\n",
      "남  박민수  22  78\n",
      "여  정지영  30  90\n"
     ]
    }
   ],
   "source": [
    "# index(데이터 고유 id)는 pandas의 핵심 기능\n",
    "\n",
    "# 인덱스 재설정(0 ~ N 으로 인덱스 설정)\n",
    "df_reset = df1.reset_index()\n",
    "\n",
    "# 인덱스 설정\n",
    "df_set = df1.set_index('이름')\n",
    "print(df_set)\n",
    "\n",
    "# 다중 인덱스 설정\n",
    "df_multi = df1.set_index(['성별', '이름'])\n",
    "print(df_multi)"
   ]
  },
  {
   "cell_type": "markdown",
   "id": "9f0dde4f",
   "metadata": {},
   "source": [
    "# 데이터 접근 및 선택\n",
    "\n",
    "## 열 선택과 인덱스 접근"
   ]
  },
  {
   "cell_type": "code",
   "execution_count": null,
   "id": "6cfec39e",
   "metadata": {},
   "outputs": [
    {
     "name": "stdout",
     "output_type": "stream",
     "text": [
      "0    김철수\n",
      "1    이영희\n",
      "2    박민수\n",
      "3    정지영\n",
      "Name: 이름, dtype: object\n",
      "    이름  점수\n",
      "0  김철수  85\n",
      "1  이영희  92\n",
      "2  박민수  78\n",
      "3  정지영  90\n",
      "0    25\n",
      "1    28\n",
      "2    22\n",
      "3    30\n",
      "Name: 나이, dtype: int64\n"
     ]
    }
   ],
   "source": [
    "# DF에서 단일 열(col) 선택\n",
    "\n",
    "name_col = df1['이름']\n",
    "print(name_col)  # Series가 나온다.\n",
    "\n",
    "# 다중 열 선택\n",
    "subset = df1[['이름', '점수']]\n",
    "print(subset)  # Dataframe이 나온다.\n",
    "\n",
    "# key 접근이 아니라 속성(주어.속성) 방식 접근 - 공백/특수문자 없을경우\n",
    "print(df1.나이)\n",
    "\n",
    "# 행 선택(인덱스 기준)\n",
    "print(df1[:2])  # 맨 앞 레코드 2개"
   ]
  },
  {
   "cell_type": "markdown",
   "id": "ec4f0728",
   "metadata": {},
   "source": [
    "## `loc` 와 `iloc` 메서드\n",
    "-`loc`: 레이블 기반 인덱싱(인덱스 이름 사용)\n",
    "-`iloc`: 위치 기반 인덱싱(정수 위치 사용)"
   ]
  },
  {
   "cell_type": "code",
   "execution_count": null,
   "id": "80e44ffd",
   "metadata": {},
   "outputs": [
    {
     "name": "stdout",
     "output_type": "stream",
     "text": [
      "    이름  나이 성별  점수\n",
      "0  김철수  25  남  85\n",
      "1  이영희  28  여  92\n",
      "2  박민수  22  남  78\n",
      "3  정지영  30  여  90\n",
      "나이    25\n",
      "성별     남\n",
      "점수    85\n",
      "Name: 김철수, dtype: object\n",
      "     나이 성별  점수\n",
      "이름            \n",
      "김철수  25  남  85\n",
      "이영희  28  여  92\n"
     ]
    },
    {
     "data": {
      "text/html": [
       "<div>\n",
       "<style scoped>\n",
       "    .dataframe tbody tr th:only-of-type {\n",
       "        vertical-align: middle;\n",
       "    }\n",
       "\n",
       "    .dataframe tbody tr th {\n",
       "        vertical-align: top;\n",
       "    }\n",
       "\n",
       "    .dataframe thead th {\n",
       "        text-align: right;\n",
       "    }\n",
       "</style>\n",
       "<table border=\"1\" class=\"dataframe\">\n",
       "  <thead>\n",
       "    <tr style=\"text-align: right;\">\n",
       "      <th></th>\n",
       "      <th>나이</th>\n",
       "      <th>점수</th>\n",
       "    </tr>\n",
       "    <tr>\n",
       "      <th>이름</th>\n",
       "      <th></th>\n",
       "      <th></th>\n",
       "    </tr>\n",
       "  </thead>\n",
       "  <tbody>\n",
       "    <tr>\n",
       "      <th>김철수</th>\n",
       "      <td>25</td>\n",
       "      <td>85</td>\n",
       "    </tr>\n",
       "    <tr>\n",
       "      <th>이영희</th>\n",
       "      <td>28</td>\n",
       "      <td>92</td>\n",
       "    </tr>\n",
       "  </tbody>\n",
       "</table>\n",
       "</div>"
      ],
      "text/plain": [
       "     나이  점수\n",
       "이름         \n",
       "김철수  25  85\n",
       "이영희  28  92"
      ]
     },
     "execution_count": 22,
     "metadata": {},
     "output_type": "execute_result"
    }
   ],
   "source": [
    "print(df1)\n",
    "df3 = df1.set_index('이름')\n",
    "\n",
    "# 단일 행 선택\n",
    "row = df3.loc['김철수']\n",
    "print(row)\n",
    "\n",
    "# 여러 행 선택\n",
    "rows = df3.loc[['김철수', '이영희']]\n",
    "print(rows)\n",
    "\n",
    "# row + col 조합으로 선택\n",
    "data = f3.loc[['김철수', '이영희'],['나이', '점수']]\n",
    "print(data)"
   ]
  },
  {
   "cell_type": "code",
   "execution_count": 24,
   "id": "08467bfc",
   "metadata": {},
   "outputs": [
    {
     "name": "stdout",
     "output_type": "stream",
     "text": [
      "    이름  나이 성별  점수\n",
      "0  김철수  25  남  85\n",
      "1  이영희  28  여  92\n",
      "2  박민수  22  남  78\n",
      "3  정지영  30  여  90\n",
      "이름    김철수\n",
      "나이     25\n",
      "성별      남\n",
      "점수     85\n",
      "Name: 0, dtype: object\n",
      "    이름  나이 성별  점수\n",
      "1  이영희  28  여  92\n",
      "2  박민수  22  남  78\n",
      "   나이  점수\n",
      "0  25  85\n",
      "2  22  78\n"
     ]
    }
   ],
   "source": [
    "# iloc 예제\n",
    "\n",
    "print(df1)  # index 설정 없음\n",
    "\n",
    "# 단일 행\n",
    "first_row = df1.iloc[0]  # df1[0] 이거 아님\n",
    "print(first_row)  \n",
    "\n",
    "# 다중 행\n",
    "rows = df1.iloc[1:3]  #df1[1:3]와 같으나 iloc 사용을 권장함\n",
    "print(rows)\n",
    "\n",
    "# 행 + 열 선택 (숫자 idx)\n",
    "data = df1.iloc[[0, 2],[1, 3]]  # 0, 2는 row 번호 / 1, 3은 col 번호\n",
    "\n",
    "print(data)"
   ]
  },
  {
   "cell_type": "markdown",
   "id": "be93884b",
   "metadata": {},
   "source": [
    "## 불리언 인덱싱"
   ]
  },
  {
   "cell_type": "code",
   "execution_count": null,
   "metadata": {},
   "outputs": [
    {
     "name": "stdout",
     "output_type": "stream",
     "text": [
      "    이름  나이 성별  점수\n",
      "0  김철수  25  남  85\n",
      "1  이영희  28  여  92\n",
      "2  박민수  22  남  78\n",
      "3  정지영  30  여  90\n",
      "0     True\n",
      "1     True\n",
      "2    False\n",
      "3     True\n",
      "Name: 나이, dtype: bool\n",
      "    이름  나이 성별  점수\n",
      "0  김철수  25  남  85\n",
      "1  이영희  28  여  92\n",
      "3  정지영  30  여  90\n",
      "    이름  나이 성별  점수\n",
      "1  이영희  28  여  92\n",
      "3  정지영  30  여  90\n",
      "Empty DataFrame\n",
      "Columns: [이름, 나이, 성별, 점수]\n",
      "Index: []\n",
      "    이름  나이 성별  점수\n",
      "0  김철수  25  남  85\n",
      "3  정지영  30  여  90\n"
     ]
    }
   ],
   "source": [
    "print(df1)\n",
    "\n",
    "# 나이 25 초과 마스킹\n",
    "mask = df1['나이'] >= 25 # T, F로 이루어진 Series\n",
    "print(mask)\n",
    "\n",
    "# 필터링\n",
    "filtered = df1[mask]\n",
    "print(filtered)\n",
    "\n",
    "# 점수 80 이상, 성별 '여'\n",
    "mask2 = (df1['점수'] >= 80) & (df1['성별'] == '여')\n",
    "print(df1[mask2])  # 그냥 print(mask) 하면 T/F로만 나옴\n",
    "\n",
    "# 남성이거나, 점수 92점 이상\n",
    "mask4 = (df1['점수'] >= 92) & (df1['성별'] == '남')\n",
    "print(df1[mask4])\n",
    "\n",
    "# query 메서드로 필터링\n",
    "print(df1.query())\n",
    "\n",
    "!! 여기 체크\n",
    "\n",
    "# isin 메서드로 필터링\n",
    "names = ['김철수', '정지영']\n",
    "mask3 = df1['이름'].isin(names)\n",
    "print(df1[mask3])"
   ]
  },
  {
   "cell_type": "markdown",
   "id": "99d287b3",
   "metadata": {},
   "source": [
    "## 기술 통계"
   ]
  },
  {
   "cell_type": "code",
   "execution_count": null,
   "id": "030db3a4",
   "metadata": {},
   "outputs": [
    {
     "name": "stdout",
     "output_type": "stream",
     "text": [
      "          나이         점수\n",
      "count   4.00   4.000000\n",
      "mean   26.25  86.250000\n",
      "std     3.50   6.238322\n",
      "min    22.00  78.000000\n",
      "25%    24.25  83.250000\n",
      "50%    26.50  87.500000\n",
      "75%    28.50  90.500000\n",
      "max    30.00  92.000000\n",
      "count     4.000000\n",
      "mean     86.250000\n",
      "std       6.238322\n",
      "min      78.000000\n",
      "25%      83.250000\n",
      "50%      87.500000\n",
      "75%      90.500000\n",
      "max      92.000000\n",
      "Name: 점수, dtype: float64\n",
      "86.25\n",
      "86.25\n",
      "86.25\n",
      "86.25\n",
      "86.25\n"
     ]
    }
   ],
   "source": [
    "# 눈으로 확인하는 용도\n",
    "print(df1.describe())\n",
    "print(df1['점수'].describe())\n",
    "\n",
    "# 개별 통계 함수\n",
    "print(df1['점수'].mean()) # 평균\n",
    "print(df1['점수'].median()) # 중앙\n",
    "print(df1['점수'].std()) # 표준편차\n",
    "print(df1['점수'].min()) # 최소값\n",
    "print(df1['점수'].max()) # 최대값\n",
    "print(df1['점수'].sum()) # 총합\n",
    "\n",
    "# 범주형 col 계산\n",
    "print(df1['성별'].value_counts())\n"
   ]
  },
  {
   "cell_type": "markdown",
   "id": "131b682d",
   "metadata": {},
   "source": [
    "## 데이터 요약"
   ]
  },
  {
   "cell_type": "code",
   "execution_count": null,
   "id": "59306592",
   "metadata": {},
   "outputs": [],
   "source": [
    "# df1 표에서 성별로 그루핑하고, 점수의 평균 집계 (단순)\n",
    "gender_score = df1.groupby('성별')['점수'].mean()\n",
    "print(gender_score)\n",
    "\n",
    "type(gender_score)\n",
    "\n",
    "# 성별에 따른 여러 통계량 (복잡)\n",
    "df1.groupby('성별').agg({\n",
    "    '나이': ['mean', 'min', 'max'],\n",
    "    '점수': ['mean', 'min', 'max', 'std']\n",
    "})\n",
    "\n",
    "stat"
   ]
  },
  {
   "cell_type": "code",
   "execution_count": null,
   "id": "5be2c02f",
   "metadata": {},
   "outputs": [],
   "source": []
  }
 ],
 "metadata": {
  "kernelspec": {
   "display_name": "Python 3",
   "language": "python",
   "name": "python3"
  },
  "language_info": {
   "codemirror_mode": {
    "name": "ipython",
    "version": 3
   },
   "file_extension": ".py",
   "mimetype": "text/x-python",
   "name": "python",
   "nbconvert_exporter": "python",
   "pygments_lexer": "ipython3",
   "version": "3.13.2"
  }
 },
 "nbformat": 4,
 "nbformat_minor": 5
}
