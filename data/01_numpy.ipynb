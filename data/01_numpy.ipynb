{
 "cells": [
  {
   "cell_type": "markdown",
   "id": "bf9b0ccd",
   "metadata": {},
   "source": [
    "# '01 numpy.ipynb'\n",
    "\n",
    "- 통계 vs 데이터분석 vs 머신러닝\n",
    "    - 데이터분석 : **문제를 정의하고 인사이트 도출** (고객 구매 패턴 분석)\n",
    "    - 통계 : 데이터를 **요약, 해석하는 수학**(평균, 분산)\n",
    "    - 머신러닝 : 데이터를 학습하여 **예측**(스팸함 분류, 추천)\n",
    "- 데이터 분석 : 데이터를 분석하여 의사결정에 도움을 준다.\n",
    "    - 의사결정 데이터 기반의 근거\n",
    "    - 패턴 발견, 예측 (머신러닝)\n",
    "\n",
    "- DA Flow (흐름)\n",
    "    1. 문제 정의\n",
    "    2. 데이터 수집\n",
    "    3. 데이터 정제(결측치, 이상치 처리)\n",
    "    4. 탐색 - 시각화 (평균, 분포, 상관관계, 막대그래프, 히스토그램)\n",
    "    5. 통계분석 및 해석( 수학 -> 가설 검정, 회귀분석)\n",
    "    6. 결론 도출\n",
    "\n",
    "- 시트 vs DB vs Python\n",
    "    - 시트는 편함.\n",
    "    - DB는 대용량 처리 (억단위)\n",
    "    - 파이썬 시각화, 분석, 머신러닝\n",
    "\n",
    "- 라이브러리\n",
    "    - `numpy`: 빠름(배열 연산) (배열 vs 리스트)\n",
    "    - `pandas`: 표(dataFrame) -> `numpy` 기반으로 만들어짐\n",
    "    - `matplotlib ` : 시각화 기본(그래프)\n",
    "    - `seaborn` : 시각화 심화\n",
    "    - `scipy` : 고급 통계, 수학 연산\n",
    "    - `scikit-learn` : 머신러닝(제일 많이 씀)"
   ]
  },
  {
   "cell_type": "code",
   "execution_count": 3,
   "id": "fecc7360",
   "metadata": {},
   "outputs": [
    {
     "name": "stdout",
     "output_type": "stream",
     "text": [
      "Requirement already satisfied: numpy in c:\\users\\samsung\\appdata\\local\\programs\\python\\python313\\lib\\site-packages (2.3.2)\n",
      "Note: you may need to restart the kernel to use updated packages.\n"
     ]
    },
    {
     "name": "stderr",
     "output_type": "stream",
     "text": [
      "\n",
      "[notice] A new release of pip is available: 24.3.1 -> 25.1.1\n",
      "[notice] To update, run: python.exe -m pip install --upgrade pip\n"
     ]
    }
   ],
   "source": [
    "%pip install numpy"
   ]
  },
  {
   "cell_type": "code",
   "execution_count": 4,
   "id": "0e3d8e7f",
   "metadata": {},
   "outputs": [
    {
     "data": {
      "text/plain": [
       "[2, 4, 6, 8, 10]"
      ]
     },
     "execution_count": 4,
     "metadata": {},
     "output_type": "execute_result"
    }
   ],
   "source": [
    "python_list = [1, 2, 3, 4, 5]\n",
    "\n",
    "python_list2 = [p*2 for p in python_list]\n",
    "python_list2"
   ]
  },
  {
   "cell_type": "code",
   "execution_count": 5,
   "id": "6c62d8e8",
   "metadata": {},
   "outputs": [
    {
     "name": "stdout",
     "output_type": "stream",
     "text": [
      "[ 2  4  6  8 10]\n"
     ]
    }
   ],
   "source": [
    "import numpy as np\n",
    "\n",
    "np.array([1, 2, 3, 4, 5])\n",
    "\n",
    "array = np.array([1, 2, 3, 4, 5])\n",
    "result = array * 2\n",
    "print(result)"
   ]
  },
  {
   "cell_type": "code",
   "execution_count": 6,
   "id": "bb85d332",
   "metadata": {},
   "outputs": [
    {
     "name": "stdout",
     "output_type": "stream",
     "text": [
      "[1 2 3 4 5] <class 'numpy.ndarray'>\n",
      "차원 1\n",
      "형태 (5,)\n",
      "크기 5\n"
     ]
    }
   ],
   "source": [
    "arr = np.array([1, 2, 3, 4, 5])\n",
    "print(arr, type(arr))\n",
    "print('차원', arr.ndim)\n",
    "print('형태', arr.shape)\n",
    "print('크기', arr.size)"
   ]
  },
  {
   "cell_type": "code",
   "execution_count": 7,
   "id": "fdd73ffb",
   "metadata": {},
   "outputs": [
    {
     "name": "stdout",
     "output_type": "stream",
     "text": [
      "[1 2 3 4 5]\n"
     ]
    }
   ],
   "source": [
    "arr1d = np.array([1, 2, 3, 4, 5])\n",
    "print(arr1d)"
   ]
  },
  {
   "cell_type": "code",
   "execution_count": 8,
   "id": "3b32e0e9",
   "metadata": {},
   "outputs": [
    {
     "data": {
      "text/plain": [
       "(2, (2, 3), 6, dtype('int64'))"
      ]
     },
     "execution_count": 8,
     "metadata": {},
     "output_type": "execute_result"
    }
   ],
   "source": [
    "l2d = [\n",
    "    [1, 2, 3],\n",
    "    [4, 5, 6],\n",
    "]\n",
    "\n",
    "arr2d = np.array(l2d)\n",
    "\n",
    "arr2d.ndim, arr2d.shape, arr2d.size, arr2d.dtype"
   ]
  },
  {
   "cell_type": "code",
   "execution_count": 9,
   "id": "94a3c421",
   "metadata": {},
   "outputs": [
    {
     "data": {
      "text/plain": [
       "array([1., 2., 3.])"
      ]
     },
     "execution_count": 9,
     "metadata": {},
     "output_type": "execute_result"
    }
   ],
   "source": [
    "# 실수형 arr\n",
    "\n",
    "np.array([1, 2, 3], dtype=float)"
   ]
  },
  {
   "cell_type": "code",
   "execution_count": 10,
   "id": "e673c7f7",
   "metadata": {},
   "outputs": [
    {
     "name": "stdout",
     "output_type": "stream",
     "text": [
      "[0. 0. 0. 0. 0.] [[0. 0. 0.]\n",
      " [0. 0. 0.]]\n",
      "[1. 1. 1. 1. 1.] [[1. 1. 1.]\n",
      " [1. 1. 1.]]\n",
      "[7 7 7 7 7] [[7 7 7]\n",
      " [7 7 7]]\n",
      "[1. 2. 3.]\n"
     ]
    }
   ],
   "source": [
    "# 0으로 채워짐\n",
    "z1d = np.zeros(5)\n",
    "z2d = np.zeros((2, 3))\n",
    "print(z1d, z2d)\n",
    "\n",
    "# 1로 채워짐\n",
    "o1d = np.ones(5)\n",
    "o2d = np.ones((2, 3))\n",
    "print(o1d, o2d)\n",
    "\n",
    "# n으로 채워짐 -> 5칸을 7로 채우기\n",
    "n1d = np.full(5, 7)\n",
    "n2d = np.full((2, 3), 7)\n",
    "print(n1d, n2d)\n",
    "\n",
    "# 빈칸이지만 먼저 만듬\n",
    "empty = np.empty(3)\n",
    "print(empty)"
   ]
  },
  {
   "cell_type": "code",
   "execution_count": 11,
   "id": "5c035040",
   "metadata": {},
   "outputs": [
    {
     "name": "stdout",
     "output_type": "stream",
     "text": [
      "[0 2 4 6 8]\n",
      "[0.   0.25 0.5  0.75 1.  ]\n",
      "[  1.           3.16227766  10.          31.6227766  100.        ]\n"
     ]
    }
   ],
   "source": [
    "# 시퀸스 데이터\n",
    "\n",
    "# range\n",
    "range_arr = np.arange(0, 10, 2)\n",
    "print(range_arr)\n",
    "\n",
    "# 등간격 실수 배열\n",
    "lin_space = np.linspace(0, 1, 5)\n",
    "print(lin_space)\n",
    "\n",
    "# 로그스케일\n",
    "log_space = np.logspace(0, 2, 5) # 10^0 ~ 10^2 5개 요소\n",
    "print(log_space)"
   ]
  },
  {
   "cell_type": "code",
   "execution_count": 12,
   "id": "36c68f2f",
   "metadata": {},
   "outputs": [
    {
     "name": "stdout",
     "output_type": "stream",
     "text": [
      "[[0.64096249 0.57606384 0.81241141]\n",
      " [0.19097837 0.44477704 0.37083594]\n",
      " [0.32418474 0.29439719 0.08416526]]\n",
      "[[ 0.06563427  0.76652777 -0.27515612]\n",
      " [-0.47046382 -0.08371842 -1.63125702]\n",
      " [-1.14694763 -0.5688362   0.5394273 ]]\n",
      "[[0 7 8]\n",
      " [2 1 3]\n",
      " [9 6 0]]\n"
     ]
    },
    {
     "data": {
      "text/plain": [
       "array([0.37454012, 0.95071431, 0.73199394])"
      ]
     },
     "execution_count": 12,
     "metadata": {},
     "output_type": "execute_result"
    }
   ],
   "source": [
    "# 난수 배열\n",
    "\n",
    "# 균등 분포 난수 (0~1) 사이를 균등활률 분포\n",
    "random = np.random.rand(3, 3)  # 0 ~ 1 실수\n",
    "print(random)\n",
    "\n",
    "# *정규 분포 난수\n",
    "normal = np.random.randn(3, 3)\n",
    "print(normal)\n",
    "\n",
    "# 정수 난수 (0 ~ 9, 3*3)\n",
    "int_random = np.random.randint(0, 10, (3, 3))\n",
    "print(int_random)\n",
    "\n",
    "# 시드 설정(랜덤 재현 가능)\n",
    "np.random.seed(42)  # 랜덤 상황 42 고정\n",
    "np.random.rand(3)"
   ]
  },
  {
   "cell_type": "code",
   "execution_count": 13,
   "id": "9cc9ea6b",
   "metadata": {},
   "outputs": [
    {
     "name": "stdout",
     "output_type": "stream",
     "text": [
      "int64\n",
      "float64\n",
      "float64\n",
      "[1.2 3.4] float64\n"
     ]
    }
   ],
   "source": [
    "# 배열의 데이터 타입\n",
    "\n",
    "# 데이터 타입 확인\n",
    "arr = np.array([1, 2, 3])\n",
    "print(arr.dtype)\n",
    "\n",
    "# 데이터 타입 지정 생성\n",
    "f_arr = np.array([1, 2, 3], dtype = np.float64)\n",
    "print(f_arr.dtype)\n",
    "\n",
    "# 데이터 타입 변경 int -> float\n",
    "converted = arr.astype(np.float64)\n",
    "print(converted.dtype)\n",
    "\n",
    "# 문자열 -> 숫자 바꾸기\n",
    "str_arr = np.array(['1.2', '3.4'])\n",
    "num_arr = str_arr.astype(float) #Np.floatXX 라고 지정 안하고 float 쓰면 -> float64\n",
    "print(num_arr, num_arr.dtype)"
   ]
  },
  {
   "cell_type": "code",
   "execution_count": 14,
   "id": "d16722e8",
   "metadata": {},
   "outputs": [
    {
     "name": "stdout",
     "output_type": "stream",
     "text": [
      "8\n",
      "8\n",
      "24\n",
      "24\n"
     ]
    }
   ],
   "source": [
    "# 메모리 사용량\n",
    "print(arr.itemsize) #int64 -> 8byte\n",
    "print(converted.itemsize) # float32 -> 4byte\n",
    "\n",
    "# 총 메모리 사용량\n",
    "print(arr.nbytes)  # 8byte * 3칸\n",
    "print(converted.nbytes)"
   ]
  },
  {
   "cell_type": "code",
   "execution_count": 15,
   "id": "3ae16014",
   "metadata": {},
   "outputs": [
    {
     "name": "stdout",
     "output_type": "stream",
     "text": [
      "[ 0  1  2  3  4  5  6  7  8  9 10 11]\n",
      "[[ 0  1  2  3]\n",
      " [ 4  5  6  7]\n",
      " [ 8  9 10 11]]\n",
      "[[[ 0  1  2]\n",
      "  [ 3  4  5]]\n",
      "\n",
      " [[ 6  7  8]\n",
      "  [ 9 10 11]]]\n",
      "[[ 0  1  2  3]\n",
      " [ 4  5  6  7]\n",
      " [ 8  9 10 11]] [[ 0  1  2  3  4  5]\n",
      " [ 6  7  8  9 10 11]]\n"
     ]
    }
   ],
   "source": [
    "# 배열 재구성\n",
    "arr = np.arange(12)\n",
    "reshaped = arr.reshape(3, 4) # 3row * 4col\n",
    "print(arr)\n",
    "print(reshaped)\n",
    "\n",
    "reshaped3d = arr.reshape(2, 2, 3) # 2페이지, 2row * 3col\n",
    "print(reshaped3d)\n",
    "\n",
    "# 자동 계산\n",
    "auto1 = arr.reshape(3, -1) # row 3개, col 알아서\n",
    "auto2 = arr.reshape(-1, 6) # 행 알아서 열 6개\n",
    "\n",
    "print(auto1, auto2)"
   ]
  },
  {
   "cell_type": "code",
   "execution_count": 16,
   "id": "733770eb",
   "metadata": {},
   "outputs": [
    {
     "name": "stdout",
     "output_type": "stream",
     "text": [
      "[[ 0  1  2  3]\n",
      " [ 4  5  6  7]\n",
      " [ 8  9 10 11]]\n",
      "[ 0  1  2  3  4  5  6  7  8  9 10 11]\n",
      "[[ 0  1  2  3]\n",
      " [ 4  5  6  7]\n",
      " [ 8  9 10 11]]\n"
     ]
    }
   ],
   "source": [
    "# reshpae -> 원본 그대로, 새로운 배열 만듬\n",
    "# resize -> 원본을 바꿈\n",
    "\n",
    "arr = np.arange(12)\n",
    "reshaped = arr.reshape(3, 4) # 새로운 배열 리턴\n",
    "print(reshaped)\n",
    "print(arr)\n",
    "\n",
    "arr.resize(3, 4) # arr 이 바뀜\n",
    "print(arr)"
   ]
  },
  {
   "cell_type": "code",
   "execution_count": 17,
   "id": "0667bb75",
   "metadata": {},
   "outputs": [
    {
     "name": "stdout",
     "output_type": "stream",
     "text": [
      "[1 2 3 4 5 6] [1 2 3 4 5 6]\n"
     ]
    },
    {
     "data": {
      "text/plain": [
       "[\"'����'��(��) ���� �Ǵ� �ܺ� ����, ������ �� �ִ� ���α\\u05f7�, �Ǵ�\",\n",
       " '��ġ ������ �ƴմϴ�.']"
      ]
     },
     "execution_count": 17,
     "metadata": {},
     "output_type": "execute_result"
    }
   ],
   "source": [
    "# N차원 -> 1차원\n",
    "arr = np.array([[1, 2, 3], [4, 5, 6]])\n",
    "\n",
    "r = arr.ravel()\n",
    "f = arr.flatten()\n",
    "\n",
    "print(r, f)\n",
    "\n",
    "!! 여기 체크"
   ]
  },
  {
   "cell_type": "code",
   "execution_count": 18,
   "id": "84ae1260",
   "metadata": {},
   "outputs": [
    {
     "name": "stdout",
     "output_type": "stream",
     "text": [
      "[[1 2 3]\n",
      " [4 5 6]]\n"
     ]
    },
    {
     "data": {
      "text/plain": [
       "array([[1, 4],\n",
       "       [2, 5],\n",
       "       [3, 6]])"
      ]
     },
     "execution_count": 18,
     "metadata": {},
     "output_type": "execute_result"
    }
   ],
   "source": [
    "# 전치 -> 행과 열을 교환\n",
    "arr_2d = np.array([[1, 2, 3], [4, 5, 6]])\n",
    "print(arr_2d)\n",
    "\n",
    "arr_2d.transpose()"
   ]
  },
  {
   "cell_type": "code",
   "execution_count": 19,
   "id": "9e82c185",
   "metadata": {},
   "outputs": [
    {
     "name": "stdout",
     "output_type": "stream",
     "text": [
      "[ 1  2  3  4  5  6  7  8  9 10 11 12 13 14 15] [ 1  2  3  4  5  6  7  8  9 10 11 12 13 14 15]\n",
      "[1 3 5 7 9]\n",
      "[0.  0.6 1.2 1.8 2.4 3. ]\n"
     ]
    }
   ],
   "source": [
    "# 1 ~ 15 정수 배열 (arange vs array(range))\n",
    "print(np.arange(1, 16), np.array(range(1, 16)))\n",
    "\n",
    "# 0 ~ 9 까지 홀수\n",
    "print(np.arange(1, 10, 2))\n",
    "\n",
    "# 0 ~ 3까지 균등 6등분(5구간) 배열\n",
    "print(np.linspace(0, 3, 6))"
   ]
  },
  {
   "cell_type": "code",
   "execution_count": 20,
   "id": "7b1332f5",
   "metadata": {},
   "outputs": [
    {
     "name": "stdout",
     "output_type": "stream",
     "text": [
      "[[1. 0. 0. 0.]\n",
      " [0. 1. 0. 0.]\n",
      " [0. 0. 1. 0.]\n",
      " [0. 0. 0. 1.]]\n"
     ]
    },
    {
     "data": {
      "text/plain": [
       "array([[[0.51423444, 0.59241457, 0.04645041, 0.60754485],\n",
       "        [0.17052412, 0.06505159, 0.94888554, 0.96563203],\n",
       "        [0.80839735, 0.30461377, 0.09767211, 0.68423303]],\n",
       "\n",
       "       [[0.44015249, 0.12203823, 0.49517691, 0.03438852],\n",
       "        [0.9093204 , 0.25877998, 0.66252228, 0.31171108],\n",
       "        [0.52006802, 0.54671028, 0.18485446, 0.96958463]]])"
      ]
     },
     "execution_count": 20,
     "metadata": {},
     "output_type": "execute_result"
    }
   ],
   "source": [
    "# 4 * 4 단위 행렬(identity matrix) -> 대각선1, 나머지0\n",
    "print(np.eye(4))\n",
    "\n",
    "# 3 * 4 사이즈의 1로 가득찬 int 배열\n",
    "np.ones((3, 4), dtype=int)\n",
    "\n",
    "# 2 * 3 * 4 사이즈 (3 * 4가 2개 있다는 뜻) 0~1 난수 배열\n",
    "np.random.rand(2, 3, 4) # 인자로 차원 지정 -> 오래된 버전에서 주로 씀\n",
    "np.random.random((2, 3, 4)) # 튜플로 차원 지정 -> 최신 버전에서 주로 씀"
   ]
  },
  {
   "cell_type": "markdown",
   "id": "e93a7c1b",
   "metadata": {},
   "source": [
    "### 배열의 인덱싱/슬라이싱"
   ]
  },
  {
   "cell_type": "code",
   "execution_count": 21,
   "id": "c50c0501",
   "metadata": {},
   "outputs": [
    {
     "name": "stdout",
     "output_type": "stream",
     "text": [
      "10 30 50 40\n",
      "[100  20  30  40  50]\n"
     ]
    }
   ],
   "source": [
    "arr = np.array([10, 20, 30, 40, 50])\n",
    "\n",
    "# 접근\n",
    "print(arr[0], arr[2], arr[-1], arr[-2])\n",
    "\n",
    "# 변경\n",
    "arr[0] = 100\n",
    "print(arr)"
   ]
  },
  {
   "cell_type": "code",
   "execution_count": 22,
   "id": "5cb121c4",
   "metadata": {},
   "outputs": [
    {
     "data": {
      "text/plain": [
       "array([[100,   2,   3],\n",
       "       [  4,   5,   6],\n",
       "       [  7,   8,   9]])"
      ]
     },
     "execution_count": 22,
     "metadata": {},
     "output_type": "execute_result"
    }
   ],
   "source": [
    "# arr_2d = np.array(range(1, 10)).reshape(3, 3)\n",
    "arr_2d = np.array(\n",
    "    [\n",
    "        [1, 2, 3],\n",
    "        [4, 5, 6],\n",
    "        [7, 8, 9]\n",
    "    ]\n",
    ")\n",
    "# Numpy 에서만 지원\n",
    "arr_2d[0, 0]  # arr_2d[0][0] -> r 0, c 0\n",
    "arr_2d[1, 1]\n",
    "\n",
    "arr_2d[1]  # 행 접근\n",
    "\n",
    "# 변경\n",
    "arr_2d[0, 0] = 100\n",
    "arr_2d"
   ]
  },
  {
   "cell_type": "code",
   "execution_count": 23,
   "id": "a8b6c09f",
   "metadata": {},
   "outputs": [
    {
     "name": "stdout",
     "output_type": "stream",
     "text": [
      "[2 3 4] [0 1 2 3 4] [5 6 7 8 9]\n",
      "[1 3 5 7] [0 2 4 6 8]\n",
      "[9 8 7 6 5 4 3 2 1 0] [7 6 5 4 3]\n",
      "[  0   1   2 100 100 100   6   7   8   9]\n"
     ]
    }
   ],
   "source": [
    "# 슬라이싱\n",
    "arr = np.arange(10)\n",
    "print(\n",
    "    arr[2:5],\n",
    "    arr[:5],\n",
    "    arr[5:]\n",
    ")\n",
    "\n",
    "print(\n",
    "    arr[1:8:2],\n",
    "    arr[::2]\n",
    ")\n",
    "\n",
    "print(\n",
    "    arr[::-1],\n",
    "    arr[7:2:-1]\n",
    ")\n",
    "\n",
    "# 슬라이싱으로 일괄 변경 (Python X)\n",
    "arr[3:6] = 100\n",
    "print(arr)"
   ]
  },
  {
   "cell_type": "code",
   "execution_count": 24,
   "id": "f362abeb",
   "metadata": {},
   "outputs": [
    {
     "name": "stdout",
     "output_type": "stream",
     "text": [
      "[[ 1  2  3  4]\n",
      " [ 5  6  7  8]\n",
      " [ 9 10 11 12]]\n",
      "[[1 2 3 4]\n",
      " [5 6 7 8]]\n",
      "[[ 2  3]\n",
      " [ 6  7]\n",
      " [10 11]]\n",
      "[[ 5  6]\n",
      " [ 9 10]]\n",
      "[[ 1  3]\n",
      " [ 9 11]]\n"
     ]
    }
   ],
   "source": [
    "# 다차원 배열 슬라이싱\n",
    "arr_2d = np.arange(1, 13).reshape(3, -1)\n",
    "print(arr_2d)\n",
    "\n",
    "#row(행) 슬라이싱 -> 0, 1 idx 행\n",
    "print(arr_2d[0:2])\n",
    "\n",
    "# col(열) 슬라이싱\n",
    "print(arr_2d[:, 1:3]) # 전체 행의 1부터 2열\n",
    "\n",
    "# row / col 동시 슬라이싱 -> 1, 2행 / 0, 1열\n",
    "print(arr_2d[1:3, 0:2])\n",
    "\n",
    "# 간격지정 -> 행, 열 모두 2간격\n",
    "print(arr_2d[::2, ::2])"
   ]
  },
  {
   "cell_type": "code",
   "execution_count": 25,
   "id": "89ffc00e",
   "metadata": {},
   "outputs": [
    {
     "name": "stdout",
     "output_type": "stream",
     "text": [
      "[[ 1  2  3  4]\n",
      " [ 5  6  7  8]\n",
      " [ 9 10 11 12]]\n",
      "[[ 0  0  3  4]\n",
      " [ 0  0  7  8]\n",
      " [ 9 10 11 12]]\n",
      "[[  0   0   3 100]\n",
      " [  0   0   7 200]\n",
      " [  9  10  11 300]]\n"
     ]
    }
   ],
   "source": [
    "# 다차원 배열 슬라이싱으로 변경\n",
    "print(arr_2d)\n",
    "\n",
    "# 부분 배열 일괄 변경\n",
    "arr_2d[0:2, 0:2] = 0\n",
    "print(arr_2d)\n",
    "\n",
    "# 열 교체 (모든행, idx 3열) -> 벡터 -> 교체 -> 원본 matrix의 열이 바뀜\n",
    "arr_2d[:, 3] # 벡터(가로) 형식으로 표시됨\n",
    "\n",
    "arr_2d[:, 3] = [100, 200, 300]  # 이렇게 뒤에 값을 붙여주면 형식이 바뀜\n",
    "print(arr_2d)"
   ]
  },
  {
   "cell_type": "code",
   "execution_count": 26,
   "metadata": {},
   "outputs": [
    {
     "name": "stdout",
     "output_type": "stream",
     "text": [
      "[False False False  True  True] [1 2 3 4 5]\n",
      "[4 5]\n",
      "[4 5]\n",
      "[3 4]\n",
      "[1 4 5]\n"
     ]
    }
   ],
   "source": [
    "# boolean 인덱싱 (조건에 따라 배열 요소 선택 - 필터링)\n",
    "\n",
    "arr = np.arange(1, 6)\n",
    "\n",
    "# 마스킹 -> T/F로 바꿈\n",
    "mask = arr > 3\n",
    "print(mask, arr)\n",
    "\n",
    "# 마스킹 배열로 필터링\n",
    "print(arr[mask])\n",
    "\n",
    "# 직접 조건\n",
    "print(arr[arr > 3])\n",
    "\n",
    "# 다중 조건\n",
    "print(arr[ (arr > 2) & (arr < 5) ])  # and\n",
    "print(arr[ (arr == 1) | (arr > 3) ])  # or"
   ]
  },
  {
   "cell_type": "code",
   "execution_count": 27,
   "id": "4090321e",
   "metadata": {},
   "outputs": [
    {
     "name": "stdout",
     "output_type": "stream",
     "text": [
      "[6 7 8 9]\n",
      "[1 2 3 4 5]\n",
      "[[1 2 3]\n",
      " [4 5 6]\n",
      " [7 8 9]]\n",
      "[[1 2 3]\n",
      " [7 8 9]]\n"
     ]
    }
   ],
   "source": [
    "# 2차원 배열 불리언 인덱싱\n",
    "\n",
    "arr_2d = np.arange(1, 10).reshape(3, 3)\n",
    "\n",
    "mask = arr_2d > 5\n",
    "\n",
    "# 원본 matrix 형태 없음. True 로 필터된 애들만 vector로 나옴\n",
    "print(arr_2d[mask])\n",
    "print(arr_2d[arr_2d < 6])\n",
    "\n",
    "# 조건에 맞는 행만 선택\n",
    "row_mask = np.array([True, False, True])\n",
    "print(arr_2d)\n",
    "print(arr_2d[row_mask]) # row T, F, T -> 0, 2 row 만 뽑음"
   ]
  },
  {
   "cell_type": "code",
   "execution_count": 28,
   "id": "3d4d4c3f",
   "metadata": {},
   "outputs": [
    {
     "name": "stdout",
     "output_type": "stream",
     "text": [
      "[10 20 30 40 50]\n",
      "[20 30]\n",
      "[10 30 40]\n",
      "[10 10 20 20 30]\n",
      "[50 30 40 20 10]\n"
     ]
    }
   ],
   "source": [
    "# Fancy 인덱싱\n",
    "arr = np.arange(10, 60, 10)\n",
    "print(arr)\n",
    "# arr[1, 2] -> arr[1][2]\n",
    "print(arr[ [1, 2] ]) # -> arr[1], arr[2] 를 뽑아라\n",
    "print(arr[ [0, 2, 3] ])  # -> arr[0], arr[2], arr[3] 만 가져와라\n",
    "\n",
    "print(arr[[0, 0, 1, 1, 2]])\n",
    "print(arr[[4, 2, 3, 1, 0]])"
   ]
  },
  {
   "cell_type": "code",
   "execution_count": 29,
   "id": "cac2e20e",
   "metadata": {},
   "outputs": [
    {
     "name": "stdout",
     "output_type": "stream",
     "text": [
      "[[1 2 3]\n",
      " [4 5 6]\n",
      " [7 8 9]]\n",
      "[[1 2 3]\n",
      " [7 8 9]]\n",
      "[1 6 8]\n",
      "[[3 1 2]\n",
      " [6 4 5]\n",
      " [9 7 8]]\n"
     ]
    }
   ],
   "source": [
    "arr_2d = np.arange(1, 10).reshape(3, 3)\n",
    "print(arr_2d)\n",
    "\n",
    "arr_2d[[0]]  # row 0\n",
    "\n",
    "# 특정 행만 선택\n",
    "print(arr_2d[ [0, 2] ])  # row 0, 2\n",
    "\n",
    "# 행과 열 동시에 선택\n",
    "print(\n",
    "    arr_2d[\n",
    "        [0, 1, 2], # 세로로 읽어야 함 (0,0) (1,2) (2,1) 순서로 벡터 만듬\n",
    "        [0, 2, 1]\n",
    "    ]\n",
    ")\n",
    "\n",
    "# 행렬의 열을 순서 바꾸기\n",
    "print(\n",
    "    arr_2d[\n",
    "        :,         # 모든 행\n",
    "        [2, 0, 1]  # 열 idx를 이렇게 바꿔라\n",
    "    ]\n",
    ")"
   ]
  },
  {
   "cell_type": "markdown",
   "id": "05846cff",
   "metadata": {},
   "source": [
    "연습문제 풀기!"
   ]
  },
  {
   "cell_type": "code",
   "execution_count": 30,
   "metadata": {},
   "outputs": [
    {
     "name": "stdout",
     "output_type": "stream",
     "text": [
      "원본 [10 11 12 13 14 15 16 17 18 19 20]\n",
      "10 12 20\n",
      "[12 13 14 15]\n",
      "[10 12 14]\n",
      "[20 19 18 17 16 15 14 13 12 11 10]\n"
     ]
    }
   ],
   "source": [
    "# 10부터 20까지의 정수 배열 생성\n",
    "arr = np.arange(10, 21)\n",
    "print('원본', arr)\n",
    "\n",
    "# 문제1: 배열의 첫 번째, 세 번째, 마지막 요소 출력\n",
    "print(\n",
    "    arr[0],\n",
    "    arr[2],\n",
    "    arr[-1]\n",
    ")\n",
    "\n",
    "# 문제2: 인덱스 2부터 5까지 요소 출력\n",
    "print(arr[2:6])\n",
    "\n",
    "# 문제3: 처음부터 5번째 요소까지 모든 짝수 인덱스 요소 출력\n",
    "print(arr[0:6:2])\n",
    "\n",
    "# 문제4: 배열의 요소를 역순으로 출력\n",
    "print(arr[::-1])"
   ]
  },
  {
   "cell_type": "code",
   "execution_count": 31,
   "metadata": {},
   "outputs": [
    {
     "name": "stdout",
     "output_type": "stream",
     "text": [
      "원본 [[ 0  1  2  3]\n",
      " [ 4  5  6  7]\n",
      " [ 8  9 10 11]]\n",
      "6\n"
     ]
    },
    {
     "data": {
      "text/plain": [
       "array([[ 1,  3],\n",
       "       [ 9, 11]])"
      ]
     },
     "execution_count": 31,
     "metadata": {},
     "output_type": "execute_result"
    }
   ],
   "source": [
    "# 3 * 4 matrix\n",
    "matrix = np.arange(12).reshape(3, 4)\n",
    "print('원본', matrix)\n",
    "\n",
    "# 문제1: (1,2) 위치의 요소 출력\n",
    "print(matrix[1, 2])  # matrix[1][2]\n",
    "\n",
    "# 문제2: 두 번째 행 전체 출력\n",
    "matrix[1]\n",
    "\n",
    "# 문제3: 마지막 열 전체 출력\n",
    "matrix[:, -1] \n",
    "\n",
    "# 문제4: 첫 번째와 세 번째 행의 두 번째와 네 번째 열 요소만 추출\n",
    "matrix[[0, 2], :][:, [1, 3]]  # matrix[np.ix_([0, 2], [1, 3])]"
   ]
  },
  {
   "cell_type": "code",
   "execution_count": 32,
   "id": "6eab066b",
   "metadata": {},
   "outputs": [
    {
     "name": "stdout",
     "output_type": "stream",
     "text": [
      "원본 [ 1  2  3  4  5  6  7  8  9 10 11 12 13 14 15 16 17 18 19 20]\n",
      "[ 5 10 15 20]\n",
      "[ 4  5  6  7  8  9 10 11 12 13 14]\n",
      "[ 1  3  5  7  9 11 13 14 15 17 19]\n"
     ]
    }
   ],
   "source": [
    "arr = np.arange(1, 21)\n",
    "print('원본', arr)\n",
    "\n",
    "# 문제1: 5의 배수만 선택하여 출력\n",
    "print(arr[arr % 5 == 0])\n",
    "# 문제2: 3보다 크고 15보다 작은 요소 선택\n",
    "print(arr[(arr>3) & (arr < 15)])\n",
    "# 문제3: 7의 배수이거나 홀수인 요소 선택\n",
    "print(arr[(arr%7==0) | (arr%2==1)])"
   ]
  },
  {
   "cell_type": "code",
   "execution_count": 33,
   "id": "a22d0ec9",
   "metadata": {},
   "outputs": [
    {
     "name": "stdout",
     "output_type": "stream",
     "text": [
      "원본 [[ 1  2  3  4]\n",
      " [ 5  6  7  8]\n",
      " [ 9 10 11 12]\n",
      " [13 14 15 16]\n",
      " [17 18 19 20]]\n",
      "[11 12 13 14 15 16 17 18 19 20]\n",
      "[[  1   2   3   4]\n",
      " [  5   6   7   8]\n",
      " [  9  10 100 100]\n",
      " [100 100 100 100]\n",
      " [100 100 100 100]]\n"
     ]
    }
   ],
   "source": [
    "matrix = np.arange(1, 21).reshape(5, 4)\n",
    "print('원본', matrix)\n",
    "\n",
    "# 문제4: 10보다 큰 요소만 100으로 변경 (슬라이싱/불리언인덱싱 -> 뷰 생성 (원본데이터 연결))\n",
    "print(matrix[matrix>10])\n",
    "matrix[matrix>10] = 100\n",
    "print(matrix)"
   ]
  },
  {
   "cell_type": "markdown",
   "id": "736b1e4f",
   "metadata": {},
   "source": [
    "### 선형대수 연산"
   ]
  },
  {
   "cell_type": "code",
   "execution_count": 34,
   "id": "a7e3d8f1",
   "metadata": {},
   "outputs": [
    {
     "name": "stdout",
     "output_type": "stream",
     "text": [
      "[ 6  8 10 12]\n",
      "[-4 -4 -4 -4]\n",
      "[ 5 12 21 32]\n",
      "[0.2        0.33333333 0.42857143 0.5       ]\n",
      "[ 1  4  9 16]\n",
      "[    1    64  2187 65536]\n"
     ]
    }
   ],
   "source": [
    "a = np.array([1, 2, 3, 4])\n",
    "b = np.array([5, 6, 7, 8])\n",
    "\n",
    "print(a + b)\n",
    "print(a - b)\n",
    "print(a * b)\n",
    "print(a / b)\n",
    "\n",
    "print(a ** 2)\n",
    "print(a ** b)"
   ]
  },
  {
   "cell_type": "code",
   "execution_count": 35,
   "id": "3345e1bc",
   "metadata": {},
   "outputs": [
    {
     "name": "stdout",
     "output_type": "stream",
     "text": [
      "[False False  True False]\n",
      "[ True  True  True False]\n",
      "[False  True False  True]\n"
     ]
    }
   ],
   "source": [
    "a = np.array([True, False, True, False])\n",
    "b = np.array([False, True, True, False])\n",
    "\n",
    "# 논리연산\n",
    "# AND\n",
    "print(a & b)\n",
    "# OR\n",
    "print(a | b)\n",
    "# NOT\n",
    "print(~a)"
   ]
  },
  {
   "cell_type": "markdown",
   "id": "f76830ed",
   "metadata": {},
   "source": [
    "### 벡터 < - > 스칼라(단일값) 연산\n",
    "`Broadcasting (스칼라가 배열 크기에 맞게 확장)`"
   ]
  },
  {
   "cell_type": "code",
   "execution_count": 36,
   "id": "24dead99",
   "metadata": {},
   "outputs": [
    {
     "name": "stdout",
     "output_type": "stream",
     "text": [
      "[11 12 13 14 15]\n",
      "[0 1 2 3 4]\n",
      "[ 2  4  6  8 10]\n",
      "[0.5 1.  1.5 2.  2.5]\n",
      "[ 1  4  9 16 25]\n",
      "[False False False  True  True]\n",
      "[False  True False False False]\n"
     ]
    }
   ],
   "source": [
    "# 배열 생성\n",
    "arr = np.array([1, 2, 3, 4, 5])\n",
    "\n",
    "# 스칼라 덧셈\n",
    "print(arr + 10)     # [11 12 13 14 15]\n",
    "\n",
    "# 스칼라 뺄셈\n",
    "print(arr - 1)      # [0 1 2 3 4]\n",
    "\n",
    "# 스칼라 곱셈\n",
    "print(arr * 2)      # [2 4 6 8 10]\n",
    "\n",
    "# 스칼라 나눗셈\n",
    "print(arr / 2)      # [0.5 1.  1.5 2.  2.5]\n",
    "\n",
    "# 스칼라 거듭제곱\n",
    "print(arr ** 2)     # [ 1  4  9 16 25]\n",
    "\n",
    "# 스칼라 비교(불리언 배열)\n",
    "print(arr > 3)      # [False False False  True  True]\n",
    "print(arr == 2)     # [False  True False False False]"
   ]
  },
  {
   "cell_type": "markdown",
   "id": "9aea13d8",
   "metadata": {},
   "source": [
    "### 매트릭스(행렬) < - > 스칼라(단일값) 연산"
   ]
  },
  {
   "cell_type": "code",
   "execution_count": 37,
   "id": "5b6ddfd3",
   "metadata": {},
   "outputs": [
    {
     "name": "stdout",
     "output_type": "stream",
     "text": [
      "[[11 12 13]\n",
      " [14 15 16]]\n",
      "[[ 3  6  9]\n",
      " [12 15 18]]\n"
     ]
    }
   ],
   "source": [
    "# 2차원 배열\n",
    "arr_2d = np.array([[1, 2, 3], [4, 5, 6]])\n",
    "\n",
    "# 스칼라 연산\n",
    "print(arr_2d + 10)\n",
    "# [[11 12 13]\n",
    "#  [14 15 16]]\n",
    "\n",
    "print(arr_2d * 3)\n",
    "# [[ 3  6  9]\n",
    "#  [12 15 18]]"
   ]
  },
  {
   "cell_type": "markdown",
   "id": "5d5b47db",
   "metadata": {},
   "source": [
    "### 매트릭스(행렬) < - > 벡터(1줄) 연산"
   ]
  },
  {
   "cell_type": "code",
   "execution_count": 38,
   "id": "e22f56f9",
   "metadata": {},
   "outputs": [
    {
     "name": "stdout",
     "output_type": "stream",
     "text": [
      "[[11 22 33]\n",
      " [14 25 36]]\n",
      "[[101 102 103]\n",
      " [204 205 206]]\n"
     ]
    }
   ],
   "source": [
    "matrix = np.array([[1, 2, 3], [4, 5, 6]])\n",
    "vector = np.array([10, 20, 30])\n",
    "\n",
    "# 행렬 + 행 벡터\n",
    "print(matrix + vector)\n",
    "\n",
    "# 열 벡터 브로드캐스팅\n",
    "col_vec = np.array(\n",
    "    [\n",
    "        [100],\n",
    "        [200]\n",
    "    ]\n",
    ")\n",
    "print(matrix + col_vec)"
   ]
  },
  {
   "cell_type": "code",
   "execution_count": 39,
   "id": "74bc6227",
   "metadata": {},
   "outputs": [
    {
     "name": "stdout",
     "output_type": "stream",
     "text": [
      "Matrix shape (2, 3)\n",
      "vector shape (3,)\n",
      "Matrix + Vector\n",
      "[[11 22 33]\n",
      " [14 25 36]]\n"
     ]
    }
   ],
   "source": [
    "matrix = np.array([[1, 2, 3], [4, 5, 6]])\n",
    "vector = np.array([10, 20, 30])\n",
    "\n",
    "print('Matrix shape', matrix.shape)\n",
    "print('vector shape', vector.shape)\n",
    "# 1. vector (3, ) 가 앞에 1이 추가됨.\n",
    "# 2. Matrix (1, 3) 으로 변함\n",
    "# 3. 더해야 하는 matrix (2, 3)이랑 줄수가 같을때까지 row 복사함.\n",
    "print('Matrix + Vector')\n",
    "print(matrix + vector)"
   ]
  },
  {
   "cell_type": "code",
   "execution_count": 40,
   "id": "76e45197",
   "metadata": {},
   "outputs": [
    {
     "name": "stdout",
     "output_type": "stream",
     "text": [
      "A + B 형태: (3, 2)\n",
      "[[2. 2.]\n",
      " [2. 2.]\n",
      " [2. 2.]]\n",
      "A + C 형태: (3, 2)\n",
      "[[2. 2.]\n",
      " [2. 2.]\n",
      " [2. 2.]]\n"
     ]
    }
   ],
   "source": [
    "# 브로드 캐스팅 가능한 경우(Shape 확인을 하자!)\n",
    "\n",
    "A = np.ones((3, 2))       # 3x2 배열\n",
    "B = np.ones((2,))         # 길이 2인 1차원 배열 (1x2로 해석) (행벡터)\n",
    "C = np.ones((3, 1))       # 3x1 배열 (사실상 열벡터)\n",
    "\n",
    "print(\"A + B 형태:\", (A + B).shape)  # (3, 2) - B는 각 행에 브로드캐스팅\n",
    "print(A + B)\n",
    "\n",
    "\n",
    "print(\"A + C 형태:\", (A + C).shape)  # (3, 2) - C는 각 열에 브로드캐스팅\n",
    "print(A + C)"
   ]
  },
  {
   "cell_type": "code",
   "execution_count": 41,
   "metadata": {},
   "outputs": [
    {
     "name": "stdout",
     "output_type": "stream",
     "text": [
      "[1 2 3 4 5]\n",
      "[2 3 4]\n",
      "[ 1 20  3  4  5]\n",
      "[ 1 20  3  4  5] [100  20   3   4   5]\n"
     ]
    }
   ],
   "source": [
    "# 뷰(원본 데이터와 링크)와 복사본(완전 별도)의 차이\n",
    "arr = np.arange(1, 6)\n",
    "print(arr)\n",
    "\n",
    "# 슬라이싱 -> 뷰 생성\n",
    "view = arr[1:4]\n",
    "print(view)\n",
    "\n",
    "view[0] = 20\n",
    "print(arr)  # 원본이 바뀌어 버린걸 확인!!\n",
    "\n",
    "# 복사본..?\n",
    "copy = arr.copy()\n",
    "copy[0] = 100\n",
    "print(arr, copy)"
   ]
  },
  {
   "cell_type": "code",
   "execution_count": 42,
   "metadata": {},
   "outputs": [
    {
     "name": "stdout",
     "output_type": "stream",
     "text": [
      "[2.5 4.5 6.5]\n",
      "[0.5 1.  1.5]\n",
      "[0 1 1]\n"
     ]
    }
   ],
   "source": [
    "# 연산중 데이터 자동 변환\n",
    "int_arr = np.array([1, 2, 3])\n",
    "float_arr = np.array([1.5, 2.5, 3.5])\n",
    "\n",
    "# int + float = float\n",
    "print(int_arr + float_arr)\n",
    "\n",
    "# int / int = float\n",
    "print(int_arr / 2)\n",
    "\n",
    "# int // int = int\n",
    "print(int_arr // 2)"
   ]
  },
  {
   "cell_type": "code",
   "execution_count": 43,
   "metadata": {},
   "outputs": [
    {
     "name": "stdout",
     "output_type": "stream",
     "text": [
      "[ 64 144  36 100]\n",
      "[2.82842712 3.46410162 2.44948974 3.16227766] [2.82842712 3.46410162 2.44948974 3.16227766]\n",
      "[ 8 12  6 20]\n",
      "64\n"
     ]
    }
   ],
   "source": [
    "arr1 = np.array([8, 12, 6, 10])\n",
    "arr2 = np.array([3, 4,  1, 20])\n",
    "\n",
    "print(arr1 ** 2)\n",
    "print(arr1 ** 0.5, np.sqrt(arr1))  # 루트. 같은 결과\n",
    "\n",
    "# 각 자리마다 최대값만 모음\n",
    "print(np.maximum(arr1, arr2))\n",
    "\n",
    "# arr1 + arr2 의 모든 자리수를 더한 총합\n",
    "print(np.sum(arr1 + arr2))"
   ]
  },
  {
   "cell_type": "code",
   "execution_count": 44,
   "id": "0fd1dd0c",
   "metadata": {},
   "outputs": [
    {
     "name": "stdout",
     "output_type": "stream",
     "text": [
      "sin(x) = [0.00000000e+00 7.07106781e-01 1.00000000e+00 1.22464680e-16]\n",
      "cos(x) = [ 1.00000000e+00  7.07106781e-01  6.12323400e-17 -1.00000000e+00]\n",
      "tan(x) = [ 0.00000000e+00  1.00000000e+00  1.63312394e+16 -1.22464680e-16]\n",
      "arcsin(sin(x)) = [0.00000000e+00 7.85398163e-01 1.57079633e+00 1.22464680e-16]\n",
      "exp(y) = [ 2.71828183  7.3890561  20.08553692 54.59815003]\n",
      "log(y) = [0.         0.69314718 1.09861229 1.38629436]\n",
      "log10(y) = [0.         0.30103    0.47712125 0.60205999]\n",
      "log2(y) = [0.        1.        1.5849625 2.       ]\n",
      "sqrt(y) = [1.         1.41421356 1.73205081 2.        ]\n",
      "power(y, 2) = [ 1  4  9 16]\n",
      "abs(z) = [2 1 0 1 2]\n",
      "sign(z) = [-1 -1  0  1  1]\n",
      "floor(w) = [1. 2. 3. 4.]\n",
      "ceil(w) = [2. 3. 4. 5.]\n",
      "round(w) = [1. 3. 4. 5.]\n",
      "trunc(w) = [1. 2. 3. 4.]\n"
     ]
    }
   ],
   "source": [
    "# 테스트 배열\n",
    "x = np.array([0, np.pi/4, np.pi/2, np.pi])\n",
    "y = np.array([1, 2, 3, 4])\n",
    "\n",
    "# 삼각함수\n",
    "print(\"sin(x) =\", np.sin(x))  # [0., 0.70710678, 1., 0.]\n",
    "print(\"cos(x) =\", np.cos(x))  # [1., 0.70710678, 0., -1.]\n",
    "print(\"tan(x) =\", np.tan(x))  # [0., 1., 16331239353195370., 0.]\n",
    "\n",
    "# 역삼각함수\n",
    "print(\"arcsin(sin(x)) =\", np.arcsin(np.sin(x)))\n",
    "\n",
    "# 지수와 로그\n",
    "print(\"exp(y) =\", np.exp(y))  # [2.71828183, 7.3890561, 20.08553692, 54.59815003]\n",
    "print(\"log(y) =\", np.log(y))  # [0., 0.69314718, 1.09861229, 1.38629436]\n",
    "print(\"log10(y) =\", np.log10(y))  # [0., 0.30103, 0.47712125, 0.60205999]\n",
    "print(\"log2(y) =\", np.log2(y))  # [0., 1., 1.58496250, 2.]\n",
    "\n",
    "# 제곱근과 거듭제곱\n",
    "print(\"sqrt(y) =\", np.sqrt(y))  # [1., 1.41421356, 1.73205081, 2.]\n",
    "print(\"power(y, 2) =\", np.power(y, 2))  # [1, 4, 9, 16]\n",
    "\n",
    "# 절대값과 부호\n",
    "z = np.array([-2, -1, 0, 1, 2])\n",
    "print(\"abs(z) =\", np.abs(z))  # [2 1 0 1 2]\n",
    "print(\"sign(z) =\", np.sign(z))  # [-1 -1  0  1  1]\n",
    "\n",
    "# 소수점 처리\n",
    "w = np.array([1.2, 2.7, 3.5, 4.9])\n",
    "print(\"floor(w) =\", np.floor(w))  # [1. 2. 3. 4.] (내림)\n",
    "print(\"ceil(w) =\", np.ceil(w))   # [2. 3. 4. 5.] (올림)\n",
    "print(\"round(w) =\", np.round(w))  # [1. 3. 4. 5.] (반올림)\n",
    "print(\"trunc(w) =\", np.trunc(w))  # [1. 2. 3. 4.] (소수점 버림)"
   ]
  },
  {
   "cell_type": "code",
   "execution_count": 45,
   "id": "fcd2ec6a",
   "metadata": {},
   "outputs": [
    {
     "name": "stdout",
     "output_type": "stream",
     "text": [
      "합계: 45\n",
      "평균: 5.0\n",
      "최소값: 1\n",
      "최대값: 9\n",
      "표준편차: 2.581988897471611\n",
      "분산: 6.666666666666667\n",
      "행별 합계: [ 6 15 24]\n",
      "열별 합계: [12 15 18]\n",
      "행별 평균: [2. 5. 8.]\n",
      "열별 평균: [4. 5. 6.]\n",
      "행별 최소값: [1 4 7]\n",
      "열별 최소값: [1 2 3]\n"
     ]
    }
   ],
   "source": [
    "arr = np.array([[1, 2, 3], [4, 5, 6], [7, 8, 9]])\n",
    "\n",
    "# 기본 집계\n",
    "print(\"합계:\", np.sum(arr))          # 45\n",
    "print(\"평균:\", np.mean(arr))         # 5.0\n",
    "print(\"최소값:\", np.min(arr))        # 1\n",
    "print(\"최대값:\", np.max(arr))        # 9\n",
    "print(\"표준편차:\", np.std(arr))      # 2.581988897471611\n",
    "print(\"분산:\", np.var(arr))          # 6.666666666666667\n",
    "\n",
    "# 축을 따라 집계\n",
    "print(\"행별 합계:\", np.sum(arr, axis=1))  # [ 6 15 24]\n",
    "print(\"열별 합계:\", np.sum(arr, axis=0))  # [12 15 18]\n",
    "print(\"행별 평균:\", np.mean(arr, axis=1))  # [2. 5. 8.]\n",
    "print(\"열별 평균:\", np.mean(arr, axis=0))  # [4. 5. 6.]\n",
    "print(\"행별 최소값:\", np.min(arr, axis=1))  # [1 4 7]\n",
    "print(\"열별 최소값:\", np.min(arr, axis=0))  # [1 2 3]"
   ]
  },
  {
   "cell_type": "code",
   "execution_count": 46,
   "id": "67fd854e",
   "metadata": {},
   "outputs": [
    {
     "name": "stdout",
     "output_type": "stream",
     "text": [
      "누적 합계: [ 1  3  6 10 15 21 28 36 45]\n",
      "행별 누적 합계:\n",
      "[[ 1  3  6]\n",
      " [ 4  9 15]\n",
      " [ 7 15 24]]\n",
      "누적 곱: [     1      2      6     24    120    720   5040  40320 362880]\n",
      "중앙값: 5.0\n",
      "행별 중앙값: [2. 5. 8.]\n",
      "열별 중앙값: [4. 5. 6.]\n",
      "25% 백분위수: 3.0\n",
      "50% 백분위수: 5.0\n",
      "75% 백분위수: 7.0\n",
      "가중 평균: 6.5\n"
     ]
    }
   ],
   "source": [
    "# 누적 합계 (cumulative sum)\n",
    "print(\"누적 합계:\", np.cumsum(arr))  # [ 1  3  6 10 15 21 28 36 45]\n",
    "print(\"행별 누적 합계:\")\n",
    "print(np.cumsum(arr, axis=1))\n",
    "# [[ 1  3  6]\n",
    "#  [ 4  9 15]\n",
    "#  [ 7 15 24]]\n",
    "\n",
    "# 누적 곱 (cumulative product)\n",
    "print(\"누적 곱:\", np.cumprod(arr))  # [1 2 6 24 120 720 5040 40320 362880]\n",
    "\n",
    "# 중앙값 (median)\n",
    "print(\"중앙값:\", np.median(arr))        # 5.0\n",
    "print(\"행별 중앙값:\", np.median(arr, axis=1))  # [2. 5. 8.]\n",
    "print(\"열별 중앙값:\", np.median(arr, axis=0))  # [4. 5. 6.]\n",
    "\n",
    "# 백분위수 (percentile)\n",
    "print(\"25% 백분위수:\", np.percentile(arr, 25))  # 3.0\n",
    "print(\"50% 백분위수:\", np.percentile(arr, 50))  # 5.0 (중앙값과 동일)\n",
    "print(\"75% 백분위수:\", np.percentile(arr, 75))  # 7.0\n",
    "\n",
    "# 가중 평균 (weighted average)\n",
    "weights = np.array([0.1, 0.3, 0.6])  # 가중치\n",
    "data = np.array([2, 5, 8])\n",
    "print(\"가중 평균:\", np.average(data, weights=weights))  # 6.1"
   ]
  },
  {
   "cell_type": "code",
   "execution_count": 47,
   "id": "541e8140",
   "metadata": {},
   "outputs": [
    {
     "name": "stdout",
     "output_type": "stream",
     "text": [
      "3개로 균등 분할:\n",
      "[array([0, 1, 2, 3]), array([4, 5, 6, 7]), array([ 8,  9, 10, 11])]\n",
      "위치 지정 분할 (인덱스 3, 8 기준):\n",
      "[array([0, 1, 2]), array([3, 4, 5, 6, 7]), array([ 8,  9, 10, 11])]\n",
      "2차원 배열:\n",
      "[[ 0  1  2  3]\n",
      " [ 4  5  6  7]\n",
      " [ 8  9 10 11]\n",
      " [12 13 14 15]]\n",
      "행 방향 분할:\n",
      "[array([[0, 1, 2, 3],\n",
      "       [4, 5, 6, 7]]), array([[ 8,  9, 10, 11],\n",
      "       [12, 13, 14, 15]])]\n",
      "[array([[0, 1, 2, 3],\n",
      "       [4, 5, 6, 7]]), array([[ 8,  9, 10, 11],\n",
      "       [12, 13, 14, 15]])]\n",
      "열 방향 분할:\n",
      "[array([[ 0,  1],\n",
      "       [ 4,  5],\n",
      "       [ 8,  9],\n",
      "       [12, 13]]), array([[ 2,  3],\n",
      "       [ 6,  7],\n",
      "       [10, 11],\n",
      "       [14, 15]])]\n",
      "[array([[ 0,  1],\n",
      "       [ 4,  5],\n",
      "       [ 8,  9],\n",
      "       [12, 13]]), array([[ 2,  3],\n",
      "       [ 6,  7],\n",
      "       [10, 11],\n",
      "       [14, 15]])]\n"
     ]
    }
   ],
   "source": [
    "# 샘플 배열\n",
    "arr = np.arange(12)  # [ 0  1  2  3  4  5  6  7  8  9 10 11]\n",
    "\n",
    "# 균등 분할\n",
    "print(\"3개로 균등 분할:\")\n",
    "print(np.split(arr, 3))  # [array([0, 1, 2, 3]), array([4, 5, 6, 7]), array([ 8,  9, 10, 11])]\n",
    "\n",
    "# 위치 지정 분할\n",
    "print(\"위치 지정 분할 (인덱스 3, 8 기준):\")\n",
    "print(np.split(arr, [3, 8]))  # [array([0, 1, 2]), array([3, 4, 5, 6, 7]), array([ 8,  9, 10, 11])]\n",
    "\n",
    "# 2차원 배열 분할\n",
    "arr_2d = np.arange(16).reshape(4, 4)\n",
    "print(\"2차원 배열:\")\n",
    "print(arr_2d)\n",
    "\n",
    "# 행 방향 분할\n",
    "print(\"행 방향 분할:\")\n",
    "print(np.split(arr_2d, 2, axis=0))  # 2개 배열로 (각 2x4)\n",
    "print(np.vsplit(arr_2d, 2))  # 동일한 결과\n",
    "\n",
    "# 열 방향 분할\n",
    "print(\"열 방향 분할:\")\n",
    "print(np.split(arr_2d, 2, axis=1))  # 2개 배열로 (각 4x2)\n",
    "print(np.hsplit(arr_2d, 2))  # 동일한 결과"
   ]
  },
  {
   "cell_type": "code",
   "execution_count": null,
   "id": "aed38f9f",
   "metadata": {},
   "outputs": [
    {
     "name": "stdout",
     "output_type": "stream",
     "text": [
      "[[1 2]\n",
      " [3 4]\n",
      " [5 6]\n",
      " [7 8]]\n",
      "[[1 2]\n",
      " [3 4]\n",
      " [5 6]\n",
      " [7 8]]\n",
      "[[1 2 5 6]\n",
      " [3 4 7 8]]\n",
      "[[[1 5]\n",
      "  [2 6]]\n",
      "\n",
      " [[3 7]\n",
      "  [4 8]]]\n"
     ]
    }
   ],
   "source": [
    "# 1차원 배열 결합\n",
    "arr1 = np.array([1, 2, 3])\n",
    "arr2 = np.array([4, 5, 6])\n",
    "result = np.concat((arr1, arr2)) # np.concatenate도 같음\n",
    "\n",
    "# 2차원 배열 결합\n",
    "arr2d1 = np.array([[1,2],[3,4]])\n",
    "arr2d2 = np.array([[5,6],[7,8]])\n",
    "\n",
    "# concat, axis=0 == vstack\n",
    "result2 = np.concat( (arr2d1, arr2d2), axis=0)\n",
    "result22 = np.vstack( (arr2d1, arr2d2) )\n",
    "print(result2)\n",
    "print(result22)\n",
    "# concat, axis=1 == hstack\n",
    "result3 = np.concat( (arr2d1, arr2d2), axis=1)\n",
    "result33 = np.hstack( (arr2d1, arr2d2) )\n",
    "print(result3)\n",
    "\n",
    "# matrix 두개를 겹친다 => Tensor\n",
    "result4 = np.dstack( (arr2d1, arr2d2) )\n",
    "print(result4)"
   ]
  },
  {
   "cell_type": "code",
   "execution_count": 49,
   "id": "5dc4da62",
   "metadata": {},
   "outputs": [
    {
     "name": "stdout",
     "output_type": "stream",
     "text": [
      "[1 2 3 4]\n",
      "[[1 2 3 4]]\n",
      "[[1 2 3 4]]\n",
      "[[1]\n",
      " [2]\n",
      " [3]\n",
      " [4]]\n",
      "[[1]\n",
      " [2]\n",
      " [3]\n",
      " [4]]\n"
     ]
    }
   ],
   "source": [
    "# 벡터를 차원 확장 (행이냐 열이냐)\n",
    "arr = np.array([1, 2, 3, 4])\n",
    "print(arr)\n",
    "\n",
    "# row vector -> [ [1 2 3 4] ]\n",
    "row_vector = np.expand_dims(arr, axis=0)\n",
    "print(row_vector)\n",
    "row_vector2 = arr[np.newaxis, :]\n",
    "print(row_vector2)\n",
    "\n",
    "# col vector -> [ [1] [2] [3] [4] ]\n",
    "col_vector = np.expand_dims(arr, axis=1)\n",
    "print(col_vector)\n",
    "col_vector2 = arr[:, np.newaxis]\n",
    "print(col_vector2)"
   ]
  },
  {
   "cell_type": "code",
   "execution_count": 50,
   "id": "fbfe56c8",
   "metadata": {},
   "outputs": [
    {
     "name": "stdout",
     "output_type": "stream",
     "text": [
      "[[[1]\n",
      "  [2]\n",
      "  [3]]] (1, 3, 1)\n",
      "[1 2 3]\n",
      "[[[1 2 3]]] (1, 1, 3)\n",
      "[[1 2 3]]\n"
     ]
    }
   ],
   "source": [
    "# 차원 축소\n",
    "arr = np.array([ [ [1], [2], [3] ] ])\n",
    "print(arr, arr.shape)\n",
    "\n",
    "# 모든 단일차원(shape에서 1 나온 것들) 제거\n",
    "print(np.squeeze(arr))  #  [1 2 3]\n",
    "\n",
    "# 특정 축만 제거\n",
    "arr2 = np.array([ [ [ 1, 2, 3 ] ] ])\n",
    "print(arr2, arr2.shape)  # 1 1 3\n",
    "\n",
    "print(np.squeeze(arr2, axis=1))  # 1 3 "
   ]
  },
  {
   "cell_type": "code",
   "execution_count": null,
   "id": "41f14f2d",
   "metadata": {},
   "outputs": [],
   "source": [
    "# 학급별 시험 점수 (5개 학급, 각 10명의 학생)\n",
    "scores = np.random.randint(50, 101, size=(5, 10))  # 50~100 사이 점수\n",
    "print(\"학급별 점수:\")\n",
    "print(scores)\n",
    "\n",
    "# 문제1: 전체 평균과 표준편차\n",
    "print(\"전체 평균:\", np.mean(scores))\n",
    "print(\"전체 표준편차:\", np.std(scores))\n",
    "print(\"전체 중앙값:\", np.median(scores))\n",
    "\n",
    "# 문제2: 학급별 최고점과 최저점\n",
    "print(\"학급별 최고점:\", np.max(scores, axis=1))\n",
    "print(\"학급별 최저점:\", np.min(scores, axis=1))\n",
    "\n",
    "# 문제3: 전체 학생 중 상위 25%와 하위 25% 컷오프 점수\n",
    "print(\"상위 25% 컷오프:\", np.percentile(scores, 75))\n",
    "print(\"하위 25% 컷오프:\", np.percentile(scores, 25))\n",
    "\n",
    "# 문제4: 학급별 평균이 가장 높은/낮은 학급 찾기\n",
    "class_means = np.mean(scores, axis=1)\n",
    "print(\"학급별 평균:\", class_means)\n",
    "print(\"최고 평균 학급:\", np.argmax(class_means) + 1)  # +1은 학급 번호 조정\n",
    "print(\"최저 평균 학급:\", np.argmin(class_means) + 1)  # +1은 학급 번호 조정"
   ]
  },
  {
   "cell_type": "markdown",
   "id": "29416f60",
   "metadata": {},
   "source": [
    "### 유틸리티 함수"
   ]
  },
  {
   "cell_type": "code",
   "execution_count": null,
   "id": "98bf084c",
   "metadata": {},
   "outputs": [
    {
     "name": "stdout",
     "output_type": "stream",
     "text": [
      "(array([0, 2, 4, 6, 8]),)\n",
      "['짝수' '홀수' '짝수' '홀수' '짝수' '홀수' '짝수' '홀수' '짝수' '홀수']\n",
      "[[1 4 7]\n",
      " [9 8 8]\n",
      " [0 8 6]]\n",
      "(array([0, 1, 1, 1, 2, 2]), array([2, 0, 1, 2, 1, 2]))\n"
     ]
    },
    {
     "data": {
      "text/plain": [
       "array([[ 1,  4, 14],\n",
       "       [18, 16, 16],\n",
       "       [ 0, 16, 12]], dtype=int32)"
      ]
     },
     "execution_count": 61,
     "metadata": {},
     "output_type": "execute_result"
    }
   ],
   "source": [
    "# where\n",
    "\n",
    "arr = np.arange(10)\n",
    "# 단순 필터링(짝수)\n",
    "print(np.where(arr % 2 == 0))\n",
    "# 값을 바꾸기\n",
    "print(np.where(arr % 2 == 0, '짝수', '홀수'))\n",
    "\n",
    "# 0 ~ 10 랜덤으로 3 X 3\n",
    "arr2d = np.random.randint(0, 10, (3, 3))\n",
    "print(arr2d)\n",
    "\n",
    "# 조건만 걸면, 좌표(인덱스)가 나옴\n",
    "print(np.where(arr2d > 5))\n",
    "# 5보다 큰 값들은 *2, 아니면 그대로\n",
    "print(np.where(arr2d > 5, arr2d * 2, arr2d))\n",
    "# 그냥 조건에 맞는 값들만 보고싶으면?\n",
    "print(arr2d[arr2d > 5])"
   ]
  },
  {
   "cell_type": "code",
   "execution_count": null,
   "id": "47ebd23b",
   "metadata": {},
   "outputs": [],
   "source": [
    "# argmax, argmin\n",
    "\n",
    "# 벡터에서 최대/최소 위치\n",
    "arr = np.array([3, 5, 1, 0, 4])\n",
    "\n",
    "max_idx = np.argmax(arr)\n",
    "min_idx = np.argmin(arr)\n",
    "\n",
    "print(max_idx, min_idx)\n",
    "\n",
    "# 매트릭스에서 최대/최소\n",
    "np.random.seed(23)\n",
    "arr2d = np.random.randint(0, 10, (3, 3))\n",
    "print(arr2d)\n",
    "\n",
    "# 각 행에서 최대값의 idx\n",
    "row_max = np.argmax(arr2d, axis=1)\n",
    "print(row_max)\n",
    "# 각 열에서 최소값의 idx\n",
    "col_min = np.argmin(arr2d, axis=0)\n",
    "print(col_min)"
   ]
  },
  {
   "cell_type": "code",
   "execution_count": null,
   "id": "af914da6",
   "metadata": {},
   "outputs": [
    {
     "name": "stdout",
     "output_type": "stream",
     "text": [
      "[1 2 3 4 5 6]\n",
      "[1 2 3 4 5 6]\n",
      "[2 2 3 2 2 1]\n",
      "{np.int64(1): np.int64(2), np.int64(2): np.int64(2), np.int64(3): np.int64(3), np.int64(4): np.int64(2), np.int64(5): np.int64(2), np.int64(6): np.int64(1)}\n",
      "3\n"
     ]
    }
   ],
   "source": [
    "# unique 고유값 찾기\n",
    "arr = np.array([1, 2, 3, 2, 3, 4, 3, 1, 5, 5, 6, 4])\n",
    "\n",
    "# 값들만\n",
    "unique_values = np.unique(arr)\n",
    "print(unique_values)\n",
    "\n",
    "# 값들, 개수\n",
    "values, count = np.unique(arr, return_counts=True)\n",
    "print(values)\n",
    "print(count)\n",
    "\n",
    "# 값들, 개수 -> dict\n",
    "freq_dict = dict(zip(values, count))\n",
    "print(freq_dict)\n",
    "\n",
    "# 가장 많이 등장하는 숫자 찾기\n",
    "idx = np.argmax(count)\n",
    "print(values[idx])"
   ]
  },
  {
   "cell_type": "code",
   "execution_count": null,
   "id": "5c206fc2",
   "metadata": {},
   "outputs": [
    {
     "name": "stdout",
     "output_type": "stream",
     "text": [
      "[0 1 2 3 4 5 7]\n",
      "[7 5 4 3 2 1 0]\n",
      "[3 2 5 0 4 1 6]\n"
     ]
    },
    {
     "data": {
      "text/plain": [
       "array([0, 1, 2, 3, 4, 5, 7])"
      ]
     },
     "execution_count": 72,
     "metadata": {},
     "output_type": "execute_result"
    }
   ],
   "source": [
    "# sort, argsort\n",
    "\n",
    "arr = np.array([3, 5, 1, 0, 4, 2, 7])\n",
    "\n",
    "# 오름차순 정렬 ASC\n",
    "print(np.sort(arr))\n",
    "\n",
    "# 내림차순 정렬 DESC\n",
    "print(np.sort(arr,)[::-1])\n",
    "\n",
    "# 정렬하기 위한 인덱스 배치\n",
    "idx = np.argsort(arr)\n",
    "print(idx)\n",
    "\n",
    "arr[idx] # 이렇게 넣어보면 정렬이 되어서 나옴!\n"
   ]
  },
  {
   "cell_type": "code",
   "execution_count": 75,
   "id": "2ed6876d",
   "metadata": {},
   "outputs": [
    {
     "name": "stdout",
     "output_type": "stream",
     "text": [
      "[[5 8 9 5]\n",
      " [0 0 1 7]\n",
      " [6 9 2 4]]\n",
      "[[5 5 8 9]\n",
      " [0 0 1 7]\n",
      " [2 4 6 9]]\n",
      "[[6 9 9 7]\n",
      " [5 8 2 5]\n",
      " [0 0 1 4]]\n"
     ]
    }
   ],
   "source": [
    "# Matrix 정렬\n",
    "np.random.seed(1)\n",
    "arr2d = np.random.randint(0, 10, (3, 4))\n",
    "print(arr2d)\n",
    "\n",
    "# 행별 asc 정렬\n",
    "row_sorted = np.sort(arr2d, axis=1)\n",
    "print(row_sorted)\n",
    "\n",
    "# 열별 desc 정렬\n",
    "col_sorted = np.sort(arr2d, axis=0)[::-1] # [::-1]을 뒤에 붙이면 거꾸로 정렬하니까 내림차순이 됌\n",
    "print(col_sorted)"
   ]
  },
  {
   "cell_type": "code",
   "execution_count": 76,
   "id": "6c9712fd",
   "metadata": {},
   "outputs": [],
   "source": [
    "# 가상의 학생 시험 점수 데이터\n",
    "math_scores = np.array([85, 90, 75, 95, 70, 80, 65, 75, 90, 85])\n",
    "science_scores = np.array([90, 85, 80, 95, 70, 75, 65, 80, 85, 90])\n",
    "english_scores = np.array([80, 85, 90, 80, 75, 90, 70, 75, 85, 95])\n",
    "\n",
    "subjects = ['수학', '과학', '영어']\n",
    "scores = np.vstack((math_scores, science_scores, english_scores))"
   ]
  },
  {
   "cell_type": "code",
   "execution_count": null,
   "id": "33bfdd08",
   "metadata": {},
   "outputs": [
    {
     "name": "stdout",
     "output_type": "stream",
     "text": [
      "0 [85 90 75 95 70 80 65 75 90 85]\n",
      "81.0\n",
      "82.5\n",
      "1 [90 85 80 95 70 75 65 80 85 90]\n",
      "81.5\n",
      "82.5\n",
      "2 [80 85 90 80 75 90 70 75 85 95]\n",
      "82.5\n",
      "82.5\n",
      "수학 평균: 81.0\n",
      "과학 평균: 81.5\n",
      "영어 평균: 82.5\n",
      "과목 전체 평균: 81.66666666666667\n",
      "과목별 중앙값: 82.5\n",
      "과목별 표준편차: 8.59586463881842\n",
      "최소 점수: [65 65 70]\n",
      "최고 점수: [95 95 95]\n"
     ]
    }
   ],
   "source": [
    "# 기본 통계 (과목별 평균, 중앙값, *표준편차*, 최소, 최대)\n",
    "\n",
    "# averge\n",
    "print(\"수학 평균:\", np.mean(math_scores))\n",
    "print(\"과학 평균:\", np.mean(science_scores))\n",
    "print(\"영어 평균:\", np.mean(english_scores))\n",
    "\n",
    "print(\"과목 전체 평균:\", np.mean(scores))\n",
    "\n",
    "# center\n",
    "print(\"과목별 중앙값:\", np.median(scores))\n",
    "\n",
    "# 표준편차\n",
    "print(\"과목별 표준편차:\", np.std(scores))\n",
    "\n",
    "# min\n",
    "print(\"최소 점수:\", np.min(scores, axis=1))\n",
    "\n",
    "# max\n",
    "print(\"최고 점수:\", np.max(scores, axis=1))\n"
   ]
  },
  {
   "cell_type": "code",
   "execution_count": 131,
   "id": "1e5a9913",
   "metadata": {},
   "outputs": [
    {
     "name": "stdout",
     "output_type": "stream",
     "text": [
      "수학 평균: 81.00, 중앙값: 82.5, 표준편차: 9.165, 최소: 65, 최대: 95\n",
      "과학 평균: 81.50, 중앙값: 82.5, 표준편차: 8.958, 최소: 65, 최대: 95\n",
      "영어 평균: 82.50, 중앙값: 82.5, 표준편차: 7.500, 최소: 70, 최대: 95\n"
     ]
    }
   ],
   "source": [
    "# 강사님이 써주신 답변\n",
    "\n",
    "for idx, subject in enumerate(scores):\n",
    "    # print(idx, subject) 이거를 쓰면 행별 점수 리스트 나옴\n",
    "    # 평균 mean\n",
    "    mean_score = np.mean(scores[idx])\n",
    "    \n",
    "    # 중앙값 median\n",
    "    median_score = np.median(scores[idx])\n",
    "    \n",
    "    # 표준편차 standard devieation (std)\n",
    "    std_dev = np.std(subject)\n",
    "    \n",
    "    # 최소 min\n",
    "    min_score = np.min(subject)\n",
    "    \n",
    "    # 최대 max\n",
    "    max_score = np.max(subject)\n",
    "\n",
    "    print(f'{subjects[idx]} 평균: {mean_score:.2f}, 중앙값: {median_score}, 표준편차: {std_dev:.3f}, 최소: {min_score}, 최대: {max_score}')"
   ]
  },
  {
   "cell_type": "code",
   "execution_count": null,
   "id": "5c10ec75",
   "metadata": {},
   "outputs": [
    {
     "name": "stdout",
     "output_type": "stream",
     "text": [
      "열별 합계: [255 260 245 270 215 245 200 230 260 270]\n",
      "[270 270 260 260 255 245 245 230 215 200]\n",
      "학생번호 | 수학 | 과학 | 영어 | 총점\n",
      "  10    |  85  | 90  |  95  | 270\n",
      "   4    |  95  | 95  |  80  | 270\n",
      "   9    |  90  | 85  |  85  | 260\n"
     ]
    }
   ],
   "source": [
    "# 총점 기준 상위 3명 학생의 정보 표시\n",
    "# | 학생번호(idx) | 수학 | 과학 | 영어 | 총점 |\n",
    "\n",
    "print(\"열별 합계:\", np.sum(scores, axis=0))  # 열별 총점  axis=0 >> 상하(열별이라는뜻)\n",
    "print(np.sort(np.sum(scores, axis=0))[::-1]) # 총점 기준 내림차순 정렬\n",
    "\n",
    "# 아래는 강사님 답\n",
    "\n",
    "sum_scores = np.sum(scores, axis=0)\n",
    "\n",
    "top3 = np.argsort(sum_score)[::-1][:3] # 이건 다른 방법으로 / 총점 기준 내림차순, 3위까지의 idx\n",
    "\n",
    "print('학생번호 | 수학 | 과학 | 영어 | 총점')\n",
    "for idx in top3:\n",
    "    print(\n",
    "        f'{idx+1:^7} | {math_scores[idx]:^4} | {science_scores[idx]:^3} |',  # :^7을 뒤에 붙이면 간격 조정(?) 해줌. 숫자에 따라서 간격이 다름\n",
    "        f'{english_scores[idx]:^4} | {sum_scores[idx]}'\n",
    "\n",
    "    )\n"
   ]
  }
 ],
 "metadata": {
  "kernelspec": {
   "display_name": "Python 3",
   "language": "python",
   "name": "python3"
  },
  "language_info": {
   "codemirror_mode": {
    "name": "ipython",
    "version": 3
   },
   "file_extension": ".py",
   "mimetype": "text/x-python",
   "name": "python",
   "nbconvert_exporter": "python",
   "pygments_lexer": "ipython3",
   "version": "3.13.2"
  }
 },
 "nbformat": 4,
 "nbformat_minor": 5
}
