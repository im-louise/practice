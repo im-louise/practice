{
 "cells": [
  {
   "cell_type": "markdown",
   "id": "bf9b0ccd",
   "metadata": {},
   "source": [
    "# '01 numpy.ipynb'\n",
    "\n",
    "- 통계 vs 데이터분석 vs 머신러닝\n",
    "    - 데이터분석 : **문제를 정의하고 인사이트 도출** (고객 구매 패턴 분석)\n",
    "    - 통계 : 데이터를 **요약, 해석하는 수학**(평균, 분산)\n",
    "    - 머신러닝 : 데이터를 학습하여 **예측**(스팸함 분류, 추천)\n",
    "- 데이터 분석 : 데이터를 분석하여 의사결정에 도움을 준다.\n",
    "    - 의사결정 데이터 기반의 근거\n",
    "    - 패턴 발견, 예측 (머신러닝)\n",
    "\n",
    "- DA Flow (흐름)\n",
    "    1. 문제 정의\n",
    "    2. 데이터 수집\n",
    "    3. 데이터 정제(결측치, 이상치 처리)\n",
    "    4. 탐색 - 시각화 (평균, 분포, 상관관계, 막대그래프, 히스토그램)\n",
    "    5. 통계분석 및 해석( 수학 -> 가설 검정, 회귀분석)\n",
    "    6. 결론 도출\n",
    "\n",
    "- 시트 vs DB vs Python\n",
    "    - 시트는 편함.\n",
    "    - DB는 대용량 처리 (억단위)\n",
    "    - 파이썬 시각화, 분석, 머신러닝\n",
    "\n",
    "- 라이브러리\n",
    "    - `numpy`: 빠름(배열 연산) (배열 vs 리스트)\n",
    "    - `pandas`: 표(dataFrame) -> `numpy` 기반으로 만들어짐\n",
    "    - `matplotlib ` : 시각화 기본(그래프)\n",
    "    - `seaborn` : 시각화 심화\n",
    "    - `scipy` : 고급 통계, 수학 연산\n",
    "    - `scikit-learn` : 머신러닝(제일 많이 씀)"
   ]
  },
  {
   "cell_type": "code",
   "execution_count": null,
   "id": "fecc7360",
   "metadata": {},
   "outputs": [],
   "source": [
    "%pip install numpy"
   ]
  },
  {
   "cell_type": "code",
   "execution_count": null,
   "id": "0e3d8e7f",
   "metadata": {},
   "outputs": [],
   "source": [
    "python_list = [1, 2, 3, 4, 5]\n",
    "\n",
    "python_list2 = [p*2 for p in python_list]\n",
    "python_list2"
   ]
  },
  {
   "cell_type": "code",
   "execution_count": null,
   "id": "6c62d8e8",
   "metadata": {},
   "outputs": [],
   "source": [
    "import numpy as np\n",
    "\n",
    "np.array([1, 2, 3, 4, 5])\n",
    "\n",
    "array = np.array([1, 2, 3, 4, 5])\n",
    "result = array * 2\n",
    "print(result)"
   ]
  },
  {
   "cell_type": "code",
   "execution_count": null,
   "id": "bb85d332",
   "metadata": {},
   "outputs": [],
   "source": [
    "arr = np.array([1, 2, 3, 4, 5])\n",
    "print(arr, type(arr))\n",
    "print('차원', arr.ndim)\n",
    "print('형태', arr.shape)\n",
    "print('크기', arr.size)"
   ]
  },
  {
   "cell_type": "code",
   "execution_count": null,
   "id": "fdd73ffb",
   "metadata": {},
   "outputs": [],
   "source": [
    "arr1d = np.array([1, 2, 3, 4, 5])\n",
    "print(arr1d)"
   ]
  },
  {
   "cell_type": "code",
   "execution_count": null,
   "id": "3b32e0e9",
   "metadata": {},
   "outputs": [],
   "source": [
    "l2d = [\n",
    "    [1, 2, 3],\n",
    "    [4, 5, 6],\n",
    "]\n",
    "\n",
    "arr2d = np.array(l2d)\n",
    "\n",
    "arr2d.ndim, arr2d.shape, arr2d.size, arr2d.dtype"
   ]
  },
  {
   "cell_type": "code",
   "execution_count": null,
   "id": "94a3c421",
   "metadata": {},
   "outputs": [],
   "source": [
    "# 실수형 arr\n",
    "\n",
    "np.array([1, 2, 3], dtype=float)"
   ]
  },
  {
   "cell_type": "code",
   "execution_count": null,
   "id": "e673c7f7",
   "metadata": {},
   "outputs": [],
   "source": [
    "# 0으로 채워짐\n",
    "z1d = np.zeros(5)\n",
    "z2d = np.zeros((2, 3))\n",
    "print(z1d, z2d)\n",
    "\n",
    "# 1로 채워짐\n",
    "o1d = np.ones(5)\n",
    "o2d = np.ones((2, 3))\n",
    "print(o1d, o2d)\n",
    "\n",
    "# n으로 채워짐 -> 5칸을 7로 채우기\n",
    "n1d = np.full(5, 7)\n",
    "n2d = np.full((2, 3), 7)\n",
    "print(n1d, n2d)\n",
    "\n",
    "# 빈칸이지만 먼저 만듬\n",
    "empty = np.empty(3)\n",
    "print(empty)"
   ]
  },
  {
   "cell_type": "code",
   "execution_count": null,
   "id": "5c035040",
   "metadata": {},
   "outputs": [],
   "source": [
    "# 시퀸스 데이터\n",
    "\n",
    "# range\n",
    "range_arr = np.arange(0, 10, 2)\n",
    "print(range_arr)\n",
    "\n",
    "# 등간격 실수 배열\n",
    "lin_space = np.linspace(0, 1, 5)\n",
    "print(lin_space)\n",
    "\n",
    "# 로그스케일\n",
    "log_space = np.logspace(0, 2, 5) # 10^0 ~ 10^2 5개 요소\n",
    "print(log_space)"
   ]
  },
  {
   "cell_type": "code",
   "execution_count": null,
   "id": "36c68f2f",
   "metadata": {},
   "outputs": [],
   "source": [
    "# 난수 배열\n",
    "\n",
    "# 균등 분포 난수 (0~1) 사이를 균등활률 분포\n",
    "random = np.random.rand(3, 3)  # 0 ~ 1 실수\n",
    "print(random)\n",
    "\n",
    "# *정규 분포 난수\n",
    "normal = np.random.randn(3, 3)\n",
    "print(normal)\n",
    "\n",
    "# 정수 난수 (0 ~ 9, 3*3)\n",
    "int_random = np.random.randint(0, 10, (3, 3))\n",
    "print(int_random)\n",
    "\n",
    "# 시드 설정(랜덤 재현 가능)\n",
    "np.random.seed(42)  # 랜덤 상황 42 고정\n",
    "np.random.rand(3)"
   ]
  },
  {
   "cell_type": "code",
   "execution_count": null,
   "id": "9cc9ea6b",
   "metadata": {},
   "outputs": [],
   "source": [
    "# 배열의 데이터 타입\n",
    "\n",
    "# 데이터 타입 확인\n",
    "arr = np.array([1, 2, 3])\n",
    "print(arr.dtype)\n",
    "\n",
    "# 데이터 타입 지정 생성\n",
    "f_arr = np.array([1, 2, 3], dtype = np.float64)\n",
    "print(f_arr.dtype)\n",
    "\n",
    "# 데이터 타입 변경 int -> float\n",
    "converted = arr.astype(np.float64)\n",
    "print(converted.dtype)\n",
    "\n",
    "# 문자열 -> 숫자 바꾸기\n",
    "str_arr = np.array(['1.2', '3.4'])\n",
    "num_arr = str_arr.astype(float) #Np.floatXX 라고 지정 안하고 float 쓰면 -> float64\n",
    "print(num_arr, num_arr.dtype)"
   ]
  },
  {
   "cell_type": "code",
   "execution_count": null,
   "id": "d16722e8",
   "metadata": {},
   "outputs": [],
   "source": [
    "# 메모리 사용량\n",
    "print(arr.itemsize) #int64 -> 8byte\n",
    "print(converted.itemsize) # float32 -> 4byte\n",
    "\n",
    "# 총 메모리 사용량\n",
    "print(arr.nbytes)  # 8byte * 3칸\n",
    "print(converted.nbytes)"
   ]
  },
  {
   "cell_type": "code",
   "execution_count": null,
   "id": "3ae16014",
   "metadata": {},
   "outputs": [],
   "source": [
    "# 배열 재구성\n",
    "arr = np.arange(12)\n",
    "reshaped = arr.reshape(3, 4) # 3row * 4col\n",
    "print(arr)\n",
    "print(reshaped)\n",
    "\n",
    "reshaped3d = arr.reshape(2, 2, 3) # 2페이지, 2row * 3col\n",
    "print(reshaped3d)\n",
    "\n",
    "# 자동 계산\n",
    "auto1 = arr.reshape(3, -1) # row 3개, col 알아서\n",
    "auto2 = arr.reshape(-1, 6) # 행 알아서 열 6개\n",
    "\n",
    "print(auto1, auto2)"
   ]
  },
  {
   "cell_type": "code",
   "execution_count": null,
   "id": "733770eb",
   "metadata": {},
   "outputs": [],
   "source": [
    "# reshpae -> 원본 그대로, 새로운 배열 만듬\n",
    "# resize -> 원본을 바꿈\n",
    "\n",
    "arr = np.arange(12)\n",
    "reshaped = arr.reshape(3, 4) # 새로운 배열 리턴\n",
    "print(reshaped)\n",
    "print(arr)\n",
    "\n",
    "arr.resize(3, 4) # arr 이 바뀜\n",
    "print(arr)"
   ]
  },
  {
   "cell_type": "code",
   "execution_count": null,
   "id": "0667bb75",
   "metadata": {},
   "outputs": [],
   "source": [
    "# N차원 -> 1차원\n",
    "arr = np.array([[1, 2, 3], [4, 5, 6]])\n",
    "\n",
    "r = arr.ravel()\n",
    "f = arr.flatten()\n",
    "\n",
    "print(r, f)\n",
    "\n",
    "!! 여기 체크"
   ]
  },
  {
   "cell_type": "code",
   "execution_count": 51,
   "id": "84ae1260",
   "metadata": {},
   "outputs": [
    {
     "name": "stdout",
     "output_type": "stream",
     "text": [
      "[[1 2 3]\n",
      " [4 5 6]]\n"
     ]
    },
    {
     "data": {
      "text/plain": [
       "array([[1, 4],\n",
       "       [2, 5],\n",
       "       [3, 6]])"
      ]
     },
     "execution_count": 51,
     "metadata": {},
     "output_type": "execute_result"
    }
   ],
   "source": [
    "# 전치 -> 행과 열을 교환\n",
    "arr_2d = np.array([[1, 2, 3], [4, 5, 6]])\n",
    "print(arr_2d)\n",
    "\n",
    "arr_2d.transpose()"
   ]
  },
  {
   "cell_type": "code",
   "execution_count": null,
   "id": "9e82c185",
   "metadata": {},
   "outputs": [],
   "source": [
    "# 1 ~ 15 정수 배열 (arange vs array(range))\n",
    "print(np.arange(1, 16), np.array(range(1, 16)))\n",
    "\n",
    "# 0 ~ 9 까지 홀수\n",
    "print(np.arange(1, 10, 2))\n",
    "\n",
    "# 0 ~ 3까지 균등 6등분(5구간) 배열\n",
    "print(np.linspace(0, 3, 6))"
   ]
  },
  {
   "cell_type": "code",
   "execution_count": null,
   "id": "7b1332f5",
   "metadata": {},
   "outputs": [],
   "source": [
    "# 4 * 4 단위 행렬(identity matrix) -> 대각선1, 나머지0\n",
    "print(np.eye(4))\n",
    "\n",
    "# 3 * 4 사이즈의 1로 가득찬 int 배열\n",
    "np.ones((3, 4), dtype=int)\n",
    "\n",
    "# 2 * 3 * 4 사이즈 (3 * 4가 2개 있다는 뜻) 0~1 난수 배열\n",
    "np.random.rand(2, 3, 4) # 인자로 차원 지정 -> 오래된 버전에서 주로 씀\n",
    "np.random.random((2, 3, 4)) # 튜플로 차원 지정 -> 최신 버전에서 주로 씀"
   ]
  },
  {
   "cell_type": "markdown",
   "id": "e93a7c1b",
   "metadata": {},
   "source": [
    "### 배열의 인덱싱/슬라이싱"
   ]
  },
  {
   "cell_type": "code",
   "execution_count": 74,
   "id": "c50c0501",
   "metadata": {},
   "outputs": [
    {
     "name": "stdout",
     "output_type": "stream",
     "text": [
      "10 30 50 40\n",
      "[100  20  30  40  50]\n"
     ]
    }
   ],
   "source": [
    "arr = np.array([10, 20, 30, 40, 50])\n",
    "\n",
    "# 접근\n",
    "print(arr[0], arr[2], arr[-1], arr[-2])\n",
    "\n",
    "# 변경\n",
    "arr[0] = 100\n",
    "print(arr)"
   ]
  },
  {
   "cell_type": "code",
   "execution_count": 73,
   "id": "5cb121c4",
   "metadata": {},
   "outputs": [
    {
     "data": {
      "text/plain": [
       "array([[100,   2,   3],\n",
       "       [  4,   5,   6],\n",
       "       [  7,   8,   9]])"
      ]
     },
     "execution_count": 73,
     "metadata": {},
     "output_type": "execute_result"
    }
   ],
   "source": [
    "# arr_2d = np.array(range(1, 10)).reshape(3, 3)\n",
    "arr_2d = np.array(\n",
    "    [\n",
    "        [1, 2, 3],\n",
    "        [4, 5, 6],\n",
    "        [7, 8, 9]\n",
    "    ]\n",
    ")\n",
    "# Numpy 에서만 지원\n",
    "arr_2d[0, 0]  # arr_2d[0][0] -> r 0, c 0\n",
    "arr_2d[1, 1]\n",
    "\n",
    "arr_2d[1]  # 행 접근\n",
    "\n",
    "# 변경\n",
    "arr_2d[0, 0] = 100\n",
    "arr_2d"
   ]
  },
  {
   "cell_type": "code",
   "execution_count": 72,
   "id": "a8b6c09f",
   "metadata": {},
   "outputs": [
    {
     "name": "stdout",
     "output_type": "stream",
     "text": [
      "[2 3 4] [0 1 2 3 4] [5 6 7 8 9]\n",
      "[1 3 5 7] [0 2 4 6 8]\n",
      "[9 8 7 6 5 4 3 2 1 0] [7 6 5 4 3]\n",
      "[  0   1   2 100 100 100   6   7   8   9]\n"
     ]
    }
   ],
   "source": [
    "# 슬라이싱\n",
    "arr = np.arange(10)\n",
    "print(\n",
    "    arr[2:5],\n",
    "    arr[:5],\n",
    "    arr[5:]\n",
    ")\n",
    "\n",
    "print(\n",
    "    arr[1:8:2],\n",
    "    arr[::2]\n",
    ")\n",
    "\n",
    "print(\n",
    "    arr[::-1],\n",
    "    arr[7:2:-1]\n",
    ")\n",
    "\n",
    "# 슬라이싱으로 일괄 변경 (Python X)\n",
    "arr[3:6] = 100\n",
    "print(arr)"
   ]
  },
  {
   "cell_type": "code",
   "execution_count": 71,
   "id": "f362abeb",
   "metadata": {},
   "outputs": [
    {
     "name": "stdout",
     "output_type": "stream",
     "text": [
      "[[ 1  2  3  4]\n",
      " [ 5  6  7  8]\n",
      " [ 9 10 11 12]]\n",
      "[[1 2 3 4]\n",
      " [5 6 7 8]]\n",
      "[[ 2  3]\n",
      " [ 6  7]\n",
      " [10 11]]\n",
      "[[ 5  6]\n",
      " [ 9 10]]\n",
      "[[ 1  3]\n",
      " [ 9 11]]\n"
     ]
    }
   ],
   "source": [
    "# 다차원 배열 슬라이싱\n",
    "arr_2d = np.arange(1, 13).reshape(3, -1)\n",
    "print(arr_2d)\n",
    "\n",
    "#row(행) 슬라이싱 -> 0, 1 idx 행\n",
    "print(arr_2d[0:2])\n",
    "\n",
    "# col(열) 슬라이싱\n",
    "print(arr_2d[:, 1:3]) # 전체 행의 1부터 2열\n",
    "\n",
    "# row / col 동시 슬라이싱 -> 1, 2행 / 0, 1열\n",
    "print(arr_2d[1:3, 0:2])\n",
    "\n",
    "# 간격지정 -> 행, 열 모두 2간격\n",
    "print(arr_2d[::2, ::2])"
   ]
  },
  {
   "cell_type": "code",
   "execution_count": 70,
   "id": "89ffc00e",
   "metadata": {},
   "outputs": [
    {
     "name": "stdout",
     "output_type": "stream",
     "text": [
      "[[1 2 3]\n",
      " [4 5 6]\n",
      " [7 8 9]]\n",
      "[[0 0 3]\n",
      " [0 0 6]\n",
      " [7 8 9]]\n"
     ]
    },
    {
     "ename": "IndexError",
     "evalue": "index 3 is out of bounds for axis 1 with size 3",
     "output_type": "error",
     "traceback": [
      "\u001b[31m---------------------------------------------------------------------------\u001b[39m",
      "\u001b[31mIndexError\u001b[39m                                Traceback (most recent call last)",
      "\u001b[36mCell\u001b[39m\u001b[36m \u001b[39m\u001b[32mIn[70]\u001b[39m\u001b[32m, line 9\u001b[39m\n\u001b[32m      6\u001b[39m \u001b[38;5;28mprint\u001b[39m(arr_2d)\n\u001b[32m      8\u001b[39m \u001b[38;5;66;03m# 열 교체 (모든행, idx 3열) -> 벡터 -> 교체 -> 원본 matrix의 열이 바뀜\u001b[39;00m\n\u001b[32m----> \u001b[39m\u001b[32m9\u001b[39m \u001b[43marr_2d\u001b[49m\u001b[43m[\u001b[49m\u001b[43m:\u001b[49m\u001b[43m,\u001b[49m\u001b[43m \u001b[49m\u001b[32;43m3\u001b[39;49m\u001b[43m]\u001b[49m \u001b[38;5;66;03m# 벡터(가로) 형식으로 표시됨\u001b[39;00m\n\u001b[32m     11\u001b[39m arr_2d[:, \u001b[32m3\u001b[39m] = [\u001b[32m100\u001b[39m, \u001b[32m200\u001b[39m, \u001b[32m300\u001b[39m]  \u001b[38;5;66;03m# 이렇게 뒤에 값을 붙여주면 형식이 바뀜\u001b[39;00m\n\u001b[32m     12\u001b[39m \u001b[38;5;28mprint\u001b[39m(arr_2d)\n",
      "\u001b[31mIndexError\u001b[39m: index 3 is out of bounds for axis 1 with size 3"
     ]
    }
   ],
   "source": [
    "# 다차원 배열 슬라이싱으로 변경\n",
    "print(arr_2d)\n",
    "\n",
    "# 부분 배열 일괄 변경\n",
    "arr_2d[0:2, 0:2] = 0\n",
    "print(arr_2d)\n",
    "\n",
    "# 열 교체 (모든행, idx 3열) -> 벡터 -> 교체 -> 원본 matrix의 열이 바뀜\n",
    "arr_2d[:, 3] # 벡터(가로) 형식으로 표시됨\n",
    "\n",
    "arr_2d[:, 3] = [100, 200, 300]  # 이렇게 뒤에 값을 붙여주면 형식이 바뀜\n",
    "print(arr_2d)"
   ]
  },
  {
   "cell_type": "code",
   "execution_count": 69,
   "metadata": {},
   "outputs": [
    {
     "name": "stdout",
     "output_type": "stream",
     "text": [
      "[False False False  True  True] [1 2 3 4 5]\n",
      "[4 5]\n",
      "[4 5]\n",
      "[3 4]\n",
      "[1 4 5]\n"
     ]
    }
   ],
   "source": [
    "# boolean 인덱싱 (조건에 따라 배열 요소 선택 - 필터링)\n",
    "\n",
    "arr = np.arange(1, 6)\n",
    "\n",
    "# 마스킹 -> T/F로 바꿈\n",
    "mask = arr > 3\n",
    "print(mask, arr)\n",
    "\n",
    "# 마스킹 배열로 필터링\n",
    "print(arr[mask])\n",
    "\n",
    "# 직접 조건\n",
    "print(arr[arr > 3])\n",
    "\n",
    "# 다중 조건\n",
    "print(arr[ (arr > 2) & (arr < 5) ])  # and\n",
    "print(arr[ (arr == 1) | (arr > 3) ])  # or"
   ]
  },
  {
   "cell_type": "code",
   "execution_count": 68,
   "id": "4090321e",
   "metadata": {},
   "outputs": [
    {
     "name": "stdout",
     "output_type": "stream",
     "text": [
      "[6 7 8 9]\n",
      "[1 2 3 4 5]\n",
      "[[1 2 3]\n",
      " [4 5 6]\n",
      " [7 8 9]]\n",
      "[[1 2 3]\n",
      " [7 8 9]]\n"
     ]
    }
   ],
   "source": [
    "# 2차원 배열 불리언 인덱싱\n",
    "\n",
    "arr_2d = np.arange(1, 10).reshape(3, 3)\n",
    "\n",
    "mask = arr_2d > 5\n",
    "\n",
    "# 원본 matrix 형태 없음. True 로 필터된 애들만 vector로 나옴\n",
    "print(arr_2d[mask])\n",
    "print(arr_2d[arr_2d < 6])\n",
    "\n",
    "# 조건에 맞는 행만 선택\n",
    "row_mask = np.array([True, False, True])\n",
    "print(arr_2d)\n",
    "print(arr_2d[row_mask]) # row T, F, T -> 0, 2 row 만 뽑음"
   ]
  },
  {
   "cell_type": "code",
   "execution_count": 67,
   "id": "3d4d4c3f",
   "metadata": {},
   "outputs": [
    {
     "name": "stdout",
     "output_type": "stream",
     "text": [
      "[10 20 30 40 50]\n",
      "[20 30]\n",
      "[10 30 40]\n",
      "[10 10 20 20 30]\n",
      "[50 30 40 20 10]\n"
     ]
    }
   ],
   "source": [
    "# Fancy 인덱싱\n",
    "arr = np.arange(10, 60, 10)\n",
    "print(arr)\n",
    "# arr[1, 2] -> arr[1][2]\n",
    "print(arr[ [1, 2] ]) # -> arr[1], arr[2] 를 뽑아라\n",
    "print(arr[ [0, 2, 3] ])  # -> arr[0], arr[2], arr[3] 만 가져와라\n",
    "\n",
    "print(arr[[0, 0, 1, 1, 2]])\n",
    "print(arr[[4, 2, 3, 1, 0]])"
   ]
  },
  {
   "cell_type": "code",
   "execution_count": 66,
   "id": "cac2e20e",
   "metadata": {},
   "outputs": [
    {
     "name": "stdout",
     "output_type": "stream",
     "text": [
      "[[1 2 3]\n",
      " [4 5 6]\n",
      " [7 8 9]]\n",
      "[[1 2 3]\n",
      " [7 8 9]]\n",
      "[1 6 8]\n",
      "[[3 1 2]\n",
      " [6 4 5]\n",
      " [9 7 8]]\n"
     ]
    }
   ],
   "source": [
    "arr_2d = np.arange(1, 10).reshape(3, 3)\n",
    "print(arr_2d)\n",
    "\n",
    "arr_2d[[0]]  # row 0\n",
    "\n",
    "# 특정 행만 선택\n",
    "print(arr_2d[ [0, 2] ])  # row 0, 2\n",
    "\n",
    "# 행과 열 동시에 선택\n",
    "print(\n",
    "    arr_2d[\n",
    "        [0, 1, 2], # 세로로 읽어야 함 (0,0) (1,2) (2,1) 순서로 벡터 만듬\n",
    "        [0, 2, 1]\n",
    "    ]\n",
    ")\n",
    "\n",
    "# 행렬의 열을 순서 바꾸기\n",
    "print(\n",
    "    arr_2d[\n",
    "        :,         # 모든 행\n",
    "        [2, 0, 1]  # 열 idx를 이렇게 바꿔라\n",
    "    ]\n",
    ")"
   ]
  },
  {
   "cell_type": "markdown",
   "id": "05846cff",
   "metadata": {},
   "source": [
    "연습문제 풀기!"
   ]
  },
  {
   "cell_type": "code",
   "execution_count": null,
   "metadata": {},
   "outputs": [],
   "source": [
    "# 10부터 20까지의 정수 배열 생성\n",
    "arr = np.arange(10, 21)\n",
    "print('원본', arr)\n",
    "\n",
    "# 문제1: 배열의 첫 번째, 세 번째, 마지막 요소 출력\n",
    "print(\n",
    "    arr[0],\n",
    "    arr[2],\n",
    "    arr[-1]\n",
    ")\n",
    "\n",
    "# 문제2: 인덱스 2부터 5까지 요소 출력\n",
    "print(arr[2:6])\n",
    "\n",
    "# 문제3: 처음부터 5번째 요소까지 모든 짝수 인덱스 요소 출력\n",
    "print(arr[0:6:2])\n",
    "\n",
    "# 문제4: 배열의 요소를 역순으로 출력\n",
    "print(arr[::-1])"
   ]
  },
  {
   "cell_type": "code",
   "execution_count": null,
   "metadata": {},
   "outputs": [],
   "source": [
    "# 3 * 4 matrix\n",
    "matrix = np.arange(12).reshape(3, 4)\n",
    "print('원본', matrix)\n",
    "\n",
    "# 문제1: (1,2) 위치의 요소 출력\n",
    "print(matrix[1, 2])  # matrix[1][2]\n",
    "\n",
    "# 문제2: 두 번째 행 전체 출력\n",
    "matrix[1]\n",
    "\n",
    "# 문제3: 마지막 열 전체 출력\n",
    "matrix[:, -1] \n",
    "\n",
    "# 문제4: 첫 번째와 세 번째 행의 두 번째와 네 번째 열 요소만 추출\n",
    "matrix[[0, 2], :][:, [1, 3]]  # matrix[np.ix_([0, 2], [1, 3])]"
   ]
  },
  {
   "cell_type": "code",
   "execution_count": null,
   "id": "6eab066b",
   "metadata": {},
   "outputs": [],
   "source": [
    "arr = np.arange(1, 21)\n",
    "print('원본', arr)\n",
    "\n",
    "# 문제1: 5의 배수만 선택하여 출력\n",
    "print(arr[arr % 5 == 0])\n",
    "# 문제2: 3보다 크고 15보다 작은 요소 선택\n",
    "print(arr[(arr>3) & (arr < 15)])\n",
    "# 문제3: 7의 배수이거나 홀수인 요소 선택\n",
    "print(arr[(arr%7==0) | (arr%2==1)])"
   ]
  },
  {
   "cell_type": "code",
   "execution_count": 65,
   "id": "a22d0ec9",
   "metadata": {},
   "outputs": [
    {
     "name": "stdout",
     "output_type": "stream",
     "text": [
      "원본 [[ 1  2  3  4]\n",
      " [ 5  6  7  8]\n",
      " [ 9 10 11 12]\n",
      " [13 14 15 16]\n",
      " [17 18 19 20]]\n",
      "[11 12 13 14 15 16 17 18 19 20]\n",
      "[[  1   2   3   4]\n",
      " [  5   6   7   8]\n",
      " [  9  10 100 100]\n",
      " [100 100 100 100]\n",
      " [100 100 100 100]]\n"
     ]
    }
   ],
   "source": [
    "matrix = np.arange(1, 21).reshape(5, 4)\n",
    "print('원본', matrix)\n",
    "\n",
    "# 문제4: 10보다 큰 요소만 100으로 변경 (슬라이싱/불리언인덱싱 -> 뷰 생성 (원본데이터 연결))\n",
    "print(matrix[matrix>10])\n",
    "matrix[matrix>10] = 100\n",
    "print(matrix)"
   ]
  },
  {
   "cell_type": "markdown",
   "id": "736b1e4f",
   "metadata": {},
   "source": [
    "### 선형대수 연산"
   ]
  },
  {
   "cell_type": "code",
   "execution_count": 52,
   "id": "a7e3d8f1",
   "metadata": {},
   "outputs": [
    {
     "name": "stdout",
     "output_type": "stream",
     "text": [
      "[ 6  8 10 12]\n",
      "[-4 -4 -4 -4]\n",
      "[ 5 12 21 32]\n",
      "[0.2        0.33333333 0.42857143 0.5       ]\n",
      "[ 1  4  9 16]\n",
      "[    1    64  2187 65536]\n"
     ]
    }
   ],
   "source": [
    "a = np.array([1, 2, 3, 4])\n",
    "b = np.array([5, 6, 7, 8])\n",
    "\n",
    "print(a + b)\n",
    "print(a - b)\n",
    "print(a * b)\n",
    "print(a / b)\n",
    "\n",
    "print(a ** 2)\n",
    "print(a ** b)"
   ]
  },
  {
   "cell_type": "code",
   "execution_count": 53,
   "id": "3345e1bc",
   "metadata": {},
   "outputs": [
    {
     "name": "stdout",
     "output_type": "stream",
     "text": [
      "[False False  True False]\n",
      "[ True  True  True False]\n",
      "[False  True False  True]\n"
     ]
    }
   ],
   "source": [
    "a = np.array([True, False, True, False])\n",
    "b = np.array([False, True, True, False])\n",
    "\n",
    "# 논리연산\n",
    "# AND\n",
    "print(a & b)\n",
    "# OR\n",
    "print(a | b)\n",
    "# NOT\n",
    "print(~a)"
   ]
  },
  {
   "cell_type": "markdown",
   "id": "f76830ed",
   "metadata": {},
   "source": [
    "### 벡터 < - > 스칼라(단일값) 연산\n",
    "`Broadcasting (스칼라가 배열 크기에 맞게 확장)`"
   ]
  },
  {
   "cell_type": "code",
   "execution_count": 64,
   "id": "24dead99",
   "metadata": {},
   "outputs": [
    {
     "name": "stdout",
     "output_type": "stream",
     "text": [
      "[11 12 13 14 15]\n",
      "[0 1 2 3 4]\n",
      "[ 2  4  6  8 10]\n",
      "[0.5 1.  1.5 2.  2.5]\n",
      "[ 1  4  9 16 25]\n",
      "[False False False  True  True]\n",
      "[False  True False False False]\n"
     ]
    }
   ],
   "source": [
    "# 배열 생성\n",
    "arr = np.array([1, 2, 3, 4, 5])\n",
    "\n",
    "# 스칼라 덧셈\n",
    "print(arr + 10)     # [11 12 13 14 15]\n",
    "\n",
    "# 스칼라 뺄셈\n",
    "print(arr - 1)      # [0 1 2 3 4]\n",
    "\n",
    "# 스칼라 곱셈\n",
    "print(arr * 2)      # [2 4 6 8 10]\n",
    "\n",
    "# 스칼라 나눗셈\n",
    "print(arr / 2)      # [0.5 1.  1.5 2.  2.5]\n",
    "\n",
    "# 스칼라 거듭제곱\n",
    "print(arr ** 2)     # [ 1  4  9 16 25]\n",
    "\n",
    "# 스칼라 비교(불리언 배열)\n",
    "print(arr > 3)      # [False False False  True  True]\n",
    "print(arr == 2)     # [False  True False False False]"
   ]
  },
  {
   "cell_type": "markdown",
   "id": "9aea13d8",
   "metadata": {},
   "source": [
    "### 매트릭스(행렬) < - > 스칼라(단일값) 연산"
   ]
  },
  {
   "cell_type": "code",
   "execution_count": 63,
   "id": "5b6ddfd3",
   "metadata": {},
   "outputs": [
    {
     "name": "stdout",
     "output_type": "stream",
     "text": [
      "[[11 12 13]\n",
      " [14 15 16]]\n",
      "[[ 3  6  9]\n",
      " [12 15 18]]\n"
     ]
    }
   ],
   "source": [
    "# 2차원 배열\n",
    "arr_2d = np.array([[1, 2, 3], [4, 5, 6]])\n",
    "\n",
    "# 스칼라 연산\n",
    "print(arr_2d + 10)\n",
    "# [[11 12 13]\n",
    "#  [14 15 16]]\n",
    "\n",
    "print(arr_2d * 3)\n",
    "# [[ 3  6  9]\n",
    "#  [12 15 18]]"
   ]
  },
  {
   "cell_type": "markdown",
   "id": "5d5b47db",
   "metadata": {},
   "source": [
    "### 매트릭스(행렬) < - > 벡터(1줄) 연산"
   ]
  },
  {
   "cell_type": "code",
   "execution_count": 62,
   "id": "e22f56f9",
   "metadata": {},
   "outputs": [
    {
     "name": "stdout",
     "output_type": "stream",
     "text": [
      "[[11 22 33]\n",
      " [14 25 36]]\n",
      "[[101 102 103]\n",
      " [204 205 206]]\n"
     ]
    }
   ],
   "source": [
    "matrix = np.array([[1, 2, 3], [4, 5, 6]])\n",
    "vector = np.array([10, 20, 30])\n",
    "\n",
    "# 행렬 + 행 벡터\n",
    "print(matrix + vector)\n",
    "\n",
    "# 열 벡터 브로드캐스팅\n",
    "col_vec = np.array(\n",
    "    [\n",
    "        [100],\n",
    "        [200]\n",
    "    ]\n",
    ")\n",
    "print(matrix + col_vec)"
   ]
  },
  {
   "cell_type": "code",
   "execution_count": null,
   "id": "74bc6227",
   "metadata": {},
   "outputs": [
    {
     "name": "stdout",
     "output_type": "stream",
     "text": [
      "Matrix shape (2, 3)\n",
      "vector shape (3,)\n",
      "Matrix + Vector\n",
      "[[11 22 33]\n",
      " [14 25 36]]\n"
     ]
    }
   ],
   "source": [
    "matrix = np.array([[1, 2, 3], [4, 5, 6]])\n",
    "vector = np.array([10, 20, 30])\n",
    "\n",
    "print('Matrix shape', matrix.shape)\n",
    "print('vector shape', vector.shape)\n",
    "# 1. vector (3, ) 가 앞에 1이 추가됨.\n",
    "# 2. Matrix (1, 3) 으로 변함\n",
    "# 3. 더해야 하는 matrix (2, 3)이랑 줄수가 같을때까지 row 복사함.\n",
    "print('Matrix + Vector')\n",
    "print(matrix + vector)"
   ]
  },
  {
   "cell_type": "code",
   "execution_count": null,
   "id": "76e45197",
   "metadata": {},
   "outputs": [
    {
     "name": "stdout",
     "output_type": "stream",
     "text": [
      "A + B 형태: (3, 2)\n",
      "[[2. 2.]\n",
      " [2. 2.]\n",
      " [2. 2.]]\n",
      "A + C 형태: (3, 2)\n",
      "[[2. 2.]\n",
      " [2. 2.]\n",
      " [2. 2.]]\n"
     ]
    }
   ],
   "source": [
    "# 브로드 캐스팅 가능한 경우(Shape 확인을 하자!)\n",
    "\n",
    "A = np.ones((3, 2))       # 3x2 배열\n",
    "B = np.ones((2,))         # 길이 2인 1차원 배열 (1x2로 해석) (행벡터)\n",
    "C = np.ones((3, 1))       # 3x1 배열 (사실상 열벡터)\n",
    "\n",
    "print(\"A + B 형태:\", (A + B).shape)  # (3, 2) - B는 각 행에 브로드캐스팅\n",
    "print(A + B)\n",
    "\n",
    "\n",
    "print(\"A + C 형태:\", (A + C).shape)  # (3, 2) - C는 각 열에 브로드캐스팅\n",
    "print(A + C)"
   ]
  },
  {
   "cell_type": "code",
   "execution_count": null,
   "metadata": {},
   "outputs": [
    {
     "name": "stdout",
     "output_type": "stream",
     "text": [
      "[1 2 3 4 5]\n",
      "[2 3 4]\n",
      "[ 1 20  3  4  5]\n",
      "[ 1 20  3  4  5] [100  20   3   4   5]\n"
     ]
    }
   ],
   "source": [
    "# 뷰(원본 데이터와 링크)와 복사본(완전 별도)의 차이\n",
    "arr = np.arange(1, 6)\n",
    "print(arr)\n",
    "\n",
    "# 슬라이싱 -> 뷰 생성\n",
    "view = arr[1:4]\n",
    "print(view)\n",
    "\n",
    "view[0] = 20\n",
    "print(arr)  # 원본이 바뀌어 버린걸 확인!!\n",
    "\n",
    "# 복사본..?\n",
    "copy = arr.copy()\n",
    "copy[0] = 100\n",
    "print(arr, copy)"
   ]
  },
  {
   "cell_type": "code",
   "execution_count": null,
   "metadata": {},
   "outputs": [],
   "source": [
    "# 연산중 데이터 자동 변환\n",
    "int_arr = np.array([1, 2, 3])\n",
    "float_arr = np.array([1.5, 2.5, 3.5])\n",
    "\n",
    "# int + float = float\n",
    "print(int_arr + float_arr)\n",
    "\n",
    "# int / int = float\n",
    "print(int_arr / 2)\n",
    "\n",
    "# int // int = int\n",
    "print(int_arr // 2)"
   ]
  },
  {
   "cell_type": "code",
   "execution_count": null,
   "metadata": {},
   "outputs": [],
   "source": [
    "arr1 = np.array([8, 12, 6, 10])\n",
    "arr2 = np.array([3, 4,  1, 20])\n",
    "\n",
    "print(arr1 ** 2)\n",
    "print(arr1 ** 0.5, np.sqrt(arr1))  # 루트. 같은 결과\n",
    "\n",
    "# 각 자리마다 최대값만 모음\n",
    "print(np.maximum(arr1, arr2))\n",
    "\n",
    "# arr1 + arr2 의 모든 자리수를 더한 총합\n",
    "print(np.sum(arr1 + arr2))"
   ]
  },
  {
   "cell_type": "code",
   "execution_count": 60,
   "id": "0fd1dd0c",
   "metadata": {},
   "outputs": [
    {
     "name": "stdout",
     "output_type": "stream",
     "text": [
      "sin(x) = [0.00000000e+00 7.07106781e-01 1.00000000e+00 1.22464680e-16]\n",
      "cos(x) = [ 1.00000000e+00  7.07106781e-01  6.12323400e-17 -1.00000000e+00]\n",
      "tan(x) = [ 0.00000000e+00  1.00000000e+00  1.63312394e+16 -1.22464680e-16]\n",
      "arcsin(sin(x)) = [0.00000000e+00 7.85398163e-01 1.57079633e+00 1.22464680e-16]\n",
      "exp(y) = [ 2.71828183  7.3890561  20.08553692 54.59815003]\n",
      "log(y) = [0.         0.69314718 1.09861229 1.38629436]\n",
      "log10(y) = [0.         0.30103    0.47712125 0.60205999]\n",
      "log2(y) = [0.        1.        1.5849625 2.       ]\n",
      "sqrt(y) = [1.         1.41421356 1.73205081 2.        ]\n",
      "power(y, 2) = [ 1  4  9 16]\n",
      "abs(z) = [2 1 0 1 2]\n",
      "sign(z) = [-1 -1  0  1  1]\n",
      "floor(w) = [1. 2. 3. 4.]\n",
      "ceil(w) = [2. 3. 4. 5.]\n",
      "round(w) = [1. 3. 4. 5.]\n",
      "trunc(w) = [1. 2. 3. 4.]\n"
     ]
    }
   ],
   "source": [
    "# 테스트 배열\n",
    "x = np.array([0, np.pi/4, np.pi/2, np.pi])\n",
    "y = np.array([1, 2, 3, 4])\n",
    "\n",
    "# 삼각함수\n",
    "print(\"sin(x) =\", np.sin(x))  # [0., 0.70710678, 1., 0.]\n",
    "print(\"cos(x) =\", np.cos(x))  # [1., 0.70710678, 0., -1.]\n",
    "print(\"tan(x) =\", np.tan(x))  # [0., 1., 16331239353195370., 0.]\n",
    "\n",
    "# 역삼각함수\n",
    "print(\"arcsin(sin(x)) =\", np.arcsin(np.sin(x)))\n",
    "\n",
    "# 지수와 로그\n",
    "print(\"exp(y) =\", np.exp(y))  # [2.71828183, 7.3890561, 20.08553692, 54.59815003]\n",
    "print(\"log(y) =\", np.log(y))  # [0., 0.69314718, 1.09861229, 1.38629436]\n",
    "print(\"log10(y) =\", np.log10(y))  # [0., 0.30103, 0.47712125, 0.60205999]\n",
    "print(\"log2(y) =\", np.log2(y))  # [0., 1., 1.58496250, 2.]\n",
    "\n",
    "# 제곱근과 거듭제곱\n",
    "print(\"sqrt(y) =\", np.sqrt(y))  # [1., 1.41421356, 1.73205081, 2.]\n",
    "print(\"power(y, 2) =\", np.power(y, 2))  # [1, 4, 9, 16]\n",
    "\n",
    "# 절대값과 부호\n",
    "z = np.array([-2, -1, 0, 1, 2])\n",
    "print(\"abs(z) =\", np.abs(z))  # [2 1 0 1 2]\n",
    "print(\"sign(z) =\", np.sign(z))  # [-1 -1  0  1  1]\n",
    "\n",
    "# 소수점 처리\n",
    "w = np.array([1.2, 2.7, 3.5, 4.9])\n",
    "print(\"floor(w) =\", np.floor(w))  # [1. 2. 3. 4.] (내림)\n",
    "print(\"ceil(w) =\", np.ceil(w))   # [2. 3. 4. 5.] (올림)\n",
    "print(\"round(w) =\", np.round(w))  # [1. 3. 4. 5.] (반올림)\n",
    "print(\"trunc(w) =\", np.trunc(w))  # [1. 2. 3. 4.] (소수점 버림)"
   ]
  },
  {
   "cell_type": "code",
   "execution_count": 61,
   "id": "fcd2ec6a",
   "metadata": {},
   "outputs": [
    {
     "name": "stdout",
     "output_type": "stream",
     "text": [
      "합계: 45\n",
      "평균: 5.0\n",
      "최소값: 1\n",
      "최대값: 9\n",
      "표준편차: 2.581988897471611\n",
      "분산: 6.666666666666667\n",
      "행별 합계: [ 6 15 24]\n",
      "열별 합계: [12 15 18]\n",
      "행별 평균: [2. 5. 8.]\n",
      "열별 평균: [4. 5. 6.]\n",
      "행별 최소값: [1 4 7]\n",
      "열별 최소값: [1 2 3]\n"
     ]
    }
   ],
   "source": [
    "arr = np.array([[1, 2, 3], [4, 5, 6], [7, 8, 9]])\n",
    "\n",
    "# 기본 집계\n",
    "print(\"합계:\", np.sum(arr))          # 45\n",
    "print(\"평균:\", np.mean(arr))         # 5.0\n",
    "print(\"최소값:\", np.min(arr))        # 1\n",
    "print(\"최대값:\", np.max(arr))        # 9\n",
    "print(\"표준편차:\", np.std(arr))      # 2.581988897471611\n",
    "print(\"분산:\", np.var(arr))          # 6.666666666666667\n",
    "\n",
    "# 축을 따라 집계\n",
    "print(\"행별 합계:\", np.sum(arr, axis=1))  # [ 6 15 24]\n",
    "print(\"열별 합계:\", np.sum(arr, axis=0))  # [12 15 18]\n",
    "print(\"행별 평균:\", np.mean(arr, axis=1))  # [2. 5. 8.]\n",
    "print(\"열별 평균:\", np.mean(arr, axis=0))  # [4. 5. 6.]\n",
    "print(\"행별 최소값:\", np.min(arr, axis=1))  # [1 4 7]\n",
    "print(\"열별 최소값:\", np.min(arr, axis=0))  # [1 2 3]"
   ]
  },
  {
   "cell_type": "code",
   "execution_count": 75,
   "id": "67fd854e",
   "metadata": {},
   "outputs": [
    {
     "name": "stdout",
     "output_type": "stream",
     "text": [
      "누적 합계: [100 120 150 190 240]\n",
      "행별 누적 합계:\n"
     ]
    },
    {
     "ename": "AxisError",
     "evalue": "axis 1 is out of bounds for array of dimension 1",
     "output_type": "error",
     "traceback": [
      "\u001b[31m---------------------------------------------------------------------------\u001b[39m",
      "\u001b[31mAxisError\u001b[39m                                 Traceback (most recent call last)",
      "\u001b[36mCell\u001b[39m\u001b[36m \u001b[39m\u001b[32mIn[75]\u001b[39m\u001b[32m, line 4\u001b[39m\n\u001b[32m      2\u001b[39m \u001b[38;5;28mprint\u001b[39m(\u001b[33m\"\u001b[39m\u001b[33m누적 합계:\u001b[39m\u001b[33m\"\u001b[39m, np.cumsum(arr))  \u001b[38;5;66;03m# [ 1  3  6 10 15 21 28 36 45]\u001b[39;00m\n\u001b[32m      3\u001b[39m \u001b[38;5;28mprint\u001b[39m(\u001b[33m\"\u001b[39m\u001b[33m행별 누적 합계:\u001b[39m\u001b[33m\"\u001b[39m)\n\u001b[32m----> \u001b[39m\u001b[32m4\u001b[39m \u001b[38;5;28mprint\u001b[39m(\u001b[43mnp\u001b[49m\u001b[43m.\u001b[49m\u001b[43mcumsum\u001b[49m\u001b[43m(\u001b[49m\u001b[43marr\u001b[49m\u001b[43m,\u001b[49m\u001b[43m \u001b[49m\u001b[43maxis\u001b[49m\u001b[43m=\u001b[49m\u001b[32;43m1\u001b[39;49m\u001b[43m)\u001b[49m)\n\u001b[32m      5\u001b[39m \u001b[38;5;66;03m# [[ 1  3  6]\u001b[39;00m\n\u001b[32m      6\u001b[39m \u001b[38;5;66;03m#  [ 4  9 15]\u001b[39;00m\n\u001b[32m      7\u001b[39m \u001b[38;5;66;03m#  [ 7 15 24]]\u001b[39;00m\n\u001b[32m      8\u001b[39m \n\u001b[32m      9\u001b[39m \u001b[38;5;66;03m# 누적 곱 (cumulative product)\u001b[39;00m\n\u001b[32m     10\u001b[39m \u001b[38;5;28mprint\u001b[39m(\u001b[33m\"\u001b[39m\u001b[33m누적 곱:\u001b[39m\u001b[33m\"\u001b[39m, np.cumprod(arr))  \u001b[38;5;66;03m# [1 2 6 24 120 720 5040 40320 362880]\u001b[39;00m\n",
      "\u001b[36mFile \u001b[39m\u001b[32mc:\\Users\\samsung\\AppData\\Local\\Programs\\Python\\Python313\\Lib\\site-packages\\numpy\\_core\\fromnumeric.py:2955\u001b[39m, in \u001b[36mcumsum\u001b[39m\u001b[34m(a, axis, dtype, out)\u001b[39m\n\u001b[32m   2879\u001b[39m \u001b[38;5;129m@array_function_dispatch\u001b[39m(_cumsum_dispatcher)\n\u001b[32m   2880\u001b[39m \u001b[38;5;28;01mdef\u001b[39;00m\u001b[38;5;250m \u001b[39m\u001b[34mcumsum\u001b[39m(a, axis=\u001b[38;5;28;01mNone\u001b[39;00m, dtype=\u001b[38;5;28;01mNone\u001b[39;00m, out=\u001b[38;5;28;01mNone\u001b[39;00m):\n\u001b[32m   2881\u001b[39m \u001b[38;5;250m    \u001b[39m\u001b[33;03m\"\"\"\u001b[39;00m\n\u001b[32m   2882\u001b[39m \u001b[33;03m    Return the cumulative sum of the elements along a given axis.\u001b[39;00m\n\u001b[32m   2883\u001b[39m \n\u001b[32m   (...)\u001b[39m\u001b[32m   2953\u001b[39m \n\u001b[32m   2954\u001b[39m \u001b[33;03m    \"\"\"\u001b[39;00m\n\u001b[32m-> \u001b[39m\u001b[32m2955\u001b[39m     \u001b[38;5;28;01mreturn\u001b[39;00m \u001b[43m_wrapfunc\u001b[49m\u001b[43m(\u001b[49m\u001b[43ma\u001b[49m\u001b[43m,\u001b[49m\u001b[43m \u001b[49m\u001b[33;43m'\u001b[39;49m\u001b[33;43mcumsum\u001b[39;49m\u001b[33;43m'\u001b[39;49m\u001b[43m,\u001b[49m\u001b[43m \u001b[49m\u001b[43maxis\u001b[49m\u001b[43m=\u001b[49m\u001b[43maxis\u001b[49m\u001b[43m,\u001b[49m\u001b[43m \u001b[49m\u001b[43mdtype\u001b[49m\u001b[43m=\u001b[49m\u001b[43mdtype\u001b[49m\u001b[43m,\u001b[49m\u001b[43m \u001b[49m\u001b[43mout\u001b[49m\u001b[43m=\u001b[49m\u001b[43mout\u001b[49m\u001b[43m)\u001b[49m\n",
      "\u001b[36mFile \u001b[39m\u001b[32mc:\\Users\\samsung\\AppData\\Local\\Programs\\Python\\Python313\\Lib\\site-packages\\numpy\\_core\\fromnumeric.py:57\u001b[39m, in \u001b[36m_wrapfunc\u001b[39m\u001b[34m(obj, method, *args, **kwds)\u001b[39m\n\u001b[32m     54\u001b[39m     \u001b[38;5;28;01mreturn\u001b[39;00m _wrapit(obj, method, *args, **kwds)\n\u001b[32m     56\u001b[39m \u001b[38;5;28;01mtry\u001b[39;00m:\n\u001b[32m---> \u001b[39m\u001b[32m57\u001b[39m     \u001b[38;5;28;01mreturn\u001b[39;00m \u001b[43mbound\u001b[49m\u001b[43m(\u001b[49m\u001b[43m*\u001b[49m\u001b[43margs\u001b[49m\u001b[43m,\u001b[49m\u001b[43m \u001b[49m\u001b[43m*\u001b[49m\u001b[43m*\u001b[49m\u001b[43mkwds\u001b[49m\u001b[43m)\u001b[49m\n\u001b[32m     58\u001b[39m \u001b[38;5;28;01mexcept\u001b[39;00m \u001b[38;5;167;01mTypeError\u001b[39;00m:\n\u001b[32m     59\u001b[39m     \u001b[38;5;66;03m# A TypeError occurs if the object does have such a method in its\u001b[39;00m\n\u001b[32m     60\u001b[39m     \u001b[38;5;66;03m# class, but its signature is not identical to that of NumPy's. This\u001b[39;00m\n\u001b[32m   (...)\u001b[39m\u001b[32m     64\u001b[39m     \u001b[38;5;66;03m# Call _wrapit from within the except clause to ensure a potential\u001b[39;00m\n\u001b[32m     65\u001b[39m     \u001b[38;5;66;03m# exception has a traceback chain.\u001b[39;00m\n\u001b[32m     66\u001b[39m     \u001b[38;5;28;01mreturn\u001b[39;00m _wrapit(obj, method, *args, **kwds)\n",
      "\u001b[31mAxisError\u001b[39m: axis 1 is out of bounds for array of dimension 1"
     ]
    }
   ],
   "source": [
    "# 누적 합계 (cumulative sum)\n",
    "print(\"누적 합계:\", np.cumsum(arr))  # [ 1  3  6 10 15 21 28 36 45]\n",
    "print(\"행별 누적 합계:\")\n",
    "print(np.cumsum(arr, axis=1))\n",
    "# [[ 1  3  6]\n",
    "#  [ 4  9 15]\n",
    "#  [ 7 15 24]]\n",
    "\n",
    "# 누적 곱 (cumulative product)\n",
    "print(\"누적 곱:\", np.cumprod(arr))  # [1 2 6 24 120 720 5040 40320 362880]\n",
    "\n",
    "# 중앙값 (median)\n",
    "print(\"중앙값:\", np.median(arr))        # 5.0\n",
    "print(\"행별 중앙값:\", np.median(arr, axis=1))  # [2. 5. 8.]\n",
    "print(\"열별 중앙값:\", np.median(arr, axis=0))  # [4. 5. 6.]\n",
    "\n",
    "# 백분위수 (percentile)\n",
    "print(\"25% 백분위수:\", np.percentile(arr, 25))  # 3.0\n",
    "print(\"50% 백분위수:\", np.percentile(arr, 50))  # 5.0 (중앙값과 동일)\n",
    "print(\"75% 백분위수:\", np.percentile(arr, 75))  # 7.0\n",
    "\n",
    "# 가중 평균 (weighted average)\n",
    "weights = np.array([0.1, 0.3, 0.6])  # 가중치\n",
    "data = np.array([2, 5, 8])\n",
    "print(\"가중 평균:\", np.average(data, weights=weights))  # 6.1"
   ]
  },
  {
   "cell_type": "code",
   "execution_count": 76,
   "id": "541e8140",
   "metadata": {},
   "outputs": [
    {
     "name": "stdout",
     "output_type": "stream",
     "text": [
      "3개로 균등 분할:\n",
      "[array([0, 1, 2, 3]), array([4, 5, 6, 7]), array([ 8,  9, 10, 11])]\n",
      "위치 지정 분할 (인덱스 3, 8 기준):\n",
      "[array([0, 1, 2]), array([3, 4, 5, 6, 7]), array([ 8,  9, 10, 11])]\n",
      "2차원 배열:\n",
      "[[ 0  1  2  3]\n",
      " [ 4  5  6  7]\n",
      " [ 8  9 10 11]\n",
      " [12 13 14 15]]\n",
      "행 방향 분할:\n",
      "[array([[0, 1, 2, 3],\n",
      "       [4, 5, 6, 7]]), array([[ 8,  9, 10, 11],\n",
      "       [12, 13, 14, 15]])]\n",
      "[array([[0, 1, 2, 3],\n",
      "       [4, 5, 6, 7]]), array([[ 8,  9, 10, 11],\n",
      "       [12, 13, 14, 15]])]\n",
      "열 방향 분할:\n",
      "[array([[ 0,  1],\n",
      "       [ 4,  5],\n",
      "       [ 8,  9],\n",
      "       [12, 13]]), array([[ 2,  3],\n",
      "       [ 6,  7],\n",
      "       [10, 11],\n",
      "       [14, 15]])]\n",
      "[array([[ 0,  1],\n",
      "       [ 4,  5],\n",
      "       [ 8,  9],\n",
      "       [12, 13]]), array([[ 2,  3],\n",
      "       [ 6,  7],\n",
      "       [10, 11],\n",
      "       [14, 15]])]\n"
     ]
    }
   ],
   "source": [
    "# 샘플 배열\n",
    "arr = np.arange(12)  # [ 0  1  2  3  4  5  6  7  8  9 10 11]\n",
    "\n",
    "# 균등 분할\n",
    "print(\"3개로 균등 분할:\")\n",
    "print(np.split(arr, 3))  # [array([0, 1, 2, 3]), array([4, 5, 6, 7]), array([ 8,  9, 10, 11])]\n",
    "\n",
    "# 위치 지정 분할\n",
    "print(\"위치 지정 분할 (인덱스 3, 8 기준):\")\n",
    "print(np.split(arr, [3, 8]))  # [array([0, 1, 2]), array([3, 4, 5, 6, 7]), array([ 8,  9, 10, 11])]\n",
    "\n",
    "# 2차원 배열 분할\n",
    "arr_2d = np.arange(16).reshape(4, 4)\n",
    "print(\"2차원 배열:\")\n",
    "print(arr_2d)\n",
    "\n",
    "# 행 방향 분할\n",
    "print(\"행 방향 분할:\")\n",
    "print(np.split(arr_2d, 2, axis=0))  # 2개 배열로 (각 2x4)\n",
    "print(np.vsplit(arr_2d, 2))  # 동일한 결과\n",
    "\n",
    "# 열 방향 분할\n",
    "print(\"열 방향 분할:\")\n",
    "print(np.split(arr_2d, 2, axis=1))  # 2개 배열로 (각 4x2)\n",
    "print(np.hsplit(arr_2d, 2))  # 동일한 결과"
   ]
  },
  {
   "cell_type": "code",
   "execution_count": null,
   "id": "5dc4da62",
   "metadata": {},
   "outputs": [],
   "source": [
    "# 벡터를 차원 확장 (행이냐 열이냐)\n",
    "arr = np.array([1, 2, 3, 4])\n",
    "print(arr)\n",
    "\n",
    "# row vector -> [ [1 2 3 4] ]\n",
    "row_vector = np.expand_dims(arr, axis=0)\n",
    "print(row_vector)\n",
    "row_vector2 = arr[np.newaxis, :]\n",
    "print(row_vector2)\n",
    "\n",
    "# col vector -> [ [1] [2] [3] [4] ]\n",
    "col_vector = np.expand_dims(arr, axis=1)\n",
    "print(col_vector)\n",
    "col_vector2 = arr[:, np.newaxis]\n",
    "print(col_vector2)"
   ]
  },
  {
   "cell_type": "code",
   "execution_count": null,
   "id": "fbfe56c8",
   "metadata": {},
   "outputs": [],
   "source": [
    "# 차원 축소\n",
    "arr = np.array([ [ [1], [2], [3] ] ])\n",
    "print(arr, arr.shape)\n",
    "\n",
    "# 모든 단일차원(shape에서 1 나온 것들) 제거\n",
    "print(np.squeeze(arr))  #  [1 2 3]\n",
    "\n",
    "# 특정 축만 제거\n",
    "arr2 = np.array([ [ [ 1, 2, 3 ] ] ])\n",
    "print(arr2, arr2.shape)  # 1 1 3\n",
    "\n",
    "print(np.squeeze(arr2, axis=1))  # 1 3 "
   ]
  }
 ],
 "metadata": {
  "kernelspec": {
   "display_name": "Python 3",
   "language": "python",
   "name": "python3"
  },
  "language_info": {
   "codemirror_mode": {
    "name": "ipython",
    "version": 3
   },
   "file_extension": ".py",
   "mimetype": "text/x-python",
   "name": "python",
   "nbconvert_exporter": "python",
   "pygments_lexer": "ipython3",
   "version": "3.13.2"
  }
 },
 "nbformat": 4,
 "nbformat_minor": 5
}
