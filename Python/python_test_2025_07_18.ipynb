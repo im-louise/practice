{
 "cells": [
  {
   "cell_type": "markdown",
   "id": "e6ef1ac4",
   "metadata": {},
   "source": [
    "🔷Part1"
   ]
  },
  {
   "cell_type": "code",
   "execution_count": null,
   "id": "38406d62",
   "metadata": {},
   "outputs": [],
   "source": [
    "# 1 사용자로부터 두 개의 숫자를 입력받아 더한 결과를 출력하는 프로그램을 작성하세요.\n",
    "a = input()\n",
    "b = input()\n",
    "\n",
    "c = int(a) + int(b)\n",
    "print(c)"
   ]
  },
  {
   "cell_type": "code",
   "execution_count": null,
   "id": "fcab6339",
   "metadata": {},
   "outputs": [],
   "source": [
    "# 2 다음 변수들의 타입을 출력하세요: a = 10, b = 3.14, c = \"hello\", d = True\n",
    "a = 10\n",
    "b = 3.14\n",
    "c = \"hello\"\n",
    "d = True\n",
    "\n",
    "print(type(a),type(b),type(c),type(d))"
   ]
  },
  {
   "cell_type": "code",
   "execution_count": null,
   "id": "2deb8462",
   "metadata": {},
   "outputs": [],
   "source": [
    "# 3 두 문자열을 결합하고, 결합된 문자열의 길이를 출력하세요.\n",
    "str1 = \"Hello\"\n",
    "str2 = \"World\"\n",
    "str = str1+str2\n",
    "\n",
    "print(len(str))"
   ]
  },
  {
   "cell_type": "code",
   "execution_count": null,
   "id": "dc8ebdda",
   "metadata": {},
   "outputs": [],
   "source": [
    "# 4 10을 3으로 나눈 몫과 나머지를 각각 구하세요.\n",
    "a = 10\n",
    "b = 3\n",
    "\n",
    "print(a // b), print(a % b)"
   ]
  },
  {
   "cell_type": "code",
   "execution_count": null,
   "id": "443f37b1",
   "metadata": {},
   "outputs": [],
   "source": [
    "# 5 주어진 숫자가 짝수인지 홀수인지 판별하는 프로그램을 작성하세요.\n",
    "num = int(input(\"숫자를 입력하세요: \"))\n",
    "\n",
    "if num % 2 == 0:\n",
    "    print('짝수입니다.')\n",
    "else:\n",
    "    print('홀수입니다')"
   ]
  },
  {
   "cell_type": "code",
   "execution_count": null,
   "id": "0d3d506b",
   "metadata": {},
   "outputs": [],
   "source": [
    "# 6 문자열 \"Python Programming\"에서 \"Python\"만 추출하여 출력하세요.\n",
    "text = \"Python Programming\"\n",
    "\n",
    "print(text[:6])"
   ]
  },
  {
   "cell_type": "code",
   "execution_count": null,
   "id": "d8b3a258",
   "metadata": {},
   "outputs": [],
   "source": [
    "# 7 세 개의 숫자 중 가장 큰 수를 찾는 프로그램을 작성하세요.\n",
    "a = int(input(\"첫 번째 숫자: \"))\n",
    "b = int(input(\"두 번째 숫자: \"))\n",
    "c = int(input(\"세 번째 숫자: \"))\n",
    "\n",
    "if a > b:\n",
    "    if a > c:\n",
    "        print(a)\n",
    "    else:\n",
    "        print(c)\n",
    "else:\n",
    "    if b > c:\n",
    "        print(b)\n",
    "    else:\n",
    "        print(c)"
   ]
  },
  {
   "cell_type": "code",
   "execution_count": null,
   "id": "15da1b4a",
   "metadata": {},
   "outputs": [],
   "source": [
    "# 8 사용자의 나이를 입력받아 미성년자/성인을 판별하는 프로그램을 작성하세요.\n",
    "age = int(input(\"나이를 입력하세요: \"))\n",
    "\n",
    "if age < 20:\n",
    "    print('미성년자')\n",
    "else:\n",
    "    print('성인')"
   ]
  },
  {
   "cell_type": "code",
   "execution_count": null,
   "id": "51b7a792",
   "metadata": {},
   "outputs": [],
   "source": [
    "# 9 문자열을 입력받아 모든 문자를 대문자로 변환하여 출력하세요.\n",
    "text = input(\"문자열을 입력하세요: \")\n",
    "\n",
    "text.upper()"
   ]
  },
  {
   "cell_type": "code",
   "execution_count": null,
   "id": "ec83dc90",
   "metadata": {},
   "outputs": [],
   "source": [
    "# 10 두 숫자의 차이의 절댓값을 구하는 프로그램을 작성하세요.\n",
    "import math\n",
    "\n",
    "a = int(input(\"첫 번째 숫자: \"))\n",
    "b = int(input(\"두 번째 숫자: \"))\n",
    "\n",
    "print(abs(a-b))"
   ]
  },
  {
   "cell_type": "markdown",
   "id": "cdba1b43",
   "metadata": {},
   "source": [
    "🔷Part2"
   ]
  },
  {
   "cell_type": "code",
   "execution_count": null,
   "id": "086484ca",
   "metadata": {},
   "outputs": [],
   "source": [
    "# 11 1부터 100까지 숫자 중 5의 배수만 리스트에 저장하여 출력하세요.\n",
    "# 리스트 내포(List Comprehension)를 사용해도 좋습니다.\n",
    "# 출력 예시:\n",
    "# [5, 10, 15, ..., 100]\n",
    "\n",
    "\n",
    "five = [num*5 for num in range(1, 21)]\n",
    "print(five)"
   ]
  },
  {
   "cell_type": "code",
   "execution_count": null,
   "id": "7a024797",
   "metadata": {},
   "outputs": [],
   "source": [
    "# 12 다음 리스트에서 짝수만 골라 새로운 리스트로 만드세요:\n",
    "nums = [1,2,3,4,5,6,7,8,9,10]\n",
    "\n",
    "nums[1::2]"
   ]
  },
  {
   "cell_type": "code",
   "execution_count": null,
   "id": "82251395",
   "metadata": {},
   "outputs": [],
   "source": [
    "# 13 다음 딕셔너리에서 가격이 가장 높은 과일과 그 가격을 출력하세요:\n",
    "fruits = {'apple': 1000, 'banana': 500, 'orange': 800}\n",
    "\n",
    "most = max(fruits.items(), key=lambda x: x[1])\n",
    "print(most[0],most[1])"
   ]
  },
  {
   "cell_type": "code",
   "execution_count": null,
   "id": "231fe11a",
   "metadata": {},
   "outputs": [],
   "source": [
    "# 14 for문을 사용하여 구구단 3단을 출력하세요.\n",
    "# 출력 예시:\n",
    "\n",
    "# 3 x 1 = 3\n",
    "# 3 x 2 = 6\n",
    "# ...\n",
    "# 3 x 9 = 27\n",
    "\n",
    "for n in range(1, 10):\n",
    "    print(3, 'X', n, '=', 3 * n)  # print(f'3 X {n} ={3 * n}') 강사님은 이렇게 쓰심\n",
    "\n",
    "# 구구단 전체 만들기\n",
    "\n",
    "for dan in range(2, 10):\n",
    "    print(f'--------------- {dan}단 ----------------')\n",
    "    for n in range(1, 10):\n",
    "        print(f'{dan} X {n} ={dan * n}')"
   ]
  },
  {
   "cell_type": "code",
   "execution_count": null,
   "id": "38cd1ff2",
   "metadata": {},
   "outputs": [
    {
     "name": "stdout",
     "output_type": "stream",
     "text": [
      "{'h': 1, 'e': 1, 'l': 2, 'o': 1}\n",
      "{'h': 1, 'o': 1, 'w': 6, 'u': 1}\n"
     ]
    }
   ],
   "source": [
    "# 15 사용자로부터 문자열을 입력받아, 각 문자가 몇 번 나오는지 딕셔너리 형태로 출력하세요.\n",
    "# 예시 입력: hello 📌 예시 출력: {'h':1, 'e':1, 'l':2, 'o':1}\n",
    "text = input(\"문자열을 입력하세요: \")\n",
    "\n",
    "text_count = {}\n",
    "for t in text:\n",
    "    text_count[t] = text_count.get(t, 0) + 1\n",
    "print(text_count)\n",
    "\n",
    "# 다른 방법\n",
    "\n",
    "text2 = input(\"문자열을 입력하세요: \")\n",
    "\n",
    "text_count2 = {}\n",
    "for t2 in text2:\n",
    "    # dict는 in 연산시 key만 확인한다.\n",
    "    if t2 in text_count2:\n",
    "        text_count2[t2] += 1 # 기존에 있는 키의 value만 수정\n",
    "    else:\n",
    "        text_count2[t2] = 1 # 없는 키와 value 등록\n",
    "print(text_count2)"
   ]
  },
  {
   "cell_type": "code",
   "execution_count": null,
   "id": "37c0d16a",
   "metadata": {},
   "outputs": [],
   "source": [
    "# 16 다음 리스트를 오름차순으로 정렬하고, 가장 큰 값과 가장 작은 값을 출력하세요.\n",
    "nums = [3, 1, 4, 1, 5, 9, 2, 6]\n",
    "\n",
    "number = sorted(nums)\n",
    "print(min(number),max(number))\n",
    "\n",
    "# sort와 sorted의 차이\n",
    "\n",
    "# sorted(nums) > 새로운 리스트가 정렬이 바뀌고 기존 리스트는 변동사항 없음\n",
    "# nums.sort() > 본래 nums 리스트 자체가 정렬이 바뀜"
   ]
  },
  {
   "cell_type": "code",
   "execution_count": null,
   "id": "88f28c72",
   "metadata": {},
   "outputs": [
    {
     "name": "stdout",
     "output_type": "stream",
     "text": [
      "회문입니다.\n"
     ]
    },
    {
     "ename": "TypeError",
     "evalue": "can only join an iterable",
     "output_type": "error",
     "traceback": [
      "\u001b[31m---------------------------------------------------------------------------\u001b[39m",
      "\u001b[31mTypeError\u001b[39m                                 Traceback (most recent call last)",
      "\u001b[36mCell\u001b[39m\u001b[36m \u001b[39m\u001b[32mIn[6]\u001b[39m\u001b[32m, line 12\u001b[39m\n\u001b[32m      8\u001b[39m     \u001b[38;5;28mprint\u001b[39m(\u001b[33m'\u001b[39m\u001b[33m회문이 아닙니다.\u001b[39m\u001b[33m'\u001b[39m)\n\u001b[32m     10\u001b[39m \u001b[38;5;66;03m# 다른 방법\u001b[39;00m\n\u001b[32m---> \u001b[39m\u001b[32m12\u001b[39m word == word[::-\u001b[32m1\u001b[39m], word == \u001b[33;43m'\u001b[39;49m\u001b[33;43m'\u001b[39;49m\u001b[43m.\u001b[49m\u001b[43mjoin\u001b[49m\u001b[43m(\u001b[49m\u001b[38;5;28;43mlist\u001b[39;49m\u001b[43m(\u001b[49m\u001b[43mword\u001b[49m\u001b[43m)\u001b[49m\u001b[43m.\u001b[49m\u001b[43mreverse\u001b[49m\u001b[43m)\u001b[49m\n",
      "\u001b[31mTypeError\u001b[39m: can only join an iterable"
     ]
    }
   ],
   "source": [
    "# 17 입력받은 단어가 앞에서 읽든 뒤에서 읽든 같은 단어인지 확인하는 프로그램을 작성하세요.\n",
    "# 예시: level → 회문 / hello → 회문 아님\n",
    "word = input(\"단어를 입력하세요: \")\n",
    "\n",
    "if word == word[::-1]:\n",
    "    print('회문')\n",
    "else:\n",
    "    print('회문X')\n",
    "\n",
    "# 다른 방법\n",
    "\n",
    "word == word[::-1], word == ''.join(list(word).reverse)\n",
    "\n",
    "# 띄어쓰기 무시하는 방법\n",
    "\n",
    "word2 = word.replace(' ','')  # 띄어쓰기 부분을 지워줌\n",
    "\n",
    "if word2 == word2[::-1]:\n",
    "    print('회문입니다.')\n",
    "else:\n",
    "    print('회문이 아닙니다.')"
   ]
  },
  {
   "cell_type": "code",
   "execution_count": null,
   "id": "7d359541",
   "metadata": {},
   "outputs": [],
   "source": [
    "# 18 다음 두 집합의 합집합, 교집합, 차집합을 구하세요.\n",
    "A = {1, 2, 3, 4, 5}\n",
    "B = {4, 5, 6, 7, 8}\n",
    "\n",
    "print(A | B)\n",
    "print(A & B)\n",
    "print(A - B)"
   ]
  },
  {
   "cell_type": "code",
   "execution_count": null,
   "id": "174bd254",
   "metadata": {},
   "outputs": [],
   "source": [
    "# 19 사용자로부터 정수 n을 입력받아 1부터 n까지의 합을 구하는 프로그램을 작성하세요.\n",
    "n = int(input(\"정수를 입력하세요: \"))\n",
    "\n",
    "s = 0\n",
    "while n > 0:\n",
    "    s += n\n",
    "    n -= 1\n",
    "\n",
    "print(s)"
   ]
  },
  {
   "cell_type": "code",
   "execution_count": 10,
   "id": "eedc8865",
   "metadata": {},
   "outputs": [
    {
     "name": "stdout",
     "output_type": "stream",
     "text": [
      "[1, 2, 3, 4, 5]\n"
     ]
    }
   ],
   "source": [
    "# 20 다음 리스트에서 중복된 값을 제거하고 유일한 값만 남긴 리스트를 출력하세요.\n",
    "nums = [1, 2, 2, 3, 4, 4, 5]\n",
    "\n",
    "list(set(nums))\n",
    "\n",
    "# 다른 방법\n",
    "\n",
    "unique = []\n",
    "\n",
    "for num in nums:\n",
    "    if num not in unique:\n",
    "        unique.append(num)\n",
    "print(unique)"
   ]
  },
  {
   "cell_type": "markdown",
   "id": "b78eb6a5",
   "metadata": {},
   "source": [
    "🔷Part3"
   ]
  },
  {
   "cell_type": "code",
   "execution_count": null,
   "id": "43d4d0f2",
   "metadata": {},
   "outputs": [],
   "source": [
    "# 21"
   ]
  },
  {
   "cell_type": "code",
   "execution_count": null,
   "id": "231267df",
   "metadata": {},
   "outputs": [],
   "source": [
    "# 22 학생들의 성적 딕셔너리를 만들고, 평균 점수를 계산하여 평균 이상인 학생들만 출력하세요.\n",
    "scores = {'Alice': 85, 'Bob': 72, 'Charlie': 90, 'David': 60}"
   ]
  },
  {
   "cell_type": "code",
   "execution_count": null,
   "id": "8d20488c",
   "metadata": {},
   "outputs": [],
   "source": [
    "# 23 주어진 문자열에서 숫자만 추출하여 합계를 구하는 프로그램을 작성하세요.\n",
    "text = \"a1b2c3d4\"\n",
    "\n",
    "total = 0\n",
    "for n in text:\n",
    "    if n.isdigit(): # .isdigit()는 문자가 숫자인지 판별\n",
    "        total += int(n) #숫자일 경우 int()로 변환하여 더하기\n",
    "print(total)"
   ]
  },
  {
   "cell_type": "code",
   "execution_count": null,
   "id": "38c8f68a",
   "metadata": {},
   "outputs": [],
   "source": [
    "# 24 피보나치 수열의 첫 10개 항을 리스트에 저장하여 출력하세요.\n",
    "fibonacci = [0, 1]"
   ]
  },
  {
   "cell_type": "code",
   "execution_count": null,
   "id": "4c81bbe1",
   "metadata": {},
   "outputs": [],
   "source": [
    "# 25 영어 문장을 입력받아 단어 개수, 문자 개수(공백 제외), 모음 개수를 세는 프로그램을 작성하세요.\n",
    "sentence = input(\"문장을 입력하세요: \")"
   ]
  },
  {
   "cell_type": "code",
   "execution_count": null,
   "id": "63a687b0",
   "metadata": {},
   "outputs": [],
   "source": [
    "# 26 2차원 리스트 [[1, 2, 3], [4, 5, 6], [7, 8, 9]]의 모든 원소의 합을 구하세요.\n",
    "matrix = [[1, 2, 3], [4, 5, 6], [7, 8, 9]]"
   ]
  },
  {
   "cell_type": "code",
   "execution_count": null,
   "id": "f0c859e1",
   "metadata": {},
   "outputs": [],
   "source": [
    "# 27 문자열 리스트에서 가장 긴 문자열과 가장 짧은 문자열을 찾아 출력하세요.\n",
    "words = [\"apple\", \"banana\", \"kiwi\", \"strawberry\"]\n",
    "\n",
    "print(max(words),min(words))"
   ]
  },
  {
   "cell_type": "code",
   "execution_count": null,
   "id": "210ba1c4",
   "metadata": {},
   "outputs": [],
   "source": [
    "# 28 로또 번호 생성기를 만드세요. (1~45 중 중복 없는 6개 숫자)\n",
    "import random\n",
    "\n",
    "rotto = random.sample(range(1, 46), 6)\n",
    "print(rotto)"
   ]
  },
  {
   "cell_type": "code",
   "execution_count": null,
   "id": "f016720b",
   "metadata": {},
   "outputs": [],
   "source": [
    "# 29 문자열을 입력받아 각 문자의 ASCII 값을 딕셔너리로 저장하여 출력하세요.\n",
    "text = input(\"문자열을 입력하세요: \")\n",
    "\n",
    "ascii_dict = {}\n",
    "\n",
    "for c in text:\n",
    "    ascii_dict[c] = ord(c)\n",
    "print(ascii_dict)"
   ]
  },
  {
   "cell_type": "code",
   "execution_count": null,
   "id": "d0c7edad",
   "metadata": {},
   "outputs": [],
   "source": [
    "# 30 주어진 문자열에서 가장 많이 나타나는 문자와 그 개수를 찾아 출력하세요.\n",
    "text = \"mississippi\"\n",
    "\n",
    "t_count = {}\n",
    "for t in text:\n",
    "    t_count[t] = t_count.get(t, 0) + 1\n",
    "print(t_count)\n",
    "\n",
    "very = max(t_count.items(), key=lambda x: x[1])\n",
    "print(very[0], very[1])"
   ]
  }
 ],
 "metadata": {
  "kernelspec": {
   "display_name": "Python 3",
   "language": "python",
   "name": "python3"
  },
  "language_info": {
   "codemirror_mode": {
    "name": "ipython",
    "version": 3
   },
   "file_extension": ".py",
   "mimetype": "text/x-python",
   "name": "python",
   "nbconvert_exporter": "python",
   "pygments_lexer": "ipython3",
   "version": "3.13.2"
  }
 },
 "nbformat": 4,
 "nbformat_minor": 5
}
