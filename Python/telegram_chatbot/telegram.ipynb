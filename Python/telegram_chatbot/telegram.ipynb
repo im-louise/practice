{
 "cells": [
  {
   "cell_type": "markdown",
   "id": "a9efddcb",
   "metadata": {},
   "source": [
    "# Telegram.ipynb"
   ]
  },
  {
   "cell_type": "code",
   "execution_count": null,
   "id": "5e283261",
   "metadata": {},
   "outputs": [],
   "source": [
    "from dotenv import load_dotenv\n",
    "import os\n",
    "\n",
    "load_dotenv()\n",
    "\n",
    "# Bot 의 주민번호. 이게 있어야 어떤 봇을 컨트롤 하는지 알 수 있다.\n",
    "bot_token = os.getenv('TELEGRAM_BOT_TOKEN')"
   ]
  },
  {
   "cell_type": "code",
   "execution_count": null,
   "id": "e350daab",
   "metadata": {},
   "outputs": [],
   "source": [
    "# bot의 주민번호\n",
    "bot_token = '7949424324:AAE35aP13bPFLPQFZueb3hcRdLRuC-EONO8'"
   ]
  },
  {
   "cell_type": "code",
   "execution_count": null,
   "id": "f19c8111",
   "metadata": {},
   "outputs": [],
   "source": [
    "# 고정된 URL 뒤에 붙는 링크에 따라 다른 요청이 됌\n",
    "URL = f'https://api.telegram.org/bot{bot_token}'"
   ]
  },
  {
   "cell_type": "code",
   "execution_count": null,
   "id": "ca3b71c7",
   "metadata": {},
   "outputs": [],
   "source": [
    "# bot에 대한 정보\n",
    "URL + '/getME'"
   ]
  },
  {
   "cell_type": "code",
   "execution_count": null,
   "id": "e4867c39",
   "metadata": {},
   "outputs": [],
   "source": [
    "# bot의 모든 업데이트\n",
    "URL + '/getUpdates'"
   ]
  },
  {
   "cell_type": "code",
   "execution_count": null,
   "id": "682a676a",
   "metadata": {},
   "outputs": [],
   "source": [
    "# 답장을 위한 상대방 ID\n",
    "my_id = '8459117190'\n",
    "# 보낼 메세지\n",
    "message = '안녕?난_응애봇'\n",
    "\n",
    "print(URL + '/sendMessage')\n",
    "\n",
    "# print(URL + '/sendMessage'+ f'?chat_id={my_id}&text={message}')  # ?를 넣으면 거기서부터 내가 원하는 메시지 라는 뜻 &으로 다른 항목 묶어줌"
   ]
  },
  {
   "cell_type": "code",
   "execution_count": null,
   "id": "79035f49",
   "metadata": {},
   "outputs": [],
   "source": [
    "# 봇 업데이트 받아서 마지막 메세지 & 유저 받아오기\n",
    "\n",
    "import requests\n",
    "# getUpdates 요청보내고 -> 응답을 json 받아서 저장함 (실행할때마다 갱신)\n",
    "data = requests.get(URL + '/getUpdates').json()\n",
    "\n",
    "# 마지막 메세지의 text 뽑기\n",
    "last_text = data[\"result\"][-1][\"message\"][\"text\"]\n",
    "\n",
    "# 마지막 메시지 보낸사람 id 뽑기\n",
    "last_chat_id = data[\"result\"][-1][\"message\"][\"from\"][\"id\"]\n",
    "print(last_text, last_chat_id)"
   ]
  },
  {
   "cell_type": "code",
   "execution_count": null,
   "id": "71109555",
   "metadata": {},
   "outputs": [],
   "source": [
    "# 챗봇이 보내는 메시지 만들어서 전송하기\n",
    "body = {\n",
    "    'chat_id': last_chat_id, \n",
    "    'text': last_text,\n",
    "}\n",
    "\n",
    "requests.get(URL + '/sendMessage', body).json()"
   ]
  },
  {
   "cell_type": "markdown",
   "id": "c65bc3c3",
   "metadata": {},
   "source": [
    "로또 메세지를 만들어보자"
   ]
  },
  {
   "cell_type": "code",
   "execution_count": 87,
   "id": "d9021448",
   "metadata": {},
   "outputs": [
    {
     "name": "stdout",
     "output_type": "stream",
     "text": [
      "질러보자 8459117190\n"
     ]
    }
   ],
   "source": [
    "import requests\n",
    "# getUpdates 요청보내고 -> 응답을 json 받아서 저장함 (실행할때마다 갱신)\n",
    "data = requests.get(URL + '/getUpdates').json()\n",
    "\n",
    "# 마지막 메세지의 text 뽑기\n",
    "input_msg = data[\"result\"][-1][\"message\"][\"text\"]\n",
    "\n",
    "# 마지막 메시지 보낸사람 id 뽑기\n",
    "sender_id = data[\"result\"][-1][\"message\"][\"from\"][\"id\"]\n",
    "\n",
    "print(input_msg, sender_id)"
   ]
  },
  {
   "cell_type": "code",
   "execution_count": 88,
   "id": "4c5a89af",
   "metadata": {},
   "outputs": [],
   "source": [
    "# 메세지가 로또면 로또 번호 6개 만들어서 보내기\n",
    "import random\n",
    "\n",
    "if input_msg in ('로또', 'lotto', '질러보자'):\n",
    "    output_msg = str(random.sample(range(1, 46), 6))\n",
    "elif input_msg == '안녕':\n",
    "    output_msg = '응 안녕'\n",
    "else:\n",
    "    output_msg = '궁금한 내용을 입력해주세요.'"
   ]
  },
  {
   "cell_type": "code",
   "execution_count": null,
   "id": "1c7cb118",
   "metadata": {},
   "outputs": [
    {
     "data": {
      "text/plain": [
       "{'ok': True,\n",
       " 'result': {'message_id': 17,\n",
       "  'from': {'id': 7949424324,\n",
       "   'is_bot': True,\n",
       "   'first_name': 'JARVIS',\n",
       "   'username': 'Jarrvis_bbot'},\n",
       "  'chat': {'id': 8459117190,\n",
       "   'first_name': 'ys',\n",
       "   'last_name': 'h',\n",
       "   'type': 'private'},\n",
       "  'date': 1753337177,\n",
       "  'text': '[21, 18, 9, 30, 13, 22]'}}"
      ]
     },
     "execution_count": 89,
     "metadata": {},
     "output_type": "execute_result"
    }
   ],
   "source": [
    "# 로또 메시지 보내기\n",
    "body = {\n",
    "    # 누구한테 발송?\n",
    "    'chat_id': sender_id, \n",
    "    # 뭐라고 답장?\n",
    "    'text': output_msg,\n",
    "}\n",
    "\n",
    "requests.get(URL + '/sendMessage', body).json()  # body는 ?~& 대신에 body라는 딕셔너리 넣어서 간단하게 대체하는거!"
   ]
  }
 ],
 "metadata": {
  "kernelspec": {
   "display_name": "Python 3",
   "language": "python",
   "name": "python3"
  },
  "language_info": {
   "codemirror_mode": {
    "name": "ipython",
    "version": 3
   },
   "file_extension": ".py",
   "mimetype": "text/x-python",
   "name": "python",
   "nbconvert_exporter": "python",
   "pygments_lexer": "ipython3",
   "version": "3.13.2"
  }
 },
 "nbformat": 4,
 "nbformat_minor": 5
}
