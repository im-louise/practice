{
 "cells": [
  {
   "cell_type": "markdown",
   "id": "316b5ac8",
   "metadata": {},
   "source": [
    "# Lotto.ipynb"
   ]
  },
  {
   "cell_type": "code",
   "execution_count": null,
   "id": "b99331a8",
   "metadata": {},
   "outputs": [],
   "source": [
    "# API란?\n",
    "\n",
    "# Application Programming Interface"
   ]
  },
  {
   "cell_type": "code",
   "execution_count": null,
   "id": "92684da1",
   "metadata": {},
   "outputs": [],
   "source": [
    "import requests\n",
    "\n",
    "URL1 = 'https://www.dhlottery.co.kr/common.do?method=getLottoNumber&drwNo=1'\n",
    "\n",
    "URL = 'https://www.dhlottery.co.kr/common.do?method=getLottoNumber&drwNo=1181' #1181회 로또\n",
    "\n",
    "{\"totSellamnt\":3681782000, # total sell smount -> 총 판매액\n",
    " \"returnValue\":\"success\",\n",
    " \"drwNoDate\":\"2002-12-07\", # 추첨한 날\n",
    " \"firstWinamnt\":0, # 당첨자수\n",
    " \"firstPrzwnerCo\":0,\n",
    " \"firstAccumamnt\":863604600,\n",
    " \"drwNo\":1, # 회차 번호\n",
    " \"bnusNo\":16, # 보너스 번호\n",
    " \"drwtNo6\":40, # 여기부터 쭉 로또 번호\n",
    " \"drwtNo4\":33,\n",
    " \"drwtNo5\":37,\n",
    " \"drwtNo2\":23,\n",
    " \"drwtNo3\":29,\n",
    " \"drwtNo1\":10}\n",
    "\n",
    "res = requests.get(URL)"
   ]
  },
  {
   "cell_type": "code",
   "execution_count": 56,
   "id": "0954560c",
   "metadata": {},
   "outputs": [
    {
     "name": "stdout",
     "output_type": "stream",
     "text": [
      "[1, 5, 45, 27, 37, 11]\n"
     ]
    }
   ],
   "source": [
    "import random\n",
    "\n",
    "my_numbers = random.sample(range(1, 46), 6)\n",
    "print(my_numbers)"
   ]
  },
  {
   "cell_type": "code",
   "execution_count": null,
   "id": "55859f2f",
   "metadata": {},
   "outputs": [],
   "source": [
    "data = res.json()"
   ]
  },
  {
   "cell_type": "code",
   "execution_count": 52,
   "id": "ee52533a",
   "metadata": {},
   "outputs": [
    {
     "name": "stdout",
     "output_type": "stream",
     "text": [
      "[8, 10, 14, 20, 33, 41] 28\n",
      "꽝꽝\n"
     ]
    },
    {
     "data": {
      "text/plain": [
       "{10}"
      ]
     },
     "execution_count": 52,
     "metadata": {},
     "output_type": "execute_result"
    }
   ],
   "source": [
    "my_numbers, data\n",
    "\n",
    "# 0 랜덤한 내 로또 번호 생성 [24, 36, 44, 16, 34, 20]\n",
    "\n",
    "# 1 데이터에서 real_number를 뽑는다 \n",
    "real_numbers = [data[f'drwtNo{i}'] for i in range(1, 7)]\n",
    "bonus = data['bnusNo']\n",
    "print(real_numbers, bonus)\n",
    "# 2 real_number와 my_numbers를 비교해서 등수 확인\n",
    "\n",
    "# 1등 6개\n",
    "# 2등 5개 나머지 한개 보너스 번호\n",
    "# 3등 5개\n",
    "# 4등 4개\n",
    "# 5등 3개\n",
    "\n",
    "a = (set(real_numbers) & set(my_numbers))\n",
    "\n",
    "if a == 6:\n",
    "    print(1)\n",
    "elif a == 5 and bonus in my_numbers:\n",
    "    print(2)\n",
    "elif a == 5:\n",
    "    print(3)\n",
    "elif a == 4:\n",
    "    print(4)\n",
    "elif a == 3:\n",
    "    print(5)\n",
    "else:\n",
    "    print('꽝꽝')\n",
    "\n",
    "a"
   ]
  },
  {
   "cell_type": "code",
   "execution_count": 59,
   "id": "8ab41a29",
   "metadata": {},
   "outputs": [
    {
     "data": {
      "text/plain": [
       "'꽝꽝'"
      ]
     },
     "execution_count": 59,
     "metadata": {},
     "output_type": "execute_result"
    }
   ],
   "source": [
    "\n",
    "# 2 등수 뽑아주는 함수를 만들어보자\n",
    "\n",
    "def lotto(real_numbers, my_numbers, bonus):\n",
    "    a = (set(real_numbers) & set(my_numbers))\n",
    "\n",
    "    if a == 6:\n",
    "        b = 1\n",
    "    elif a == 5 and bonus in my_numbers:\n",
    "        b = 2\n",
    "    elif a == 5:\n",
    "        b = 3\n",
    "    elif a == 4:\n",
    "        b = 4\n",
    "    elif a == 3:\n",
    "        b = 1\n",
    "    else:\n",
    "        b = '꽝꽝'\n",
    "    return b\n",
    "\n",
    "lotto([1,2,3,4,5,6], [1,2,3,4,5,7], 6)\n"
   ]
  },
  {
   "cell_type": "code",
   "execution_count": 60,
   "id": "c83aff3d",
   "metadata": {},
   "outputs": [
    {
     "data": {
      "text/plain": [
       "'꽝꽝'"
      ]
     },
     "execution_count": 60,
     "metadata": {},
     "output_type": "execute_result"
    }
   ],
   "source": [
    "# 나눠져 있는 로또 함수 합쳐보기\n",
    "\n",
    "import requests\n",
    "import random\n",
    "\n",
    "URL = 'https://www.dhlottery.co.kr/common.do?method=getLottoNumber&drwNo=1181' #1181회 로또\n",
    "\n",
    "res = requests.get(URL)\n",
    "\n",
    "data = res.json()\n",
    "\n",
    "my_numbers = random.sample(range(1, 46), 6)\n",
    "real_numbers = [data[f'drwtNo{i}'] for i in range(1, 7)]\n",
    "bonus = data['bnusNo']\n",
    "\n",
    "def lotto(real_numbers, my_numbers, bonus):\n",
    "    a = (set(real_numbers) & set(my_numbers))\n",
    "\n",
    "    if a == 6:\n",
    "        b = 1\n",
    "    elif a == 5 and bonus in my_numbers:\n",
    "        b = 2\n",
    "    elif a == 5:\n",
    "        b = 3\n",
    "    elif a == 4:\n",
    "        b = 4\n",
    "    elif a == 3:\n",
    "        b = 1\n",
    "    else:\n",
    "        b = '꽝꽝'\n",
    "    return b\n",
    "\n",
    "lotto([1,2,3,4,5,6], [1,2,3,4,5,7], 6)\n"
   ]
  }
 ],
 "metadata": {
  "kernelspec": {
   "display_name": "Python 3",
   "language": "python",
   "name": "python3"
  },
  "language_info": {
   "codemirror_mode": {
    "name": "ipython",
    "version": 3
   },
   "file_extension": ".py",
   "mimetype": "text/x-python",
   "name": "python",
   "nbconvert_exporter": "python",
   "pygments_lexer": "ipython3",
   "version": "3.13.2"
  }
 },
 "nbformat": 4,
 "nbformat_minor": 5
}
