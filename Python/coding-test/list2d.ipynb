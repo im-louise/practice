{
 "cells": [
  {
   "cell_type": "markdown",
   "id": "716fe614",
   "metadata": {},
   "source": [
    "list 2D"
   ]
  },
  {
   "cell_type": "code",
   "execution_count": 1,
   "id": "dc83c659",
   "metadata": {},
   "outputs": [
    {
     "name": "stderr",
     "output_type": "stream",
     "text": [
      "<>:7: SyntaxWarning: list indices must be integers or slices, not tuple; perhaps you missed a comma?\n",
      "<>:7: SyntaxWarning: list indices must be integers or slices, not tuple; perhaps you missed a comma?\n",
      "C:\\Users\\samsung\\AppData\\Local\\Temp\\ipykernel_15444\\4043101694.py:7: SyntaxWarning: list indices must be integers or slices, not tuple; perhaps you missed a comma?\n",
      "  [1, 3, 3, 6, 7]\n"
     ]
    },
    {
     "ename": "TypeError",
     "evalue": "list indices must be integers or slices, not tuple",
     "output_type": "error",
     "traceback": [
      "\u001b[31m---------------------------------------------------------------------------\u001b[39m",
      "\u001b[31mTypeError\u001b[39m                                 Traceback (most recent call last)",
      "\u001b[36mCell\u001b[39m\u001b[36m \u001b[39m\u001b[32mIn[1]\u001b[39m\u001b[32m, line 7\u001b[39m\n\u001b[32m      1\u001b[39m N, M = \u001b[32m5\u001b[39m, \u001b[32m2\u001b[39m\n\u001b[32m      3\u001b[39m \u001b[38;5;66;03m# 5 * 5 판에서 2 * 2 부분 사각형의 요소 총합 최대값을 구하시오.\u001b[39;00m\n\u001b[32m      4\u001b[39m \u001b[38;5;66;03m# 무식하게 모두 비교한다.\u001b[39;00m\n\u001b[32m      6\u001b[39m board = [\n\u001b[32m----> \u001b[39m\u001b[32m7\u001b[39m     \u001b[43m[\u001b[49m\u001b[32;43m1\u001b[39;49m\u001b[43m,\u001b[49m\u001b[43m \u001b[49m\u001b[32;43m3\u001b[39;49m\u001b[43m,\u001b[49m\u001b[43m \u001b[49m\u001b[32;43m3\u001b[39;49m\u001b[43m,\u001b[49m\u001b[43m \u001b[49m\u001b[32;43m6\u001b[39;49m\u001b[43m,\u001b[49m\u001b[43m \u001b[49m\u001b[32;43m7\u001b[39;49m\u001b[43m]\u001b[49m\n\u001b[32m      8\u001b[39m \u001b[43m    \u001b[49m\u001b[43m[\u001b[49m\u001b[32;43m8\u001b[39;49m\u001b[43m,\u001b[49m\u001b[43m \u001b[49m\u001b[32;43m13\u001b[39;49m\u001b[43m,\u001b[49m\u001b[43m \u001b[49m\u001b[32;43m9\u001b[39;49m\u001b[43m,\u001b[49m\u001b[43m \u001b[49m\u001b[32;43m12\u001b[39;49m\u001b[43m,\u001b[49m\u001b[43m \u001b[49m\u001b[32;43m8\u001b[39;49m\u001b[43m]\u001b[49m\n\u001b[32m      9\u001b[39m     [\u001b[32m4\u001b[39m, \u001b[32m16\u001b[39m, \u001b[32m11\u001b[39m, \u001b[32m12\u001b[39m, \u001b[32m6\u001b[39m]\n\u001b[32m     10\u001b[39m     [\u001b[32m2\u001b[39m, \u001b[32m4\u001b[39m, \u001b[32m1\u001b[39m, \u001b[32m23\u001b[39m, \u001b[32m2\u001b[39m]\n\u001b[32m     11\u001b[39m     [\u001b[32m9\u001b[39m, \u001b[32m13\u001b[39m, \u001b[32m4\u001b[39m, \u001b[32m7\u001b[39m, \u001b[32m3\u001b[39m]\n\u001b[32m     12\u001b[39m ]\n",
      "\u001b[31mTypeError\u001b[39m: list indices must be integers or slices, not tuple"
     ]
    }
   ],
   "source": [
    "N, M = 5, 2\n",
    "\n",
    "# 5 * 5 판에서 2 * 2 부분 사각형의 요소 총합 최대값을 구하시오.\n",
    "# 무식하게 모두 비교한다.\n",
    "\n",
    "board = [\n",
    "    [1, 3, 3, 6, 7]\n",
    "    [8, 13, 9, 12, 8]\n",
    "    [4, 16, 11, 12, 6]\n",
    "    [2, 4, 1, 23, 2]\n",
    "    [9, 13, 4, 7, 3]\n",
    "]"
   ]
  },
  {
   "cell_type": "code",
   "execution_count": null,
   "id": "59f54ea1",
   "metadata": {},
   "outputs": [],
   "source": [
    "def sum_flies(r, c):\n",
    "    # 시작 idx 기준으로 M*M의 총합\n",
    "    total = 0\n",
    "    for i in range(M):\n",
    "        for j in range(M):\n",
    "            total += board[r+i][c+j]\n",
    "    return total\n",
    "\n",
    "sum_flies(0, 0)"
   ]
  },
  {
   "cell_type": "code",
   "execution_count": null,
   "id": "f49d76e3",
   "metadata": {},
   "outputs": [],
   "source": [
    "# 파리채의 시작(좌-상) index 만 골라줌\n",
    "maximum = 0\n",
    "for row in range(N-M+1):\n",
    "    for col in range(N-M+1):\n",
    "        total = sum_flies(row, col)\n",
    "        if maximum < total:\n",
    "            maximum = total\n",
    "print(maximum)"
   ]
  }
 ],
 "metadata": {
  "kernelspec": {
   "display_name": "Python 3",
   "language": "python",
   "name": "python3"
  },
  "language_info": {
   "codemirror_mode": {
    "name": "ipython",
    "version": 3
   },
   "file_extension": ".py",
   "mimetype": "text/x-python",
   "name": "python",
   "nbconvert_exporter": "python",
   "pygments_lexer": "ipython3",
   "version": "3.13.2"
  }
 },
 "nbformat": 4,
 "nbformat_minor": 5
}
