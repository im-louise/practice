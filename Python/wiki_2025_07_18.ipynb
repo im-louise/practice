{
 "cells": [
  {
   "cell_type": "code",
   "execution_count": null,
   "id": "38406d62",
   "metadata": {},
   "outputs": [],
   "source": [
    "# 11 삼성전자라는 변수로 50,000원을 바인딩해보세요. \n",
    "# 삼성전자 주식 10주를 보유하고 있을 때 총 평가금액을 출력하세요. \n",
    "samsung = 50000\n",
    "sum = samsung * 10\n",
    "print(sum)"
   ]
  },
  {
   "cell_type": "code",
   "execution_count": null,
   "id": "fcab6339",
   "metadata": {},
   "outputs": [],
   "source": [
    "# 12 다음 표는 삼성전자의 일부 투자정보입니다. \n",
    "# 변수를 사용해서 시가총액, 현재가, PER 등을 바인딩해보세요.\n",
    "시가총액 = 298000000000000\n",
    "현재가 = 50000\n",
    "PER = 15.79\n",
    "\n",
    "print(시가총액, type(시가총액))"
   ]
  },
  {
   "cell_type": "code",
   "execution_count": null,
   "id": "2deb8462",
   "metadata": {},
   "outputs": [],
   "source": [
    "# 13 변수 s와 t에는 각각 문자열이 바인딩 되어있습니다.\n",
    "s = \"hello\"\n",
    "t = \"python\"\n",
    "# 두 변수를 이용하여 아래와 같이 출력해보세요. hello! python\n",
    "print(s+'!', t)"
   ]
  },
  {
   "cell_type": "code",
   "execution_count": null,
   "id": "dc8ebdda",
   "metadata": {},
   "outputs": [],
   "source": [
    "# 14 아래 코드의 실행 결과를 예상해보세요.\n",
    "# >> 2 + 2 * 3 \n",
    "\n",
    "8"
   ]
  },
  {
   "cell_type": "code",
   "execution_count": null,
   "id": "443f37b1",
   "metadata": {},
   "outputs": [],
   "source": [
    "# 15 type() 함수는 데이터 타입을 판별합니다. \n",
    "# 변수 a에는 128 숫자가 바인딩돼 있어 type함수가 int(정수)형임을 알려줍니다.\n",
    "# a = 128\n",
    "# print (type(a))\n",
    "# <class 'int'>\n",
    "# 아래 변수에 바인딩된 값의 타입을 판별해보세요.\n",
    "a = \"132\"\n",
    "\n",
    "print(type(a))"
   ]
  },
  {
   "cell_type": "code",
   "execution_count": null,
   "id": "0d3d506b",
   "metadata": {},
   "outputs": [],
   "source": [
    "# 16 문자열 '720'를 정수형으로 변환해보세요.\n",
    "# num_str = \"720\"\n",
    "\n",
    "num_str = \"720\"\n",
    "num_int = int(num_str)\n",
    "num_int"
   ]
  },
  {
   "cell_type": "code",
   "execution_count": null,
   "id": "d8b3a258",
   "metadata": {},
   "outputs": [],
   "source": [
    "# 17 정수 100을 문자열 '100'으로 변환해보세요.\n",
    "\n",
    "num = 100\n",
    "num_str = str(num)\n",
    "print(num_str, type(num_str))"
   ]
  },
  {
   "cell_type": "code",
   "execution_count": null,
   "id": "15da1b4a",
   "metadata": {},
   "outputs": [],
   "source": [
    "# 18 문자열 \"15.79\"를 실수(float) 타입으로 변환해보세요.\n",
    "\n",
    "a = 15.79\n",
    "a = float(a)\n",
    "\n",
    "print(a, type(a))"
   ]
  },
  {
   "cell_type": "code",
   "execution_count": null,
   "id": "51b7a792",
   "metadata": {},
   "outputs": [],
   "source": [
    "# 19 year라는 변수가 문자열 타입의 연도를 바인딩하고 있습니다. \n",
    "# 이를 정수로 변환한 후 최근 3년의 연도를 화면에 출력해보세요.\n",
    "year = \"2020\"\n",
    "\n",
    "a = int(year)\n",
    "print(a - 1)\n",
    "print(a - 2)\n",
    "print(a - 3)\n",
    "#혹은\n",
    "\n",
    "print(int(year)-1);print(int(year)-2);print(int(year)-3)"
   ]
  },
  {
   "cell_type": "code",
   "execution_count": null,
   "id": "ec83dc90",
   "metadata": {},
   "outputs": [],
   "source": [
    "# 20 에이컨이 월 48,584원에 무이자 36개월의 조건으로 홈쇼핑에서 판매되고 있습니다. \n",
    "# 총 금액은 계산한 후 이를 화면에 출력해보세요. (변수사용하기)\n",
    "\n",
    "air = 48584\n",
    "sum = air * 36\n",
    "\n",
    "print(sum)"
   ]
  },
  {
   "cell_type": "code",
   "execution_count": null,
   "id": "086484ca",
   "metadata": {},
   "outputs": [],
   "source": []
  },
  {
   "cell_type": "code",
   "execution_count": null,
   "id": "7a024797",
   "metadata": {},
   "outputs": [],
   "source": []
  },
  {
   "cell_type": "code",
   "execution_count": null,
   "id": "82251395",
   "metadata": {},
   "outputs": [],
   "source": []
  },
  {
   "cell_type": "code",
   "execution_count": null,
   "id": "231fe11a",
   "metadata": {},
   "outputs": [],
   "source": []
  },
  {
   "cell_type": "code",
   "execution_count": null,
   "id": "38cd1ff2",
   "metadata": {},
   "outputs": [],
   "source": []
  },
  {
   "cell_type": "code",
   "execution_count": null,
   "id": "37c0d16a",
   "metadata": {},
   "outputs": [],
   "source": []
  },
  {
   "cell_type": "code",
   "execution_count": null,
   "id": "88f28c72",
   "metadata": {},
   "outputs": [],
   "source": []
  },
  {
   "cell_type": "code",
   "execution_count": null,
   "id": "7d359541",
   "metadata": {},
   "outputs": [],
   "source": []
  },
  {
   "cell_type": "code",
   "execution_count": null,
   "id": "174bd254",
   "metadata": {},
   "outputs": [],
   "source": []
  },
  {
   "cell_type": "code",
   "execution_count": null,
   "id": "eedc8865",
   "metadata": {},
   "outputs": [],
   "source": []
  },
  {
   "cell_type": "code",
   "execution_count": null,
   "id": "43d4d0f2",
   "metadata": {},
   "outputs": [],
   "source": []
  },
  {
   "cell_type": "code",
   "execution_count": null,
   "id": "231267df",
   "metadata": {},
   "outputs": [],
   "source": []
  },
  {
   "cell_type": "code",
   "execution_count": null,
   "id": "8d20488c",
   "metadata": {},
   "outputs": [],
   "source": []
  },
  {
   "cell_type": "code",
   "execution_count": null,
   "id": "38c8f68a",
   "metadata": {},
   "outputs": [],
   "source": []
  },
  {
   "cell_type": "code",
   "execution_count": null,
   "id": "4c81bbe1",
   "metadata": {},
   "outputs": [],
   "source": []
  },
  {
   "cell_type": "code",
   "execution_count": null,
   "id": "63a687b0",
   "metadata": {},
   "outputs": [],
   "source": []
  },
  {
   "cell_type": "code",
   "execution_count": null,
   "id": "f0c859e1",
   "metadata": {},
   "outputs": [],
   "source": []
  },
  {
   "cell_type": "code",
   "execution_count": null,
   "id": "210ba1c4",
   "metadata": {},
   "outputs": [],
   "source": []
  },
  {
   "cell_type": "code",
   "execution_count": null,
   "id": "f016720b",
   "metadata": {},
   "outputs": [],
   "source": []
  },
  {
   "cell_type": "code",
   "execution_count": null,
   "id": "d0c7edad",
   "metadata": {},
   "outputs": [],
   "source": []
  }
 ],
 "metadata": {
  "kernelspec": {
   "display_name": "Python 3",
   "language": "python",
   "name": "python3"
  },
  "language_info": {
   "codemirror_mode": {
    "name": "ipython",
    "version": 3
   },
   "file_extension": ".py",
   "mimetype": "text/x-python",
   "name": "python",
   "nbconvert_exporter": "python",
   "pygments_lexer": "ipython3",
   "version": "3.13.2"
  }
 },
 "nbformat": 4,
 "nbformat_minor": 5
}
