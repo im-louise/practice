{
 "cells": [
  {
   "cell_type": "markdown",
   "id": "914631f7",
   "metadata": {},
   "source": [
    "# 여기는 수업에서 배운 내용들 연습하는 공간"
   ]
  },
  {
   "cell_type": "code",
   "execution_count": 5,
   "id": "347a7d64",
   "metadata": {},
   "outputs": [
    {
     "name": "stdout",
     "output_type": "stream",
     "text": [
      "[[1, 2], [3, 4]] [[1, 2], [3, 4]]\n"
     ]
    },
    {
     "data": {
      "text/plain": [
       "(list, list)"
      ]
     },
     "execution_count": 5,
     "metadata": {},
     "output_type": "execute_result"
    }
   ],
   "source": [
    "import copy  # copy 사용하려면 먼저 이 기능을 넣어줘야 하는듯함\n",
    "\n",
    "l1 = [[1, 2],[3, 4]]\n",
    "l2 = l1\n",
    "l3 = l1[:]  #shallow copy 얕은 카피\n",
    "l4 = copy.deepcopy(l1)  # 찐 카피\n",
    "\n",
    "print(l3, l4)\n",
    "type(l1), type(l2)"
   ]
  },
  {
   "cell_type": "code",
   "execution_count": null,
   "id": "0ac4ea1a",
   "metadata": {},
   "outputs": [],
   "source": [
    "p1 {background-color: #ff0000;}                /* red in HEX format */\n",
    "p2 {background-color: hsl(120, 100%, 50%);}    /* green in HSL format */\n",
    "p3 {background-color: rgba(0, 4, 255, 0.733);} /* blue with alpha channel in RGBA format */"
   ]
  },
  {
   "cell_type": "markdown",
   "id": "30f60b2a",
   "metadata": {},
   "source": [
    "#p1 {background-color: #ff0000;}                /* red in HEX format */\n",
    "#p2 {background-color: hsl(120, 100%, 50%);}    /* green in HSL format */\n",
    "#p3 {background-color: rgba(0, 4, 255, 0.733);} /* blue with alpha channel in RGBA format */"
   ]
  }
 ],
 "metadata": {
  "kernelspec": {
   "display_name": "Python 3",
   "language": "python",
   "name": "python3"
  },
  "language_info": {
   "codemirror_mode": {
    "name": "ipython",
    "version": 3
   },
   "file_extension": ".py",
   "mimetype": "text/x-python",
   "name": "python",
   "nbconvert_exporter": "python",
   "pygments_lexer": "ipython3",
   "version": "3.13.2"
  }
 },
 "nbformat": 4,
 "nbformat_minor": 5
}
